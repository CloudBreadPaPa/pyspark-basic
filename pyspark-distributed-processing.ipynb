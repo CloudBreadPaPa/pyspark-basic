{
 "cells": [
  {
   "cell_type": "code",
   "execution_count": null,
   "metadata": {},
   "outputs": [],
   "source": [
    "# notebook code : \n",
    "# https://towardsdatascience.com/3-methods-for-parallelization-in-spark-6a1a4333b473"
   ]
  },
  {
   "cell_type": "code",
   "execution_count": 0,
   "metadata": {
    "application/vnd.databricks.v1+cell": {
     "inputWidgets": {},
     "nuid": "8147a95b-a267-4b15-bc77-c3db942400d1",
     "showTitle": false,
     "title": ""
    }
   },
   "outputs": [
    {
     "data": {
      "text/html": [
       "<style scoped>\n",
       "  .ansiout {\n",
       "    display: block;\n",
       "    unicode-bidi: embed;\n",
       "    white-space: pre-wrap;\n",
       "    word-wrap: break-word;\n",
       "    word-break: break-all;\n",
       "    font-family: \"Source Code Pro\", \"Menlo\", monospace;;\n",
       "    font-size: 13px;\n",
       "    color: #555;\n",
       "    margin-left: 4px;\n",
       "    line-height: 19px;\n",
       "  }\n",
       "</style>\n",
       "<div class=\"ansiout\">(506, 14)\n",
       "Out[1]: </div>"
      ]
     },
     "metadata": {
      "application/vnd.databricks.v1+output": {
       "addedWidgets": {},
       "arguments": {},
       "data": "<div class=\"ansiout\">(506, 14)\nOut[1]: </div>",
       "datasetInfos": [],
       "metadata": {},
       "removedWidgets": [],
       "type": "html"
      }
     },
     "output_type": "display_data"
    },
    {
     "data": {
      "text/html": [
       "<div>\n",
       "<style scoped>\n",
       "    .dataframe tbody tr th:only-of-type {\n",
       "        vertical-align: middle;\n",
       "    }\n",
       "\n",
       "    .dataframe tbody tr th {\n",
       "        vertical-align: top;\n",
       "    }\n",
       "\n",
       "    .dataframe thead th {\n",
       "        text-align: right;\n",
       "    }\n",
       "</style>\n",
       "<table border=\"1\" class=\"dataframe\">\n",
       "  <thead>\n",
       "    <tr style=\"text-align: right;\">\n",
       "      <th></th>\n",
       "      <th>CRIM</th>\n",
       "      <th>ZN</th>\n",
       "      <th>INDUS</th>\n",
       "      <th>CHAS</th>\n",
       "      <th>NOX</th>\n",
       "      <th>RM</th>\n",
       "      <th>AGE</th>\n",
       "      <th>DIS</th>\n",
       "      <th>RAD</th>\n",
       "      <th>TAX</th>\n",
       "      <th>PTRATIO</th>\n",
       "      <th>B</th>\n",
       "      <th>LSTAT</th>\n",
       "      <th>target</th>\n",
       "    </tr>\n",
       "  </thead>\n",
       "  <tbody>\n",
       "    <tr>\n",
       "      <th>170</th>\n",
       "      <td>1.20742</td>\n",
       "      <td>0.0</td>\n",
       "      <td>19.58</td>\n",
       "      <td>0.0</td>\n",
       "      <td>0.605</td>\n",
       "      <td>5.875</td>\n",
       "      <td>94.6</td>\n",
       "      <td>2.4259</td>\n",
       "      <td>5.0</td>\n",
       "      <td>403.0</td>\n",
       "      <td>14.7</td>\n",
       "      <td>292.29</td>\n",
       "      <td>14.43</td>\n",
       "      <td>17.4</td>\n",
       "    </tr>\n",
       "    <tr>\n",
       "      <th>56</th>\n",
       "      <td>0.02055</td>\n",
       "      <td>85.0</td>\n",
       "      <td>0.74</td>\n",
       "      <td>0.0</td>\n",
       "      <td>0.410</td>\n",
       "      <td>6.383</td>\n",
       "      <td>35.7</td>\n",
       "      <td>9.1876</td>\n",
       "      <td>2.0</td>\n",
       "      <td>313.0</td>\n",
       "      <td>17.3</td>\n",
       "      <td>396.90</td>\n",
       "      <td>5.77</td>\n",
       "      <td>24.7</td>\n",
       "    </tr>\n",
       "    <tr>\n",
       "      <th>407</th>\n",
       "      <td>11.95110</td>\n",
       "      <td>0.0</td>\n",
       "      <td>18.10</td>\n",
       "      <td>0.0</td>\n",
       "      <td>0.659</td>\n",
       "      <td>5.608</td>\n",
       "      <td>100.0</td>\n",
       "      <td>1.2852</td>\n",
       "      <td>24.0</td>\n",
       "      <td>666.0</td>\n",
       "      <td>20.2</td>\n",
       "      <td>332.09</td>\n",
       "      <td>12.13</td>\n",
       "      <td>27.9</td>\n",
       "    </tr>\n",
       "    <tr>\n",
       "      <th>131</th>\n",
       "      <td>1.19294</td>\n",
       "      <td>0.0</td>\n",
       "      <td>21.89</td>\n",
       "      <td>0.0</td>\n",
       "      <td>0.624</td>\n",
       "      <td>6.326</td>\n",
       "      <td>97.7</td>\n",
       "      <td>2.2710</td>\n",
       "      <td>4.0</td>\n",
       "      <td>437.0</td>\n",
       "      <td>21.2</td>\n",
       "      <td>396.90</td>\n",
       "      <td>12.26</td>\n",
       "      <td>19.6</td>\n",
       "    </tr>\n",
       "    <tr>\n",
       "      <th>92</th>\n",
       "      <td>0.04203</td>\n",
       "      <td>28.0</td>\n",
       "      <td>15.04</td>\n",
       "      <td>0.0</td>\n",
       "      <td>0.464</td>\n",
       "      <td>6.442</td>\n",
       "      <td>53.6</td>\n",
       "      <td>3.6659</td>\n",
       "      <td>4.0</td>\n",
       "      <td>270.0</td>\n",
       "      <td>18.2</td>\n",
       "      <td>395.01</td>\n",
       "      <td>8.16</td>\n",
       "      <td>22.9</td>\n",
       "    </tr>\n",
       "  </tbody>\n",
       "</table>\n",
       "</div>"
      ]
     },
     "metadata": {
      "application/vnd.databricks.v1+output": {
       "addedWidgets": {},
       "arguments": {},
       "data": "<div>\n<style scoped>\n    .dataframe tbody tr th:only-of-type {\n        vertical-align: middle;\n    }\n\n    .dataframe tbody tr th {\n        vertical-align: top;\n    }\n\n    .dataframe thead th {\n        text-align: right;\n    }\n</style>\n<table border=\"1\" class=\"dataframe\">\n  <thead>\n    <tr style=\"text-align: right;\">\n      <th></th>\n      <th>CRIM</th>\n      <th>ZN</th>\n      <th>INDUS</th>\n      <th>CHAS</th>\n      <th>NOX</th>\n      <th>RM</th>\n      <th>AGE</th>\n      <th>DIS</th>\n      <th>RAD</th>\n      <th>TAX</th>\n      <th>PTRATIO</th>\n      <th>B</th>\n      <th>LSTAT</th>\n      <th>target</th>\n    </tr>\n  </thead>\n  <tbody>\n    <tr>\n      <th>170</th>\n      <td>1.20742</td>\n      <td>0.0</td>\n      <td>19.58</td>\n      <td>0.0</td>\n      <td>0.605</td>\n      <td>5.875</td>\n      <td>94.6</td>\n      <td>2.4259</td>\n      <td>5.0</td>\n      <td>403.0</td>\n      <td>14.7</td>\n      <td>292.29</td>\n      <td>14.43</td>\n      <td>17.4</td>\n    </tr>\n    <tr>\n      <th>56</th>\n      <td>0.02055</td>\n      <td>85.0</td>\n      <td>0.74</td>\n      <td>0.0</td>\n      <td>0.410</td>\n      <td>6.383</td>\n      <td>35.7</td>\n      <td>9.1876</td>\n      <td>2.0</td>\n      <td>313.0</td>\n      <td>17.3</td>\n      <td>396.90</td>\n      <td>5.77</td>\n      <td>24.7</td>\n    </tr>\n    <tr>\n      <th>407</th>\n      <td>11.95110</td>\n      <td>0.0</td>\n      <td>18.10</td>\n      <td>0.0</td>\n      <td>0.659</td>\n      <td>5.608</td>\n      <td>100.0</td>\n      <td>1.2852</td>\n      <td>24.0</td>\n      <td>666.0</td>\n      <td>20.2</td>\n      <td>332.09</td>\n      <td>12.13</td>\n      <td>27.9</td>\n    </tr>\n    <tr>\n      <th>131</th>\n      <td>1.19294</td>\n      <td>0.0</td>\n      <td>21.89</td>\n      <td>0.0</td>\n      <td>0.624</td>\n      <td>6.326</td>\n      <td>97.7</td>\n      <td>2.2710</td>\n      <td>4.0</td>\n      <td>437.0</td>\n      <td>21.2</td>\n      <td>396.90</td>\n      <td>12.26</td>\n      <td>19.6</td>\n    </tr>\n    <tr>\n      <th>92</th>\n      <td>0.04203</td>\n      <td>28.0</td>\n      <td>15.04</td>\n      <td>0.0</td>\n      <td>0.464</td>\n      <td>6.442</td>\n      <td>53.6</td>\n      <td>3.6659</td>\n      <td>4.0</td>\n      <td>270.0</td>\n      <td>18.2</td>\n      <td>395.01</td>\n      <td>8.16</td>\n      <td>22.9</td>\n    </tr>\n  </tbody>\n</table>\n</div>",
       "datasetInfos": [],
       "metadata": {},
       "removedWidgets": [],
       "textData": null,
       "type": "htmlSandbox"
      }
     },
     "output_type": "display_data"
    }
   ],
   "source": [
    "# single thread\n",
    "import numpy as np\n",
    "import pandas as pd\n",
    "\n",
    "# load the boston data set\n",
    "from sklearn.datasets import load_boston\n",
    "boston = load_boston()\n",
    "\n",
    "# convert to a Pandas Data Frame\n",
    "boston_pd = pd.DataFrame(data= np.c_[boston['data'],boston['target']], \n",
    "              columns= np.append(boston['feature_names'], 'target')).sample(frac=1)\n",
    "print(boston_pd.shape)\n",
    "boston_pd.head(5)\n"
   ]
  },
  {
   "cell_type": "code",
   "execution_count": 0,
   "metadata": {
    "application/vnd.databricks.v1+cell": {
     "inputWidgets": {},
     "nuid": "8e303910-a1bf-41ef-96b0-1b1c98ad0fdd",
     "showTitle": false,
     "title": ""
    }
   },
   "outputs": [
    {
     "data": {
      "text/html": [
       "<style scoped>\n",
       "  .ansiout {\n",
       "    display: block;\n",
       "    unicode-bidi: embed;\n",
       "    white-space: pre-wrap;\n",
       "    word-wrap: break-word;\n",
       "    word-break: break-all;\n",
       "    font-family: \"Source Code Pro\", \"Menlo\", monospace;;\n",
       "    font-size: 13px;\n",
       "    color: #555;\n",
       "    margin-left: 4px;\n",
       "    line-height: 19px;\n",
       "  }\n",
       "</style>\n",
       "<div class=\"ansiout\">R-sqaured: 0.7281601989949072\n",
       "MAE: 3.140848555248949\n",
       "</div>"
      ]
     },
     "metadata": {
      "application/vnd.databricks.v1+output": {
       "addedWidgets": {},
       "arguments": {},
       "data": "<div class=\"ansiout\">R-sqaured: 0.7281601989949072\nMAE: 3.140848555248949\n</div>",
       "datasetInfos": [],
       "metadata": {},
       "removedWidgets": [],
       "type": "html"
      }
     },
     "output_type": "display_data"
    }
   ],
   "source": [
    "# split dataset and run LinearRegression \n",
    "from sklearn.linear_model import LinearRegression\n",
    "from scipy.stats.stats import pearsonr\n",
    "\n",
    "# split into data and label arrays \n",
    "y = boston_pd['target']\n",
    "X = boston_pd.drop(['target'], axis=1)\n",
    "\n",
    "# create training (~80%) and test data sets\n",
    "X_train = X[:400]\n",
    "X_test = X[400:]\n",
    "y_train = y[:400]\n",
    "y_test = y[400:]\n",
    "\n",
    "# train a classifier \n",
    "lr = LinearRegression()\n",
    "model = lr.fit(X_train, y_train)\n",
    "\n",
    "# make predictions\n",
    "y_pred = model.predict(X_test)\n",
    "\n",
    "# error metrics\n",
    "r = pearsonr(y_pred, y_test)\n",
    "mae = sum(abs(y_pred - y_test))/len(y_test)\n",
    "print(\"R-sqaured: \" + str(r[0]**2))\n",
    "print(\"MAE: \" + str(mae))"
   ]
  },
  {
   "cell_type": "code",
   "execution_count": 0,
   "metadata": {
    "application/vnd.databricks.v1+cell": {
     "inputWidgets": {},
     "nuid": "2e22e346-5df0-4d3f-86cf-558e17cd30f0",
     "showTitle": false,
     "title": ""
    }
   },
   "outputs": [
    {
     "data": {
      "text/html": [
       "<style scoped>\n",
       "  .ansiout {\n",
       "    display: block;\n",
       "    unicode-bidi: embed;\n",
       "    white-space: pre-wrap;\n",
       "    word-wrap: break-word;\n",
       "    word-break: break-all;\n",
       "    font-family: \"Source Code Pro\", \"Menlo\", monospace;;\n",
       "    font-size: 13px;\n",
       "    color: #555;\n",
       "    margin-left: 4px;\n",
       "    line-height: 19px;\n",
       "  }\n",
       "</style>\n",
       "<div class=\"ansiout\"></div>"
      ]
     },
     "metadata": {
      "application/vnd.databricks.v1+output": {
       "addedWidgets": {},
       "arguments": {},
       "data": "<div class=\"ansiout\"></div>",
       "datasetInfos": [],
       "metadata": {},
       "removedWidgets": [],
       "type": "html"
      }
     },
     "output_type": "display_data"
    }
   ],
   "source": [
    "from pyspark.sql import SparkSession\n",
    "from pyspark import SparkContext\n",
    "\n",
    "spark = SparkSession.builder \\\n",
    "    .master(\"local\") \\\n",
    "    .appName(\"Spark ML\") \\\n",
    "    .getOrCreate()\n",
    "\n",
    "sc = SparkContext.getOrCreate()"
   ]
  },
  {
   "cell_type": "code",
   "execution_count": 0,
   "metadata": {
    "application/vnd.databricks.v1+cell": {
     "inputWidgets": {},
     "nuid": "4faea8ec-df82-468a-a67b-7b2bcbed19ea",
     "showTitle": false,
     "title": ""
    }
   },
   "outputs": [
    {
     "data": {
      "text/html": [
       "<style scoped>\n",
       "  .table-result-container {\n",
       "    max-height: 300px;\n",
       "    overflow: auto;\n",
       "  }\n",
       "  table, th, td {\n",
       "    border: 1px solid black;\n",
       "    border-collapse: collapse;\n",
       "  }\n",
       "  th, td {\n",
       "    padding: 5px;\n",
       "  }\n",
       "  th {\n",
       "    text-align: left;\n",
       "  }\n",
       "</style><div class='table-result-container'><table class='table-result'><thead style='background-color: white'><tr><th>CRIM</th><th>ZN</th><th>INDUS</th><th>CHAS</th><th>NOX</th><th>RM</th><th>AGE</th><th>DIS</th><th>RAD</th><th>TAX</th><th>PTRATIO</th><th>B</th><th>LSTAT</th><th>target</th></tr></thead><tbody><tr><td>1.20742</td><td>0.0</td><td>19.58</td><td>0.0</td><td>0.605</td><td>5.875</td><td>94.6</td><td>2.4259</td><td>5.0</td><td>403.0</td><td>14.7</td><td>292.29</td><td>14.43</td><td>17.4</td></tr><tr><td>0.02055</td><td>85.0</td><td>0.74</td><td>0.0</td><td>0.41</td><td>6.383</td><td>35.7</td><td>9.1876</td><td>2.0</td><td>313.0</td><td>17.3</td><td>396.9</td><td>5.77</td><td>24.7</td></tr><tr><td>11.9511</td><td>0.0</td><td>18.1</td><td>0.0</td><td>0.659</td><td>5.608</td><td>100.0</td><td>1.2852</td><td>24.0</td><td>666.0</td><td>20.2</td><td>332.09</td><td>12.13</td><td>27.9</td></tr><tr><td>1.19294</td><td>0.0</td><td>21.89</td><td>0.0</td><td>0.624</td><td>6.326</td><td>97.7</td><td>2.271</td><td>4.0</td><td>437.0</td><td>21.2</td><td>396.9</td><td>12.26</td><td>19.6</td></tr><tr><td>0.04203</td><td>28.0</td><td>15.04</td><td>0.0</td><td>0.464</td><td>6.442</td><td>53.6</td><td>3.6659</td><td>4.0</td><td>270.0</td><td>18.2</td><td>395.01</td><td>8.16</td><td>22.9</td></tr></tbody></table></div>"
      ]
     },
     "metadata": {
      "application/vnd.databricks.v1+output": {
       "addedWidgets": {},
       "aggData": [],
       "aggError": "",
       "aggOverflow": false,
       "aggSchema": [],
       "aggSeriesLimitReached": false,
       "aggType": "",
       "arguments": {},
       "columnCustomDisplayInfos": {},
       "data": [
        [
         1.20742,
         0,
         19.58,
         0,
         0.605,
         5.875,
         94.6,
         2.4259,
         5,
         403,
         14.7,
         292.29,
         14.43,
         17.4
        ],
        [
         0.02055,
         85,
         0.74,
         0,
         0.41,
         6.383,
         35.7,
         9.1876,
         2,
         313,
         17.3,
         396.9,
         5.77,
         24.7
        ],
        [
         11.9511,
         0,
         18.1,
         0,
         0.659,
         5.608,
         100,
         1.2852,
         24,
         666,
         20.2,
         332.09,
         12.13,
         27.9
        ],
        [
         1.19294,
         0,
         21.89,
         0,
         0.624,
         6.326,
         97.7,
         2.271,
         4,
         437,
         21.2,
         396.9,
         12.26,
         19.6
        ],
        [
         0.04203,
         28,
         15.04,
         0,
         0.464,
         6.442,
         53.6,
         3.6659,
         4,
         270,
         18.2,
         395.01,
         8.16,
         22.9
        ]
       ],
       "datasetInfos": [],
       "dbfsResultPath": null,
       "isJsonSchema": true,
       "metadata": {},
       "overflow": false,
       "plotOptions": {
        "customPlotOptions": {},
        "displayType": "table",
        "pivotAggregation": null,
        "pivotColumns": null,
        "xColumns": null,
        "yColumns": null
       },
       "removedWidgets": [],
       "schema": [
        {
         "metadata": "{}",
         "name": "CRIM",
         "type": "\"double\""
        },
        {
         "metadata": "{}",
         "name": "ZN",
         "type": "\"double\""
        },
        {
         "metadata": "{}",
         "name": "INDUS",
         "type": "\"double\""
        },
        {
         "metadata": "{}",
         "name": "CHAS",
         "type": "\"double\""
        },
        {
         "metadata": "{}",
         "name": "NOX",
         "type": "\"double\""
        },
        {
         "metadata": "{}",
         "name": "RM",
         "type": "\"double\""
        },
        {
         "metadata": "{}",
         "name": "AGE",
         "type": "\"double\""
        },
        {
         "metadata": "{}",
         "name": "DIS",
         "type": "\"double\""
        },
        {
         "metadata": "{}",
         "name": "RAD",
         "type": "\"double\""
        },
        {
         "metadata": "{}",
         "name": "TAX",
         "type": "\"double\""
        },
        {
         "metadata": "{}",
         "name": "PTRATIO",
         "type": "\"double\""
        },
        {
         "metadata": "{}",
         "name": "B",
         "type": "\"double\""
        },
        {
         "metadata": "{}",
         "name": "LSTAT",
         "type": "\"double\""
        },
        {
         "metadata": "{}",
         "name": "target",
         "type": "\"double\""
        }
       ],
       "type": "table"
      }
     },
     "output_type": "display_data"
    },
    {
     "data": {
      "text/html": [
       "<style scoped>\n",
       "  .table-result-container {\n",
       "    max-height: 300px;\n",
       "    overflow: auto;\n",
       "  }\n",
       "  table, th, td {\n",
       "    border: 1px solid black;\n",
       "    border-collapse: collapse;\n",
       "  }\n",
       "  th, td {\n",
       "    padding: 5px;\n",
       "  }\n",
       "  th {\n",
       "    text-align: left;\n",
       "  }\n",
       "</style><div class='table-result-container'><table class='table-result'><thead style='background-color: white'><tr><th>features</th><th>target</th></tr></thead><tbody><tr><td>Map(vectorType -> dense, length -> 13, values -> List(1.20742, 0.0, 19.58, 0.0, 0.605, 5.875, 94.6, 2.4259, 5.0, 403.0, 14.7, 292.29, 14.43))</td><td>17.4</td></tr><tr><td>Map(vectorType -> dense, length -> 13, values -> List(0.02055, 85.0, 0.74, 0.0, 0.41, 6.383, 35.7, 9.1876, 2.0, 313.0, 17.3, 396.9, 5.77))</td><td>24.7</td></tr><tr><td>Map(vectorType -> dense, length -> 13, values -> List(11.9511, 0.0, 18.1, 0.0, 0.659, 5.608, 100.0, 1.2852, 24.0, 666.0, 20.2, 332.09, 12.13))</td><td>27.9</td></tr><tr><td>Map(vectorType -> dense, length -> 13, values -> List(1.19294, 0.0, 21.89, 0.0, 0.624, 6.326, 97.7, 2.271, 4.0, 437.0, 21.2, 396.9, 12.26))</td><td>19.6</td></tr><tr><td>Map(vectorType -> dense, length -> 13, values -> List(0.04203, 28.0, 15.04, 0.0, 0.464, 6.442, 53.6, 3.6659, 4.0, 270.0, 18.2, 395.01, 8.16))</td><td>22.9</td></tr></tbody></table></div>"
      ]
     },
     "metadata": {
      "application/vnd.databricks.v1+output": {
       "addedWidgets": {},
       "aggData": [],
       "aggError": "",
       "aggOverflow": false,
       "aggSchema": [],
       "aggSeriesLimitReached": false,
       "aggType": "",
       "arguments": {},
       "columnCustomDisplayInfos": {},
       "data": [
        [
         {
          "length": 13,
          "values": [
           1.20742,
           0,
           19.58,
           0,
           0.605,
           5.875,
           94.6,
           2.4259,
           5,
           403,
           14.7,
           292.29,
           14.43
          ],
          "vectorType": "dense"
         },
         17.4
        ],
        [
         {
          "length": 13,
          "values": [
           0.02055,
           85,
           0.74,
           0,
           0.41,
           6.383,
           35.7,
           9.1876,
           2,
           313,
           17.3,
           396.9,
           5.77
          ],
          "vectorType": "dense"
         },
         24.7
        ],
        [
         {
          "length": 13,
          "values": [
           11.9511,
           0,
           18.1,
           0,
           0.659,
           5.608,
           100,
           1.2852,
           24,
           666,
           20.2,
           332.09,
           12.13
          ],
          "vectorType": "dense"
         },
         27.9
        ],
        [
         {
          "length": 13,
          "values": [
           1.19294,
           0,
           21.89,
           0,
           0.624,
           6.326,
           97.7,
           2.271,
           4,
           437,
           21.2,
           396.9,
           12.26
          ],
          "vectorType": "dense"
         },
         19.6
        ],
        [
         {
          "length": 13,
          "values": [
           0.04203,
           28,
           15.04,
           0,
           0.464,
           6.442,
           53.6,
           3.6659,
           4,
           270,
           18.2,
           395.01,
           8.16
          ],
          "vectorType": "dense"
         },
         22.9
        ]
       ],
       "datasetInfos": [],
       "dbfsResultPath": null,
       "isJsonSchema": true,
       "metadata": {},
       "overflow": false,
       "plotOptions": {
        "customPlotOptions": {},
        "displayType": "table",
        "pivotAggregation": null,
        "pivotColumns": null,
        "xColumns": null,
        "yColumns": null
       },
       "removedWidgets": [],
       "schema": [
        {
         "metadata": "{}",
         "name": "features",
         "type": "{\"type\":\"udt\",\"class\":\"org.apache.spark.ml.linalg.VectorUDT\",\"pyClass\":\"pyspark.ml.linalg.VectorUDT\",\"sqlType\":{\"type\":\"struct\",\"fields\":[{\"name\":\"type\",\"type\":\"byte\",\"nullable\":false,\"metadata\":{}},{\"name\":\"size\",\"type\":\"integer\",\"nullable\":true,\"metadata\":{}},{\"name\":\"indices\",\"type\":{\"type\":\"array\",\"elementType\":\"integer\",\"containsNull\":false},\"nullable\":true,\"metadata\":{}},{\"name\":\"values\",\"type\":{\"type\":\"array\",\"elementType\":\"double\",\"containsNull\":false},\"nullable\":true,\"metadata\":{}}]}}"
        },
        {
         "metadata": "{}",
         "name": "target",
         "type": "\"double\""
        }
       ],
       "type": "table"
      }
     },
     "output_type": "display_data"
    }
   ],
   "source": [
    "# Native spark\n",
    "from pyspark.ml.feature import VectorAssembler\n",
    "\n",
    "# convert to a Spark data frame\n",
    "boston_sp = spark.createDataFrame(boston_pd)\n",
    "display(boston_sp.take(5))\n",
    "\n",
    "# split into training and test spark data frames\n",
    "boston_train = spark.createDataFrame(boston_pd[:400])\n",
    "boston_test = spark.createDataFrame(boston_pd[400:])\n",
    "\n",
    "# convert to vector representation for MLlib\n",
    "assembler = VectorAssembler(inputCols= boston_train.schema.names[:(boston_pd.shape[1] - 1)],  \n",
    "                                                                        outputCol=\"features\" )\n",
    "boston_train = assembler.transform(boston_train).select('features', 'target') \n",
    "boston_test = assembler.transform(boston_test).select('features', 'target') \n",
    "\n",
    "display(boston_train.take(5))\n"
   ]
  },
  {
   "cell_type": "code",
   "execution_count": 0,
   "metadata": {
    "application/vnd.databricks.v1+cell": {
     "inputWidgets": {},
     "nuid": "65e43a47-b852-42e7-8df4-37ed97faf025",
     "showTitle": false,
     "title": ""
    }
   },
   "outputs": [
    {
     "data": {
      "text/html": [
       "<style scoped>\n",
       "  .ansiout {\n",
       "    display: block;\n",
       "    unicode-bidi: embed;\n",
       "    white-space: pre-wrap;\n",
       "    word-wrap: break-word;\n",
       "    word-break: break-all;\n",
       "    font-family: \"Source Code Pro\", \"Menlo\", monospace;;\n",
       "    font-size: 13px;\n",
       "    color: #555;\n",
       "    margin-left: 4px;\n",
       "    line-height: 19px;\n",
       "  }\n",
       "</style>\n",
       "<div class=\"ansiout\">R-sqaured: 0.7310602035812269\n",
       "</div>"
      ]
     },
     "metadata": {
      "application/vnd.databricks.v1+output": {
       "addedWidgets": {},
       "arguments": {},
       "data": "<div class=\"ansiout\">R-sqaured: 0.7310602035812269\n</div>",
       "datasetInfos": [],
       "metadata": {},
       "removedWidgets": [],
       "type": "html"
      }
     },
     "output_type": "display_data"
    }
   ],
   "source": [
    "# linear regresion with Spark\n",
    "from pyspark.ml.regression import LinearRegression\n",
    "\n",
    "# linear regression \n",
    "lr = LinearRegression(maxIter=100, regParam=0.1, \n",
    "                      elasticNetParam=0.5, labelCol=\"target\")\n",
    "\n",
    "# Fit the model\n",
    "model = lr.fit(boston_train)\n",
    "boston_pred = model.transform(boston_test)\n",
    "\n",
    "# calculate results \n",
    "r = boston_pred.stat.corr(\"prediction\", \"target\")\n",
    "print(\"R-sqaured: \" + str(r**2))"
   ]
  },
  {
   "cell_type": "code",
   "execution_count": 0,
   "metadata": {
    "application/vnd.databricks.v1+cell": {
     "inputWidgets": {},
     "nuid": "246c4302-78d2-46bd-be55-fab83b4c7e8d",
     "showTitle": false,
     "title": ""
    }
   },
   "outputs": [
    {
     "data": {
      "text/html": [
       "<style scoped>\n",
       "  .ansiout {\n",
       "    display: block;\n",
       "    unicode-bidi: embed;\n",
       "    white-space: pre-wrap;\n",
       "    word-wrap: break-word;\n",
       "    word-break: break-all;\n",
       "    font-family: \"Source Code Pro\", \"Menlo\", monospace;;\n",
       "    font-size: 13px;\n",
       "    color: #555;\n",
       "    margin-left: 4px;\n",
       "    line-height: 19px;\n",
       "  }\n",
       "</style>\n",
       "<div class=\"ansiout\">R-sqaured: 0.7310602035812269\n",
       "</div>"
      ]
     },
     "metadata": {
      "application/vnd.databricks.v1+output": {
       "addedWidgets": {},
       "arguments": {},
       "data": "<div class=\"ansiout\">R-sqaured: 0.7310602035812269\n</div>",
       "datasetInfos": [],
       "metadata": {},
       "removedWidgets": [],
       "type": "html"
      }
     },
     "output_type": "display_data"
    }
   ],
   "source": [
    "# linear regresion with Spark\n",
    "from pyspark.ml.regression import LinearRegression\n",
    "\n",
    "# linear regression \n",
    "lr = LinearRegression(maxIter=100, regParam=0.1, \n",
    "                      elasticNetParam=0.5, labelCol=\"target\")\n",
    "\n",
    "# Fit the model\n",
    "model = lr.fit(boston_train)\n",
    "boston_pred = model.transform(boston_test)\n",
    "\n",
    "# calculate results \n",
    "r = boston_pred.stat.corr(\"prediction\", \"target\")\n",
    "print(\"R-sqaured: \" + str(r**2))"
   ]
  },
  {
   "cell_type": "code",
   "execution_count": 0,
   "metadata": {
    "application/vnd.databricks.v1+cell": {
     "inputWidgets": {},
     "nuid": "f8b0521c-d1bf-4eb7-95b3-af90ef78758e",
     "showTitle": false,
     "title": ""
    }
   },
   "outputs": [
    {
     "data": {
      "text/html": [
       "<style scoped>\n",
       "  .ansiout {\n",
       "    display: block;\n",
       "    unicode-bidi: embed;\n",
       "    white-space: pre-wrap;\n",
       "    word-wrap: break-word;\n",
       "    word-break: break-all;\n",
       "    font-family: \"Source Code Pro\", \"Menlo\", monospace;;\n",
       "    font-size: 13px;\n",
       "    color: #555;\n",
       "    margin-left: 4px;\n",
       "    line-height: 19px;\n",
       "  }\n",
       "</style>\n",
       "<div class=\"ansiout\">R-sqaured: 0.728160198994904\n",
       "</div>"
      ]
     },
     "metadata": {
      "application/vnd.databricks.v1+output": {
       "addedWidgets": {},
       "arguments": {},
       "data": "<div class=\"ansiout\">R-sqaured: 0.728160198994904\n</div>",
       "datasetInfos": [],
       "metadata": {},
       "removedWidgets": [],
       "type": "html"
      }
     },
     "output_type": "display_data"
    }
   ],
   "source": [
    "from pyspark.ml.tuning import CrossValidator, ParamGridBuilder\n",
    "from pyspark.ml.evaluation import RegressionEvaluator\n",
    "\n",
    "crossval = CrossValidator(estimator=LinearRegression(labelCol = \"target\"),  \n",
    "                         estimatorParamMaps=ParamGridBuilder().addGrid(\n",
    "                           LinearRegression.elasticNetParam, [0, 0.5, 1.0]).build(),\n",
    "                         evaluator=RegressionEvaluator(\n",
    "                           labelCol = \"target\", metricName = \"r2\"),\n",
    "                         numFolds=10)\n",
    "\n",
    "# cross validate the model and select the best fit\n",
    "cvModel = crossval.fit(boston_train) \n",
    "model = cvModel.bestModel\n",
    "\n",
    "# calculate results \n",
    "boston_pred = model.transform(boston_test)\n",
    "r = boston_pred.stat.corr(\"prediction\", \"target\")\n",
    "print(\"R-sqaured: \" + str(r**2))"
   ]
  },
  {
   "cell_type": "code",
   "execution_count": 0,
   "metadata": {
    "application/vnd.databricks.v1+cell": {
     "inputWidgets": {},
     "nuid": "b4398d55-0311-4893-838a-fd7635986b85",
     "showTitle": false,
     "title": ""
    }
   },
   "outputs": [],
   "source": []
  }
 ],
 "metadata": {
  "application/vnd.databricks.v1+notebook": {
   "dashboards": [],
   "language": "python",
   "notebookMetadata": {
    "pythonIndentUnit": 2
   },
   "notebookName": "pyspark-test",
   "notebookOrigID": 3413770210206463,
   "widgets": {}
  },
  "kernelspec": {
   "display_name": "Python 3 (ipykernel)",
   "language": "python",
   "name": "python3"
  },
  "language_info": {
   "codemirror_mode": {
    "name": "ipython",
    "version": 3
   },
   "file_extension": ".py",
   "mimetype": "text/x-python",
   "name": "python",
   "nbconvert_exporter": "python",
   "pygments_lexer": "ipython3",
   "version": "3.8.11"
  }
 },
 "nbformat": 4,
 "nbformat_minor": 1
}
