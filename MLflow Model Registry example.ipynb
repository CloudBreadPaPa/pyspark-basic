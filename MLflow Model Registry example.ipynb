{
 "cells": [
  {
   "cell_type": "markdown",
   "metadata": {
    "application/vnd.databricks.v1+cell": {
     "inputWidgets": {},
     "nuid": "50128bea-61d8-44e6-96da-399a5fa7d957",
     "showTitle": false,
     "title": ""
    }
   },
   "source": [
    "# Overview\n",
    "The MLflow Model Registry component is a centralized model store, set of APIs, and UI, to collaboratively manage the full lifecycle of MLflow Models. It provides model lineage (which MLflow Experiment and Run produced the model), model versioning, stage transitions, annotations, and deployment management.\n",
    "\n",
    "In this notebook, you use each of the MLflow Model Registry's components to develop and manage a production machine learning application. This notebook covers the following topics:\n",
    "\n",
    "- Track and log models with MLflow\n",
    "- Register models with the Model Registry\n",
    "- Describe models and make model version stage transitions\n",
    "- Integrate registered models with production applications\n",
    "- Search and discover models in the Model Registry\n",
    "- Archive and delete models\n",
    "\n",
    "## Requirements\n",
    "- A cluster running Databricks Runtime 6.4 ML or above. Note that if your cluster is running Databricks Runtime 6.4 ML, you must upgrade the installed version of MLflow to 1.7.0. You can install this version from PyPI. See ([AWS](https://docs.databricks.com/libraries/cluster-libraries.html#cluster-installed-library)|[Azure](https://docs.microsoft.com/azure/databricks/libraries/cluster-libraries#cluster-installed-library)) for instructions."
   ]
  },
  {
   "cell_type": "markdown",
   "metadata": {
    "application/vnd.databricks.v1+cell": {
     "inputWidgets": {},
     "nuid": "850bb475-2a01-4df2-adaa-2cd0af46926b",
     "showTitle": false,
     "title": ""
    }
   },
   "source": [
    "# Machine learning application: Forecasting wind power\n",
    "\n",
    "In this notebook, you use the MLflow Model Registry to build a machine learning application that forecasts the daily power output of a [wind farm](https://en.wikipedia.org/wiki/Wind_farm). Wind farm power output depends on weather conditions: generally, more energy is produced at higher wind speeds. Accordingly, the machine learning models used in the notebook predict power output based on weather forecasts with three features: `wind direction`, `wind speed`, and `air temperature`."
   ]
  },
  {
   "cell_type": "markdown",
   "metadata": {
    "application/vnd.databricks.v1+cell": {
     "inputWidgets": {},
     "nuid": "4a81b228-5b9b-40ba-9283-eb44cb1a56e2",
     "showTitle": false,
     "title": ""
    }
   },
   "source": [
    "*This notebook uses altered data from the [National WIND Toolkit dataset](https://www.nrel.gov/grid/wind-toolkit.html) provided by NREL, which is publicly available and cited as follows:*\n",
    "\n",
    "*Draxl, C., B.M. Hodge, A. Clifton, and J. McCaa. 2015. Overview and Meteorological Validation of the Wind Integration National Dataset Toolkit (Technical Report, NREL/TP-5000-61740). Golden, CO: National Renewable Energy Laboratory.*\n",
    "\n",
    "*Draxl, C., B.M. Hodge, A. Clifton, and J. McCaa. 2015. \"The Wind Integration National Dataset (WIND) Toolkit.\" Applied Energy 151: 355366.*\n",
    "\n",
    "*Lieberman-Cribbin, W., C. Draxl, and A. Clifton. 2014. Guide to Using the WIND Toolkit Validation Code (Technical Report, NREL/TP-5000-62595). Golden, CO: National Renewable Energy Laboratory.*\n",
    "\n",
    "*King, J., A. Clifton, and B.M. Hodge. 2014. Validation of Power Output for the WIND Toolkit (Technical Report, NREL/TP-5D00-61714). Golden, CO: National Renewable Energy Laboratory.*"
   ]
  },
  {
   "cell_type": "markdown",
   "metadata": {
    "application/vnd.databricks.v1+cell": {
     "inputWidgets": {},
     "nuid": "7cd356c6-d552-4a4d-885a-83f4c392b105",
     "showTitle": false,
     "title": ""
    }
   },
   "source": [
    "## Load the dataset\n",
    "\n",
    "The following cells load a dataset containing weather data and power output information for a wind farm in the United States. The dataset contains `wind direction`, `wind speed`, and `air temperature` features sampled every eight hours (once at `00:00`, once at `08:00`, and once at `16:00`), as well as daily aggregate power output (`power`), over several years."
   ]
  },
  {
   "cell_type": "code",
   "execution_count": 0,
   "metadata": {
    "application/vnd.databricks.v1+cell": {
     "inputWidgets": {},
     "nuid": "f6aca5c9-f2f8-4ef3-a0d1-a390694a4954",
     "showTitle": false,
     "title": ""
    }
   },
   "outputs": [
    {
     "data": {
      "text/html": [
       "<style scoped>\n",
       "  .ansiout {\n",
       "    display: block;\n",
       "    unicode-bidi: embed;\n",
       "    white-space: pre-wrap;\n",
       "    word-wrap: break-word;\n",
       "    word-break: break-all;\n",
       "    font-family: \"Source Code Pro\", \"Menlo\", monospace;;\n",
       "    font-size: 13px;\n",
       "    color: #555;\n",
       "    margin-left: 4px;\n",
       "    line-height: 19px;\n",
       "  }\n",
       "</style>\n",
       "<div class=\"ansiout\"></div>"
      ]
     },
     "metadata": {
      "application/vnd.databricks.v1+output": {
       "addedWidgets": {},
       "arguments": {},
       "data": "<div class=\"ansiout\"></div>",
       "datasetInfos": [],
       "metadata": {},
       "removedWidgets": [],
       "type": "html"
      }
     },
     "output_type": "display_data"
    }
   ],
   "source": [
    "import pandas as pd\n",
    "wind_farm_data = pd.read_csv(\"https://github.com/dbczumar/model-registry-demo-notebook/raw/master/dataset/windfarm_data.csv\", index_col=0)\n",
    "\n",
    "def get_training_data():\n",
    "  training_data = pd.DataFrame(wind_farm_data[\"2014-01-01\":\"2018-01-01\"])\n",
    "  X = training_data.drop(columns=\"power\")\n",
    "  y = training_data[\"power\"]\n",
    "  return X, y\n",
    "\n",
    "def get_validation_data():\n",
    "  validation_data = pd.DataFrame(wind_farm_data[\"2018-01-01\":\"2019-01-01\"])\n",
    "  X = validation_data.drop(columns=\"power\")\n",
    "  y = validation_data[\"power\"]\n",
    "  return X, y\n",
    "\n",
    "def get_weather_and_forecast():\n",
    "  format_date = lambda pd_date : pd_date.date().strftime(\"%Y-%m-%d\")\n",
    "  today = pd.Timestamp('today').normalize()\n",
    "  week_ago = today - pd.Timedelta(days=5)\n",
    "  week_later = today + pd.Timedelta(days=5)\n",
    "  \n",
    "  past_power_output = pd.DataFrame(wind_farm_data)[format_date(week_ago):format_date(today)]\n",
    "  weather_and_forecast = pd.DataFrame(wind_farm_data)[format_date(week_ago):format_date(week_later)]\n",
    "  if len(weather_and_forecast) < 10:\n",
    "    past_power_output = pd.DataFrame(wind_farm_data).iloc[-10:-5]\n",
    "    weather_and_forecast = pd.DataFrame(wind_farm_data).iloc[-10:]\n",
    "\n",
    "  return weather_and_forecast.drop(columns=\"power\"), past_power_output[\"power\"]"
   ]
  },
  {
   "cell_type": "markdown",
   "metadata": {
    "application/vnd.databricks.v1+cell": {
     "inputWidgets": {},
     "nuid": "20e73142-166e-45ed-b074-1f103f4cd609",
     "showTitle": false,
     "title": ""
    }
   },
   "source": [
    "Display a sample of the data for reference."
   ]
  },
  {
   "cell_type": "code",
   "execution_count": 0,
   "metadata": {
    "application/vnd.databricks.v1+cell": {
     "inputWidgets": {},
     "nuid": "d527bdce-335b-4442-bc87-56d75b197cd9",
     "showTitle": false,
     "title": ""
    }
   },
   "outputs": [
    {
     "data": {
      "text/html": [
       "<style scoped>\n",
       "  .ansiout {\n",
       "    display: block;\n",
       "    unicode-bidi: embed;\n",
       "    white-space: pre-wrap;\n",
       "    word-wrap: break-word;\n",
       "    word-break: break-all;\n",
       "    font-family: \"Source Code Pro\", \"Menlo\", monospace;;\n",
       "    font-size: 13px;\n",
       "    color: #555;\n",
       "    margin-left: 4px;\n",
       "    line-height: 19px;\n",
       "  }\n",
       "</style>\n",
       "<div class=\"ansiout\">Out[27]: </div>"
      ]
     },
     "metadata": {
      "application/vnd.databricks.v1+output": {
       "addedWidgets": {},
       "arguments": {},
       "data": "<div class=\"ansiout\">Out[27]: </div>",
       "datasetInfos": [],
       "metadata": {},
       "removedWidgets": [],
       "type": "html"
      }
     },
     "output_type": "display_data"
    },
    {
     "data": {
      "text/html": [
       "<div>\n",
       "<style scoped>\n",
       "    .dataframe tbody tr th:only-of-type {\n",
       "        vertical-align: middle;\n",
       "    }\n",
       "\n",
       "    .dataframe tbody tr th {\n",
       "        vertical-align: top;\n",
       "    }\n",
       "\n",
       "    .dataframe thead th {\n",
       "        text-align: right;\n",
       "    }\n",
       "</style>\n",
       "<table border=\"1\" class=\"dataframe\">\n",
       "  <thead>\n",
       "    <tr style=\"text-align: right;\">\n",
       "      <th></th>\n",
       "      <th>temperature_00</th>\n",
       "      <th>wind_direction_00</th>\n",
       "      <th>wind_speed_00</th>\n",
       "      <th>temperature_08</th>\n",
       "      <th>wind_direction_08</th>\n",
       "      <th>wind_speed_08</th>\n",
       "      <th>temperature_16</th>\n",
       "      <th>wind_direction_16</th>\n",
       "      <th>wind_speed_16</th>\n",
       "      <th>power</th>\n",
       "    </tr>\n",
       "  </thead>\n",
       "  <tbody>\n",
       "    <tr>\n",
       "      <th>2019-01-01</th>\n",
       "      <td>8.875944</td>\n",
       "      <td>97.246960</td>\n",
       "      <td>11.665322</td>\n",
       "      <td>11.955358</td>\n",
       "      <td>98.636955</td>\n",
       "      <td>12.240791</td>\n",
       "      <td>14.668171</td>\n",
       "      <td>112.411930</td>\n",
       "      <td>9.737414</td>\n",
       "      <td>8509.6200</td>\n",
       "    </tr>\n",
       "    <tr>\n",
       "      <th>2019-01-02</th>\n",
       "      <td>15.183593</td>\n",
       "      <td>150.793730</td>\n",
       "      <td>10.765375</td>\n",
       "      <td>11.806581</td>\n",
       "      <td>202.014570</td>\n",
       "      <td>5.050459</td>\n",
       "      <td>8.744499</td>\n",
       "      <td>299.835420</td>\n",
       "      <td>6.469718</td>\n",
       "      <td>3876.5240</td>\n",
       "    </tr>\n",
       "    <tr>\n",
       "      <th>2019-01-03</th>\n",
       "      <td>5.572408</td>\n",
       "      <td>278.278230</td>\n",
       "      <td>2.968834</td>\n",
       "      <td>8.377396</td>\n",
       "      <td>98.699100</td>\n",
       "      <td>7.120559</td>\n",
       "      <td>9.474814</td>\n",
       "      <td>200.089770</td>\n",
       "      <td>1.316572</td>\n",
       "      <td>1511.1980</td>\n",
       "    </tr>\n",
       "    <tr>\n",
       "      <th>2019-01-04</th>\n",
       "      <td>7.883471</td>\n",
       "      <td>83.243490</td>\n",
       "      <td>1.943103</td>\n",
       "      <td>10.387258</td>\n",
       "      <td>147.142290</td>\n",
       "      <td>2.183379</td>\n",
       "      <td>10.536873</td>\n",
       "      <td>318.377930</td>\n",
       "      <td>2.621120</td>\n",
       "      <td>256.9488</td>\n",
       "    </tr>\n",
       "    <tr>\n",
       "      <th>2019-01-05</th>\n",
       "      <td>8.764894</td>\n",
       "      <td>305.704250</td>\n",
       "      <td>5.041509</td>\n",
       "      <td>8.271966</td>\n",
       "      <td>291.500180</td>\n",
       "      <td>4.422956</td>\n",
       "      <td>7.382129</td>\n",
       "      <td>113.804474</td>\n",
       "      <td>4.078743</td>\n",
       "      <td>1014.6314</td>\n",
       "    </tr>\n",
       "    <tr>\n",
       "      <th>2019-01-06</th>\n",
       "      <td>5.438333</td>\n",
       "      <td>106.043320</td>\n",
       "      <td>5.787299</td>\n",
       "      <td>7.966585</td>\n",
       "      <td>139.703280</td>\n",
       "      <td>2.067099</td>\n",
       "      <td>6.946286</td>\n",
       "      <td>285.241820</td>\n",
       "      <td>2.774709</td>\n",
       "      <td>859.2375</td>\n",
       "    </tr>\n",
       "    <tr>\n",
       "      <th>2019-01-07</th>\n",
       "      <td>4.202758</td>\n",
       "      <td>207.217350</td>\n",
       "      <td>2.983574</td>\n",
       "      <td>6.853256</td>\n",
       "      <td>112.100510</td>\n",
       "      <td>7.334027</td>\n",
       "      <td>8.428836</td>\n",
       "      <td>112.508860</td>\n",
       "      <td>9.337582</td>\n",
       "      <td>3766.5713</td>\n",
       "    </tr>\n",
       "    <tr>\n",
       "      <th>2019-01-08</th>\n",
       "      <td>7.556848</td>\n",
       "      <td>106.699104</td>\n",
       "      <td>9.850532</td>\n",
       "      <td>9.393202</td>\n",
       "      <td>100.567024</td>\n",
       "      <td>10.189929</td>\n",
       "      <td>10.031277</td>\n",
       "      <td>99.752014</td>\n",
       "      <td>8.621423</td>\n",
       "      <td>6999.7627</td>\n",
       "    </tr>\n",
       "    <tr>\n",
       "      <th>2019-01-09</th>\n",
       "      <td>7.387094</td>\n",
       "      <td>98.269590</td>\n",
       "      <td>8.638614</td>\n",
       "      <td>9.839335</td>\n",
       "      <td>98.169464</td>\n",
       "      <td>8.310448</td>\n",
       "      <td>10.385242</td>\n",
       "      <td>102.197290</td>\n",
       "      <td>3.762180</td>\n",
       "      <td>3924.3154</td>\n",
       "    </tr>\n",
       "    <tr>\n",
       "      <th>2019-01-10</th>\n",
       "      <td>7.586321</td>\n",
       "      <td>213.040680</td>\n",
       "      <td>1.303631</td>\n",
       "      <td>9.785772</td>\n",
       "      <td>91.479225</td>\n",
       "      <td>3.234444</td>\n",
       "      <td>9.988096</td>\n",
       "      <td>110.400520</td>\n",
       "      <td>7.184761</td>\n",
       "      <td>1593.0924</td>\n",
       "    </tr>\n",
       "    <tr>\n",
       "      <th>2019-01-11</th>\n",
       "      <td>7.522231</td>\n",
       "      <td>104.121550</td>\n",
       "      <td>13.046313</td>\n",
       "      <td>9.079243</td>\n",
       "      <td>103.235245</td>\n",
       "      <td>12.452435</td>\n",
       "      <td>9.184695</td>\n",
       "      <td>103.892900</td>\n",
       "      <td>11.766598</td>\n",
       "      <td>9213.4940</td>\n",
       "    </tr>\n",
       "    <tr>\n",
       "      <th>2019-01-12</th>\n",
       "      <td>8.947841</td>\n",
       "      <td>101.375450</td>\n",
       "      <td>12.659378</td>\n",
       "      <td>9.297532</td>\n",
       "      <td>100.673325</td>\n",
       "      <td>12.551491</td>\n",
       "      <td>9.854117</td>\n",
       "      <td>101.644900</td>\n",
       "      <td>11.599463</td>\n",
       "      <td>9253.8700</td>\n",
       "    </tr>\n",
       "    <tr>\n",
       "      <th>2019-01-13</th>\n",
       "      <td>8.519487</td>\n",
       "      <td>103.676520</td>\n",
       "      <td>11.936866</td>\n",
       "      <td>9.780703</td>\n",
       "      <td>99.896835</td>\n",
       "      <td>10.113069</td>\n",
       "      <td>9.974476</td>\n",
       "      <td>100.562910</td>\n",
       "      <td>7.246278</td>\n",
       "      <td>6807.5520</td>\n",
       "    </tr>\n",
       "    <tr>\n",
       "      <th>2019-01-14</th>\n",
       "      <td>7.071896</td>\n",
       "      <td>218.349670</td>\n",
       "      <td>2.233954</td>\n",
       "      <td>8.035976</td>\n",
       "      <td>305.816600</td>\n",
       "      <td>4.567200</td>\n",
       "      <td>9.335110</td>\n",
       "      <td>279.216550</td>\n",
       "      <td>6.900381</td>\n",
       "      <td>1481.3854</td>\n",
       "    </tr>\n",
       "  </tbody>\n",
       "</table>\n",
       "</div>"
      ]
     },
     "metadata": {
      "application/vnd.databricks.v1+output": {
       "addedWidgets": {},
       "arguments": {},
       "data": "<div>\n<style scoped>\n    .dataframe tbody tr th:only-of-type {\n        vertical-align: middle;\n    }\n\n    .dataframe tbody tr th {\n        vertical-align: top;\n    }\n\n    .dataframe thead th {\n        text-align: right;\n    }\n</style>\n<table border=\"1\" class=\"dataframe\">\n  <thead>\n    <tr style=\"text-align: right;\">\n      <th></th>\n      <th>temperature_00</th>\n      <th>wind_direction_00</th>\n      <th>wind_speed_00</th>\n      <th>temperature_08</th>\n      <th>wind_direction_08</th>\n      <th>wind_speed_08</th>\n      <th>temperature_16</th>\n      <th>wind_direction_16</th>\n      <th>wind_speed_16</th>\n      <th>power</th>\n    </tr>\n  </thead>\n  <tbody>\n    <tr>\n      <th>2019-01-01</th>\n      <td>8.875944</td>\n      <td>97.246960</td>\n      <td>11.665322</td>\n      <td>11.955358</td>\n      <td>98.636955</td>\n      <td>12.240791</td>\n      <td>14.668171</td>\n      <td>112.411930</td>\n      <td>9.737414</td>\n      <td>8509.6200</td>\n    </tr>\n    <tr>\n      <th>2019-01-02</th>\n      <td>15.183593</td>\n      <td>150.793730</td>\n      <td>10.765375</td>\n      <td>11.806581</td>\n      <td>202.014570</td>\n      <td>5.050459</td>\n      <td>8.744499</td>\n      <td>299.835420</td>\n      <td>6.469718</td>\n      <td>3876.5240</td>\n    </tr>\n    <tr>\n      <th>2019-01-03</th>\n      <td>5.572408</td>\n      <td>278.278230</td>\n      <td>2.968834</td>\n      <td>8.377396</td>\n      <td>98.699100</td>\n      <td>7.120559</td>\n      <td>9.474814</td>\n      <td>200.089770</td>\n      <td>1.316572</td>\n      <td>1511.1980</td>\n    </tr>\n    <tr>\n      <th>2019-01-04</th>\n      <td>7.883471</td>\n      <td>83.243490</td>\n      <td>1.943103</td>\n      <td>10.387258</td>\n      <td>147.142290</td>\n      <td>2.183379</td>\n      <td>10.536873</td>\n      <td>318.377930</td>\n      <td>2.621120</td>\n      <td>256.9488</td>\n    </tr>\n    <tr>\n      <th>2019-01-05</th>\n      <td>8.764894</td>\n      <td>305.704250</td>\n      <td>5.041509</td>\n      <td>8.271966</td>\n      <td>291.500180</td>\n      <td>4.422956</td>\n      <td>7.382129</td>\n      <td>113.804474</td>\n      <td>4.078743</td>\n      <td>1014.6314</td>\n    </tr>\n    <tr>\n      <th>2019-01-06</th>\n      <td>5.438333</td>\n      <td>106.043320</td>\n      <td>5.787299</td>\n      <td>7.966585</td>\n      <td>139.703280</td>\n      <td>2.067099</td>\n      <td>6.946286</td>\n      <td>285.241820</td>\n      <td>2.774709</td>\n      <td>859.2375</td>\n    </tr>\n    <tr>\n      <th>2019-01-07</th>\n      <td>4.202758</td>\n      <td>207.217350</td>\n      <td>2.983574</td>\n      <td>6.853256</td>\n      <td>112.100510</td>\n      <td>7.334027</td>\n      <td>8.428836</td>\n      <td>112.508860</td>\n      <td>9.337582</td>\n      <td>3766.5713</td>\n    </tr>\n    <tr>\n      <th>2019-01-08</th>\n      <td>7.556848</td>\n      <td>106.699104</td>\n      <td>9.850532</td>\n      <td>9.393202</td>\n      <td>100.567024</td>\n      <td>10.189929</td>\n      <td>10.031277</td>\n      <td>99.752014</td>\n      <td>8.621423</td>\n      <td>6999.7627</td>\n    </tr>\n    <tr>\n      <th>2019-01-09</th>\n      <td>7.387094</td>\n      <td>98.269590</td>\n      <td>8.638614</td>\n      <td>9.839335</td>\n      <td>98.169464</td>\n      <td>8.310448</td>\n      <td>10.385242</td>\n      <td>102.197290</td>\n      <td>3.762180</td>\n      <td>3924.3154</td>\n    </tr>\n    <tr>\n      <th>2019-01-10</th>\n      <td>7.586321</td>\n      <td>213.040680</td>\n      <td>1.303631</td>\n      <td>9.785772</td>\n      <td>91.479225</td>\n      <td>3.234444</td>\n      <td>9.988096</td>\n      <td>110.400520</td>\n      <td>7.184761</td>\n      <td>1593.0924</td>\n    </tr>\n    <tr>\n      <th>2019-01-11</th>\n      <td>7.522231</td>\n      <td>104.121550</td>\n      <td>13.046313</td>\n      <td>9.079243</td>\n      <td>103.235245</td>\n      <td>12.452435</td>\n      <td>9.184695</td>\n      <td>103.892900</td>\n      <td>11.766598</td>\n      <td>9213.4940</td>\n    </tr>\n    <tr>\n      <th>2019-01-12</th>\n      <td>8.947841</td>\n      <td>101.375450</td>\n      <td>12.659378</td>\n      <td>9.297532</td>\n      <td>100.673325</td>\n      <td>12.551491</td>\n      <td>9.854117</td>\n      <td>101.644900</td>\n      <td>11.599463</td>\n      <td>9253.8700</td>\n    </tr>\n    <tr>\n      <th>2019-01-13</th>\n      <td>8.519487</td>\n      <td>103.676520</td>\n      <td>11.936866</td>\n      <td>9.780703</td>\n      <td>99.896835</td>\n      <td>10.113069</td>\n      <td>9.974476</td>\n      <td>100.562910</td>\n      <td>7.246278</td>\n      <td>6807.5520</td>\n    </tr>\n    <tr>\n      <th>2019-01-14</th>\n      <td>7.071896</td>\n      <td>218.349670</td>\n      <td>2.233954</td>\n      <td>8.035976</td>\n      <td>305.816600</td>\n      <td>4.567200</td>\n      <td>9.335110</td>\n      <td>279.216550</td>\n      <td>6.900381</td>\n      <td>1481.3854</td>\n    </tr>\n  </tbody>\n</table>\n</div>",
       "datasetInfos": [],
       "metadata": {},
       "removedWidgets": [],
       "textData": null,
       "type": "htmlSandbox"
      }
     },
     "output_type": "display_data"
    }
   ],
   "source": [
    "wind_farm_data[\"2019-01-01\":\"2019-01-14\"]"
   ]
  },
  {
   "cell_type": "markdown",
   "metadata": {
    "application/vnd.databricks.v1+cell": {
     "inputWidgets": {},
     "nuid": "22309e34-4a4c-4898-a468-378d9cb47e49",
     "showTitle": false,
     "title": ""
    }
   },
   "source": [
    "# Train a power forecasting model and track it with MLflow\n",
    "\n",
    "The following cells train a neural network to predict power output based on the weather features in the dataset. MLflow is used to track the model's hyperparameters, performance metrics, source code, and artifacts."
   ]
  },
  {
   "cell_type": "markdown",
   "metadata": {
    "application/vnd.databricks.v1+cell": {
     "inputWidgets": {},
     "nuid": "13261d7a-f8e4-475e-8105-6866473fefca",
     "showTitle": false,
     "title": ""
    }
   },
   "source": [
    "Define a power forecasting model using TensorFlow Keras."
   ]
  },
  {
   "cell_type": "code",
   "execution_count": 0,
   "metadata": {
    "application/vnd.databricks.v1+cell": {
     "inputWidgets": {},
     "nuid": "d81a6d66-7b41-4176-ba31-c57dfac22d7b",
     "showTitle": false,
     "title": ""
    }
   },
   "outputs": [
    {
     "data": {
      "text/html": [
       "<style scoped>\n",
       "  .ansiout {\n",
       "    display: block;\n",
       "    unicode-bidi: embed;\n",
       "    white-space: pre-wrap;\n",
       "    word-wrap: break-word;\n",
       "    word-break: break-all;\n",
       "    font-family: \"Source Code Pro\", \"Menlo\", monospace;;\n",
       "    font-size: 13px;\n",
       "    color: #555;\n",
       "    margin-left: 4px;\n",
       "    line-height: 19px;\n",
       "  }\n",
       "</style>\n",
       "<div class=\"ansiout\"></div>"
      ]
     },
     "metadata": {
      "application/vnd.databricks.v1+output": {
       "addedWidgets": {},
       "arguments": {},
       "data": "<div class=\"ansiout\"></div>",
       "datasetInfos": [],
       "metadata": {},
       "removedWidgets": [],
       "type": "html"
      }
     },
     "output_type": "display_data"
    }
   ],
   "source": [
    "import tensorflow as tf\n",
    "from tensorflow.keras.layers import Dense\n",
    "from tensorflow.keras.models import Sequential\n"
   ]
  },
  {
   "cell_type": "code",
   "execution_count": 0,
   "metadata": {
    "application/vnd.databricks.v1+cell": {
     "inputWidgets": {},
     "nuid": "55db56a5-9bbc-4fd0-83cf-e47a37979f7d",
     "showTitle": false,
     "title": ""
    }
   },
   "outputs": [
    {
     "data": {
      "text/html": [
       "<style scoped>\n",
       "  .ansiout {\n",
       "    display: block;\n",
       "    unicode-bidi: embed;\n",
       "    white-space: pre-wrap;\n",
       "    word-wrap: break-word;\n",
       "    word-break: break-all;\n",
       "    font-family: \"Source Code Pro\", \"Menlo\", monospace;;\n",
       "    font-size: 13px;\n",
       "    color: #555;\n",
       "    margin-left: 4px;\n",
       "    line-height: 19px;\n",
       "  }\n",
       "</style>\n",
       "<div class=\"ansiout\"></div>"
      ]
     },
     "metadata": {
      "application/vnd.databricks.v1+output": {
       "addedWidgets": {},
       "arguments": {},
       "data": "<div class=\"ansiout\"></div>",
       "datasetInfos": [],
       "metadata": {},
       "removedWidgets": [],
       "type": "html"
      }
     },
     "output_type": "display_data"
    }
   ],
   "source": [
    "def train_keras_model(X, y):\n",
    "  \n",
    "  model = Sequential()\n",
    "  model.add(Dense(100, input_shape=(X_train.shape[-1],), activation=\"relu\", name=\"hidden_layer\"))\n",
    "  model.add(Dense(1))\n",
    "  model.compile(loss=\"mse\", optimizer=\"adam\")\n",
    "\n",
    "  model.fit(X_train, y_train, epochs=100, batch_size=64, validation_split=.2)\n",
    "  return model"
   ]
  },
  {
   "cell_type": "markdown",
   "metadata": {
    "application/vnd.databricks.v1+cell": {
     "inputWidgets": {},
     "nuid": "12f2b2ae-3ab0-4407-bcaf-b94228003bf7",
     "showTitle": false,
     "title": ""
    }
   },
   "source": [
    "Train the model and use MLflow to track its parameters, metrics, artifacts, and source code."
   ]
  },
  {
   "cell_type": "code",
   "execution_count": 0,
   "metadata": {
    "application/vnd.databricks.v1+cell": {
     "inputWidgets": {},
     "nuid": "467cb131-d6ee-4a30-9a7f-05b791ae2d71",
     "showTitle": false,
     "title": ""
    }
   },
   "outputs": [
    {
     "data": {
      "text/html": [
       "<style scoped>\n",
       "  .ansiout {\n",
       "    display: block;\n",
       "    unicode-bidi: embed;\n",
       "    white-space: pre-wrap;\n",
       "    word-wrap: break-word;\n",
       "    word-break: break-all;\n",
       "    font-family: \"Source Code Pro\", \"Menlo\", monospace;;\n",
       "    font-size: 13px;\n",
       "    color: #555;\n",
       "    margin-left: 4px;\n",
       "    line-height: 19px;\n",
       "  }\n",
       "</style>\n",
       "<div class=\"ansiout\">Epoch 1/100\n",
       "\r",
       " 1/19 [&gt;.............................] - ETA: 5s - loss: 10055520.0000WARNING:tensorflow:Callback method `on_train_batch_end` is slow compared to the batch time (batch time: 0.0013s vs `on_train_batch_end` time: 0.0060s). Check your callbacks.\n",
       "\b\b\b\b\b\b\b\b\b\b\b\b\b\b\b\b\b\b\b\b\b\b\b\b\b\b\b\b\b\b\b\b\b\b\b\b\b\b\b\b\b\b\b\b\b\b\b\b\b\b\b\b\b\b\b\b\b\b\b\b\b\b\b\b\b\b\b\b\b\b\r",
       "11/19 [================&gt;.............] - ETA: 0s - loss: 10001708.0000\b\b\b\b\b\b\b\b\b\b\b\b\b\b\b\b\b\b\b\b\b\b\b\b\b\b\b\b\b\b\b\b\b\b\b\b\b\b\b\b\b\b\b\b\b\b\b\b\b\b\b\b\b\b\b\b\b\b\b\b\b\b\b\b\b\b\b\b\b\b\r",
       "19/19 [==============================] - 0s 11ms/step - loss: 10179006.0000 - val_loss: 7871335.0000\n",
       "Epoch 2/100\n",
       "\r",
       " 1/19 [&gt;.............................] - ETA: 0s - loss: 13771319.0000\b\b\b\b\b\b\b\b\b\b\b\b\b\b\b\b\b\b\b\b\b\b\b\b\b\b\b\b\b\b\b\b\b\b\b\b\b\b\b\b\b\b\b\b\b\b\b\b\b\b\b\b\b\b\b\b\b\b\b\b\b\b\b\b\b\b\b\b\b\b\r",
       "19/19 [==============================] - 0s 3ms/step - loss: 9685251.0000 - val_loss: 7391559.5000\n",
       "Epoch 3/100\n",
       "\r",
       " 1/19 [&gt;.............................] - ETA: 0s - loss: 9472041.0000\b\b\b\b\b\b\b\b\b\b\b\b\b\b\b\b\b\b\b\b\b\b\b\b\b\b\b\b\b\b\b\b\b\b\b\b\b\b\b\b\b\b\b\b\b\b\b\b\b\b\b\b\b\b\b\b\b\b\b\b\b\b\b\b\b\b\b\b\b\r",
       "19/19 [==============================] - 0s 3ms/step - loss: 9129348.0000 - val_loss: 6861825.5000\n",
       "Epoch 4/100\n",
       "\r",
       " 1/19 [&gt;.............................] - ETA: 0s - loss: 9446583.0000\b\b\b\b\b\b\b\b\b\b\b\b\b\b\b\b\b\b\b\b\b\b\b\b\b\b\b\b\b\b\b\b\b\b\b\b\b\b\b\b\b\b\b\b\b\b\b\b\b\b\b\b\b\b\b\b\b\b\b\b\b\b\b\b\b\b\b\b\b\r",
       "19/19 [==============================] - 0s 3ms/step - loss: 8519292.0000 - val_loss: 6290226.0000\n",
       "Epoch 5/100\n",
       "\r",
       " 1/19 [&gt;.............................] - ETA: 0s - loss: 8110341.0000\b\b\b\b\b\b\b\b\b\b\b\b\b\b\b\b\b\b\b\b\b\b\b\b\b\b\b\b\b\b\b\b\b\b\b\b\b\b\b\b\b\b\b\b\b\b\b\b\b\b\b\b\b\b\b\b\b\b\b\b\b\b\b\b\b\b\b\b\b\r",
       "19/19 [==============================] - 0s 3ms/step - loss: 7843187.5000 - val_loss: 5679195.5000\n",
       "Epoch 6/100\n",
       "\r",
       " 1/19 [&gt;.............................] - ETA: 0s - loss: 7226663.5000\b\b\b\b\b\b\b\b\b\b\b\b\b\b\b\b\b\b\b\b\b\b\b\b\b\b\b\b\b\b\b\b\b\b\b\b\b\b\b\b\b\b\b\b\b\b\b\b\b\b\b\b\b\b\b\b\b\b\b\b\b\b\b\b\b\b\b\b\b\r",
       "19/19 [==============================] - 0s 3ms/step - loss: 7128002.0000 - val_loss: 5136612.0000\n",
       "Epoch 7/100\n",
       "\r",
       " 1/19 [&gt;.............................] - ETA: 0s - loss: 8864010.0000\b\b\b\b\b\b\b\b\b\b\b\b\b\b\b\b\b\b\b\b\b\b\b\b\b\b\b\b\b\b\b\b\b\b\b\b\b\b\b\b\b\b\b\b\b\b\b\b\b\b\b\b\b\b\b\b\b\b\b\b\b\b\b\b\b\b\b\b\b\r",
       "19/19 [==============================] - 0s 3ms/step - loss: 6486761.5000 - val_loss: 4741664.5000\n",
       "Epoch 8/100\n",
       "\r",
       " 1/19 [&gt;.............................] - ETA: 0s - loss: 4677448.5000\b\b\b\b\b\b\b\b\b\b\b\b\b\b\b\b\b\b\b\b\b\b\b\b\b\b\b\b\b\b\b\b\b\b\b\b\b\b\b\b\b\b\b\b\b\b\b\b\b\b\b\b\b\b\b\b\b\b\b\b\b\b\b\b\b\b\b\b\b\r",
       "19/19 [==============================] - 0s 3ms/step - loss: 6000418.0000 - val_loss: 4532952.0000\n",
       "Epoch 9/100\n",
       "\r",
       " 1/19 [&gt;.............................] - ETA: 0s - loss: 3767233.0000\b\b\b\b\b\b\b\b\b\b\b\b\b\b\b\b\b\b\b\b\b\b\b\b\b\b\b\b\b\b\b\b\b\b\b\b\b\b\b\b\b\b\b\b\b\b\b\b\b\b\b\b\b\b\b\b\b\b\b\b\b\b\b\b\b\b\b\b\b\r",
       "19/19 [==============================] - 0s 3ms/step - loss: 5695422.5000 - val_loss: 4489989.0000\n",
       "Epoch 10/100\n",
       "\r",
       " 1/19 [&gt;.............................] - ETA: 0s - loss: 4501318.0000\b\b\b\b\b\b\b\b\b\b\b\b\b\b\b\b\b\b\b\b\b\b\b\b\b\b\b\b\b\b\b\b\b\b\b\b\b\b\b\b\b\b\b\b\b\b\b\b\b\b\b\b\b\b\b\b\b\b\b\b\b\b\b\b\b\b\b\b\b\r",
       "19/19 [==============================] - 0s 3ms/step - loss: 5552936.5000 - val_loss: 4525131.0000\n",
       "Epoch 11/100\n",
       "\r",
       " 1/19 [&gt;.............................] - ETA: 0s - loss: 5758632.0000\b\b\b\b\b\b\b\b\b\b\b\b\b\b\b\b\b\b\b\b\b\b\b\b\b\b\b\b\b\b\b\b\b\b\b\b\b\b\b\b\b\b\b\b\b\b\b\b\b\b\b\b\b\b\b\b\b\b\b\b\b\b\b\b\b\b\b\b\b\r",
       "19/19 [==============================] - 0s 3ms/step - loss: 5492945.0000 - val_loss: 4563854.5000\n",
       "Epoch 12/100\n",
       "\r",
       " 1/19 [&gt;.............................] - ETA: 0s - loss: 3997965.2500\b\b\b\b\b\b\b\b\b\b\b\b\b\b\b\b\b\b\b\b\b\b\b\b\b\b\b\b\b\b\b\b\b\b\b\b\b\b\b\b\b\b\b\b\b\b\b\b\b\b\b\b\b\b\b\b\b\b\b\b\b\b\b\b\b\b\b\b\b\r",
       "19/19 [==============================] - 0s 3ms/step - loss: 5468897.5000 - val_loss: 4578334.5000\n",
       "Epoch 13/100\n",
       "\r",
       " 1/19 [&gt;.............................] - ETA: 0s - loss: 5608205.0000\b\b\b\b\b\b\b\b\b\b\b\b\b\b\b\b\b\b\b\b\b\b\b\b\b\b\b\b\b\b\b\b\b\b\b\b\b\b\b\b\b\b\b\b\b\b\b\b\b\b\b\b\b\b\b\b\b\b\b\b\b\b\b\b\b\b\b\b\b\r",
       "19/19 [==============================] - 0s 3ms/step - loss: 5452141.0000 - val_loss: 4568090.0000\n",
       "Epoch 14/100\n",
       "\r",
       " 1/19 [&gt;.............................] - ETA: 0s - loss: 3346776.0000\b\b\b\b\b\b\b\b\b\b\b\b\b\b\b\b\b\b\b\b\b\b\b\b\b\b\b\b\b\b\b\b\b\b\b\b\b\b\b\b\b\b\b\b\b\b\b\b\b\b\b\b\b\b\b\b\b\b\b\b\b\b\b\b\b\b\b\b\b\r",
       "19/19 [==============================] - 0s 3ms/step - loss: 5435019.0000 - val_loss: 4575899.0000\n",
       "Epoch 15/100\n",
       "\r",
       " 1/19 [&gt;.............................] - ETA: 0s - loss: 4020123.0000\b\b\b\b\b\b\b\b\b\b\b\b\b\b\b\b\b\b\b\b\b\b\b\b\b\b\b\b\b\b\b\b\b\b\b\b\b\b\b\b\b\b\b\b\b\b\b\b\b\b\b\b\b\b\b\b\b\b\b\b\b\b\b\b\b\b\b\b\b\r",
       "19/19 [==============================] - 0s 3ms/step - loss: 5418808.5000 - val_loss: 4565071.5000\n",
       "Epoch 16/100\n",
       "\r",
       " 1/19 [&gt;.............................] - ETA: 0s - loss: 5625396.0000\b\b\b\b\b\b\b\b\b\b\b\b\b\b\b\b\b\b\b\b\b\b\b\b\b\b\b\b\b\b\b\b\b\b\b\b\b\b\b\b\b\b\b\b\b\b\b\b\b\b\b\b\b\b\b\b\b\b\b\b\b\b\b\b\b\b\b\b\b\r",
       "19/19 [==============================] - 0s 3ms/step - loss: 5402893.5000 - val_loss: 4546077.5000\n",
       "Epoch 17/100\n",
       "\r",
       " 1/19 [&gt;.............................] - ETA: 0s - loss: 5764910.0000\b\b\b\b\b\b\b\b\b\b\b\b\b\b\b\b\b\b\b\b\b\b\b\b\b\b\b\b\b\b\b\b\b\b\b\b\b\b\b\b\b\b\b\b\b\b\b\b\b\b\b\b\b\b\b\b\b\b\b\b\b\b\b\b\b\b\b\b\b\r",
       "19/19 [==============================] - 0s 3ms/step - loss: 5386976.5000 - val_loss: 4519284.0000\n",
       "Epoch 18/100\n",
       "\r",
       " 1/19 [&gt;.............................] - ETA: 0s - loss: 3492582.0000\b\b\b\b\b\b\b\b\b\b\b\b\b\b\b\b\b\b\b\b\b\b\b\b\b\b\b\b\b\b\b\b\b\b\b\b\b\b\b\b\b\b\b\b\b\b\b\b\b\b\b\b\b\b\b\b\b\b\b\b\b\b\b\b\b\b\b\b\b\r",
       "19/19 [==============================] - 0s 3ms/step - loss: 5367650.5000 - val_loss: 4514499.5000\n",
       "Epoch 19/100\n",
       "\r",
       " 1/19 [&gt;.............................] - ETA: 0s - loss: 5411690.5000\b\b\b\b\b\b\b\b\b\b\b\b\b\b\b\b\b\b\b\b\b\b\b\b\b\b\b\b\b\b\b\b\b\b\b\b\b\b\b\b\b\b\b\b\b\b\b\b\b\b\b\b\b\b\b\b\b\b\b\b\b\b\b\b\b\b\b\b\b\r",
       "19/19 [==============================] - 0s 3ms/step - loss: 5350174.0000 - val_loss: 4512688.5000\n",
       "Epoch 20/100\n",
       "\r",
       " 1/19 [&gt;.............................] - ETA: 0s - loss: 6461219.0000\b\b\b\b\b\b\b\b\b\b\b\b\b\b\b\b\b\b\b\b\b\b\b\b\b\b\b\b\b\b\b\b\b\b\b\b\b\b\b\b\b\b\b\b\b\b\b\b\b\b\b\b\b\b\b\b\b\b\b\b\b\b\b\b\b\b\b\b\b\r",
       "19/19 [==============================] - 0s 3ms/step - loss: 5329633.5000 - val_loss: 4482387.0000\n",
       "Epoch 21/100\n",
       "\r",
       " 1/19 [&gt;.............................] - ETA: 0s - loss: 4211097.0000\b\b\b\b\b\b\b\b\b\b\b\b\b\b\b\b\b\b\b\b\b\b\b\b\b\b\b\b\b\b\b\b\b\b\b\b\b\b\b\b\b\b\b\b\b\b\b\b\b\b\b\b\b\b\b\b\b\b\b\b\b\b\b\b\b\b\b\b\b\r",
       "19/19 [==============================] - 0s 3ms/step - loss: 5310167.0000 - val_loss: 4461464.5000\n",
       "Epoch 22/100\n",
       "\r",
       " 1/19 [&gt;.............................] - ETA: 0s - loss: 6139073.5000\b\b\b\b\b\b\b\b\b\b\b\b\b\b\b\b\b\b\b\b\b\b\b\b\b\b\b\b\b\b\b\b\b\b\b\b\b\b\b\b\b\b\b\b\b\b\b\b\b\b\b\b\b\b\b\b\b\b\b\b\b\b\b\b\b\b\b\b\b\r",
       "19/19 [==============================] - 0s 3ms/step - loss: 5289555.0000 - val_loss: 4452640.5000\n",
       "Epoch 23/100\n",
       "\r",
       " 1/19 [&gt;.............................] - ETA: 0s - loss: 6104666.0000\b\b\b\b\b\b\b\b\b\b\b\b\b\b\b\b\b\b\b\b\b\b\b\b\b\b\b\b\b\b\b\b\b\b\b\b\b\b\b\b\b\b\b\b\b\b\b\b\b\b\b\b\b\b\b\b\b\b\b\b\b\b\b\b\b\b\b\b\b\r",
       "19/19 [==============================] - 0s 3ms/step - loss: 5268679.5000 - val_loss: 4442338.5000\n",
       "Epoch 24/100\n",
       "\r",
       " 1/19 [&gt;.............................] - ETA: 0s - loss: 3685017.2500\b\b\b\b\b\b\b\b\b\b\b\b\b\b\b\b\b\b\b\b\b\b\b\b\b\b\b\b\b\b\b\b\b\b\b\b\b\b\b\b\b\b\b\b\b\b\b\b\b\b\b\b\b\b\b\b\b\b\b\b\b\b\b\b\b\b\b\b\b\r",
       "19/19 [==============================] - 0s 3ms/step - loss: 5245925.5000 - val_loss: 4428758.0000\n",
       "Epoch 25/100\n",
       "\r",
       " 1/19 [&gt;.............................] - ETA: 0s - loss: 6239633.5000\b\b\b\b\b\b\b\b\b\b\b\b\b\b\b\b\b\b\b\b\b\b\b\b\b\b\b\b\b\b\b\b\b\b\b\b\b\b\b\b\b\b\b\b\b\b\b\b\b\b\b\b\b\b\b\b\b\b\b\b\b\b\b\b\b\b\b\b\b\r",
       "19/19 [==============================] - 0s 2ms/step - loss: 5221256.0000 - val_loss: 4409988.0000\n",
       "Epoch 26/100\n",
       "\r",
       " 1/19 [&gt;.............................] - ETA: 0s - loss: 4542474.0000\b\b\b\b\b\b\b\b\b\b\b\b\b\b\b\b\b\b\b\b\b\b\b\b\b\b\b\b\b\b\b\b\b\b\b\b\b\b\b\b\b\b\b\b\b\b\b\b\b\b\b\b\b\b\b\b\b\b\b\b\b\b\b\b\b\b\b\b\b\r",
       "19/19 [==============================] - 0s 3ms/step - loss: 5196056.0000 - val_loss: 4383560.5000\n",
       "Epoch 27/100\n",
       "\r",
       " 1/19 [&gt;.............................] - ETA: 0s - loss: 3738085.7500\b\b\b\b\b\b\b\b\b\b\b\b\b\b\b\b\b\b\b\b\b\b\b\b\b\b\b\b\b\b\b\b\b\b\b\b\b\b\b\b\b\b\b\b\b\b\b\b\b\b\b\b\b\b\b\b\b\b\b\b\b\b\b\b\b\b\b\b\b\r",
       "19/19 [==============================] - 0s 3ms/step - loss: 5170822.0000 - val_loss: 4347935.0000\n",
       "Epoch 28/100\n",
       "\r",
       " 1/19 [&gt;.............................] - ETA: 0s - loss: 6087713.0000\b\b\b\b\b\b\b\b\b\b\b\b\b\b\b\b\b\b\b\b\b\b\b\b\b\b\b\b\b\b\b\b\b\b\b\b\b\b\b\b\b\b\b\b\b\b\b\b\b\b\b\b\b\b\b\b\b\b\b\b\b\b\b\b\b\b\b\b\b\r",
       "19/19 [==============================] - 0s 3ms/step - loss: 5140987.0000 - val_loss: 4341304.0000\n",
       "Epoch 29/100\n",
       "\r",
       " 1/19 [&gt;.............................] - ETA: 0s - loss: 5977152.0000\b\b\b\b\b\b\b\b\b\b\b\b\b\b\b\b\b\b\b\b\b\b\b\b\b\b\b\b\b\b\b\b\b\b\b\b\b\b\b\b\b\b\b\b\b\b\b\b\b\b\b\b\b\b\b\b\b\b\b\b\b\b\b\b\b\b\b\b\b\r",
       "19/19 [==============================] - 0s 3ms/step - loss: 5110937.5000 - val_loss: 4308670.0000\n",
       "Epoch 30/100\n",
       "\r",
       " 1/19 [&gt;.............................] - ETA: 0s - loss: 6845535.0000\b\b\b\b\b\b\b\b\b\b\b\b\b\b\b\b\b\b\b\b\b\b\b\b\b\b\b\b\b\b\b\b\b\b\b\b\b\b\b\b\b\b\b\b\b\b\b\b\b\b\b\b\b\b\b\b\b\b\b\b\b\b\b\b\b\b\b\b\b\r",
       "19/19 [==============================] - 0s 3ms/step - loss: 5079493.5000 - val_loss: 4278577.5000\n",
       "Epoch 31/100\n",
       "\r",
       " 1/19 [&gt;.............................] - ETA: 0s - loss: 4303778.5000\b\b\b\b\b\b\b\b\b\b\b\b\b\b\b\b\b\b\b\b\b\b\b\b\b\b\b\b\b\b\b\b\b\b\b\b\b\b\b\b\b\b\b\b\b\b\b\b\b\b\b\b\b\b\b\b\b\b\b\b\b\b\b\b\b\b\b\b\b\r",
       "19/19 [==============================] - 0s 2ms/step - loss: 5044169.5000 - val_loss: 4257977.0000\n",
       "Epoch 32/100\n",
       "\r",
       " 1/19 [&gt;.............................] - ETA: 0s - loss: 5202675.0000\b\b\b\b\b\b\b\b\b\b\b\b\b\b\b\b\b\b\b\b\b\b\b\b\b\b\b\b\b\b\b\b\b\b\b\b\b\b\b\b\b\b\b\b\b\b\b\b\b\b\b\b\b\b\b\b\b\b\b\b\b\b\b\b\b\b\b\b\b\r",
       "19/19 [==============================] - 0s 3ms/step - loss: 5008893.5000 - val_loss: 4222254.0000\n",
       "Epoch 33/100\n",
       "\r",
       " 1/19 [&gt;.............................] - ETA: 0s - loss: 4845185.0000\b\b\b\b\b\b\b\b\b\b\b\b\b\b\b\b\b\b\b\b\b\b\b\b\b\b\b\b\b\b\b\b\b\b\b\b\b\b\b\b\b\b\b\b\b\b\b\b\b\b\b\b\b\b\b\b\b\b\b\b\b\b\b\b\b\b\b\b\b\r",
       "19/19 [==============================] - 0s 3ms/step - loss: 4970641.5000 - val_loss: 4196937.5000\n",
       "Epoch 34/100\n",
       "\r",
       " 1/19 [&gt;.............................] - ETA: 0s - loss: 4716707.0000\b\b\b\b\b\b\b\b\b\b\b\b\b\b\b\b\b\b\b\b\b\b\b\b\b\b\b\b\b\b\b\b\b\b\b\b\b\b\b\b\b\b\b\b\b\b\b\b\b\b\b\b\b\b\b\b\b\b\b\b\b\b\b\b\b\b\b\b\b\r",
       "19/19 [==============================] - 0s 3ms/step - loss: 4930045.0000 - val_loss: 4162061.0000\n",
       "Epoch 35/100\n",
       "\r",
       " 1/19 [&gt;.............................] - ETA: 0s - loss: 7889441.5000\b\b\b\b\b\b\b\b\b\b\b\b\b\b\b\b\b\b\b\b\b\b\b\b\b\b\b\b\b\b\b\b\b\b\b\b\b\b\b\b\b\b\b\b\b\b\b\b\b\b\b\b\b\b\b\b\b\b\b\b\b\b\b\b\b\b\b\b\b\r",
       "19/19 [==============================] - 0s 3ms/step - loss: 4894151.0000 - val_loss: 4117200.5000\n",
       "Epoch 36/100\n",
       "\r",
       " 1/19 [&gt;.............................] - ETA: 0s - loss: 4519568.0000\b\b\b\b\b\b\b\b\b\b\b\b\b\b\b\b\b\b\b\b\b\b\b\b\b\b\b\b\b\b\b\b\b\b\b\b\b\b\b\b\b\b\b\b\b\b\b\b\b\b\b\b\b\b\b\b\b\b\b\b\b\b\b\b\b\b\b\b\b\r",
       "19/19 [==============================] - 0s 3ms/step - loss: 4846938.5000 - val_loss: 4102181.2500\n",
       "Epoch 37/100\n",
       "\r",
       " 1/19 [&gt;.............................] - ETA: 0s - loss: 6137050.5000\b\b\b\b\b\b\b\b\b\b\b\b\b\b\b\b\b\b\b\b\b\b\b\b\b\b\b\b\b\b\b\b\b\b\b\b\b\b\b\b\b\b\b\b\b\b\b\b\b\b\b\b\b\b\b\b\b\b\b\b\b\b\b\b\b\b\b\b\b\r",
       "19/19 [==============================] - 0s 3ms/step - loss: 4800378.5000 - val_loss: 4053961.7500\n",
       "Epoch 38/100\n",
       "\r",
       " 1/19 [&gt;.............................] - ETA: 0s - loss: 2367509.0000\b\b\b\b\b\b\b\b\b\b\b\b\b\b\b\b\b\b\b\b\b\b\b\b\b\b\b\b\b\b\b\b\b\b\b\b\b\b\b\b\b\b\b\b\b\b\b\b\b\b\b\b\b\b\b\b\b\b\b\b\b\b\b\b\b\b\b\b\b\r",
       "19/19 [==============================] - 0s 3ms/step - loss: 4752293.0000 - val_loss: 4014775.0000\n",
       "Epoch 39/100\n",
       "\r",
       " 1/19 [&gt;.............................] - ETA: 0s - loss: 3096636.5000\b\b\b\b\b\b\b\b\b\b\b\b\b\b\b\b\b\b\b\b\b\b\b\b\b\b\b\b\b\b\b\b\b\b\b\b\b\b\b\b\b\b\b\b\b\b\b\b\b\b\b\b\b\b\b\b\b\b\b\b\b\b\b\b\b\b\b\b\b\r",
       "19/19 [==============================] - 0s 3ms/step - loss: 4704026.5000 - val_loss: 3987020.0000\n",
       "Epoch 40/100\n",
       "\r",
       " 1/19 [&gt;.............................] - ETA: 0s - loss: 4455425.0000\b\b\b\b\b\b\b\b\b\b\b\b\b\b\b\b\b\b\b\b\b\b\b\b\b\b\b\b\b\b\b\b\b\b\b\b\b\b\b\b\b\b\b\b\b\b\b\b\b\b\b\b\b\b\b\b\b\b\b\b\b\b\b\b\b\b\b\b\b\r",
       "19/19 [==============================] - 0s 2ms/step - loss: 4655464.5000 - val_loss: 3947275.0000\n",
       "Epoch 41/100\n",
       "\r",
       " 1/19 [&gt;.............................] - ETA: 0s - loss: 4843090.0000\b\b\b\b\b\b\b\b\b\b\b\b\b\b\b\b\b\b\b\b\b\b\b\b\b\b\b\b\b\b\b\b\b\b\b\b\b\b\b\b\b\b\b\b\b\b\b\b\b\b\b\b\b\b\b\b\b\b\b\b\b\b\b\b\b\b\b\b\b\r",
       "19/19 [==============================] - 0s 2ms/step - loss: 4601399.0000 - val_loss: 3877737.2500\n",
       "Epoch 42/100\n",
       "\r",
       " 1/19 [&gt;.............................] - ETA: 0s - loss: 5764209.0000\b\b\b\b\b\b\b\b\b\b\b\b\b\b\b\b\b\b\b\b\b\b\b\b\b\b\b\b\b\b\b\b\b\b\b\b\b\b\b\b\b\b\b\b\b\b\b\b\b\b\b\b\b\b\b\b\b\b\b\b\b\b\b\b\b\b\b\b\b\r",
       "19/19 [==============================] - 0s 3ms/step - loss: 4550633.0000 - val_loss: 3837027.2500\n",
       "Epoch 43/100\n",
       "\r",
       " 1/19 [&gt;.............................] - ETA: 0s - loss: 5128644.0000\b\b\b\b\b\b\b\b\b\b\b\b\b\b\b\b\b\b\b\b\b\b\b\b\b\b\b\b\b\b\b\b\b\b\b\b\b\b\b\b\b\b\b\b\b\b\b\b\b\b\b\b\b\b\b\b\b\b\b\b\b\b\b\b\b\b\b\b\b\r",
       "19/19 [==============================] - 0s 3ms/step - loss: 4496631.0000 - val_loss: 3810192.2500\n",
       "Epoch 44/100\n",
       "\r",
       " 1/19 [&gt;.............................] - ETA: 0s - loss: 2400408.0000\b\b\b\b\b\b\b\b\b\b\b\b\b\b\b\b\b\b\b\b\b\b\b\b\b\b\b\b\b\b\b\b\b\b\b\b\b\b\b\b\b\b\b\b\b\b\b\b\b\b\b\b\b\b\b\b\b\b\b\b\b\b\b\b\b\b\b\b\b\r",
       "19/19 [==============================] - 0s 2ms/step - loss: 4441776.0000 - val_loss: 3738479.0000\n",
       "Epoch 45/100\n",
       "\r",
       " 1/19 [&gt;.............................] - ETA: 0s - loss: 4711591.0000\b\b\b\b\b\b\b\b\b\b\b\b\b\b\b\b\b\b\b\b\b\b\b\b\b\b\b\b\b\b\b\b\b\b\b\b\b\b\b\b\b\b\b\b\b\b\b\b\b\b\b\b\b\b\b\b\b\b\b\b\b\b\b\b\b\b\b\b\b\r",
       "19/19 [==============================] - 0s 3ms/step - loss: 4381323.5000 - val_loss: 3716814.7500\n",
       "Epoch 46/100\n",
       "\r",
       " 1/19 [&gt;.............................] - ETA: 0s - loss: 3062557.0000\b\b\b\b\b\b\b\b\b\b\b\b\b\b\b\b\b\b\b\b\b\b\b\b\b\b\b\b\b\b\b\b\b\b\b\b\b\b\b\b\b\b\b\b\b\b\b\b\b\b\b\b\b\b\b\b\b\b\b\b\b\b\b\b\b\b\b\b\b\r",
       "19/19 [==============================] - 0s 3ms/step - loss: 4322021.5000 - val_loss: 3646040.7500\n",
       "Epoch 47/100\n",
       "\r",
       " 1/19 [&gt;.............................] - ETA: 0s - loss: 3862235.5000\b\b\b\b\b\b\b\b\b\b\b\b\b\b\b\b\b\b\b\b\b\b\b\b\b\b\b\b\b\b\b\b\b\b\b\b\b\b\b\b\b\b\b\b\b\b\b\b\b\b\b\b\b\b\b\b\b\b\b\b\b\b\b\b\b\b\b\b\b\r",
       "19/19 [==============================] - 0s 3ms/step - loss: 4274024.5000 - val_loss: 3592636.0000\n",
       "Epoch 48/100\n",
       "\r",
       " 1/19 [&gt;.............................] - ETA: 0s - loss: 3240533.0000\b\b\b\b\b\b\b\b\b\b\b\b\b\b\b\b\b\b\b\b\b\b\b\b\b\b\b\b\b\b\b\b\b\b\b\b\b\b\b\b\b\b\b\b\b\b\b\b\b\b\b\b\b\b\b\b\b\b\b\b\b\b\b\b\b\b\b\b\b\r",
       "19/19 [==============================] - 0s 3ms/step - loss: 4202361.0000 - val_loss: 3579334.7500\n",
       "Epoch 49/100\n",
       "\r",
       " 1/19 [&gt;.............................] - ETA: 0s - loss: 4627968.5000\b\b\b\b\b\b\b\b\b\b\b\b\b\b\b\b\b\b\b\b\b\b\b\b\b\b\b\b\b\b\b\b\b\b\b\b\b\b\b\b\b\b\b\b\b\b\b\b\b\b\b\b\b\b\b\b\b\b\b\b\b\b\b\b\b\b\b\b\b\r",
       "19/19 [==============================] - 0s 3ms/step - loss: 4146890.5000 - val_loss: 3467437.7500\n",
       "Epoch 50/100\n",
       "\r",
       " 1/19 [&gt;.............................] - ETA: 0s - loss: 2167468.5000\b\b\b\b\b\b\b\b\b\b\b\b\b\b\b\b\b\b\b\b\b\b\b\b\b\b\b\b\b\b\b\b\b\b\b\b\b\b\b\b\b\b\b\b\b\b\b\b\b\b\b\b\b\b\b\b\b\b\b\b\b\b\b\b\b\b\b\b\b\r",
       "19/19 [==============================] - 0s 3ms/step - loss: 4080920.0000 - val_loss: 3462668.2500\n",
       "Epoch 51/100\n",
       "\r",
       " 1/19 [&gt;.............................] - ETA: 0s - loss: 4006904.5000\b\b\b\b\b\b\b\b\b\b\b\b\b\b\b\b\b\b\b\b\b\b\b\b\b\b\b\b\b\b\b\b\b\b\b\b\b\b\b\b\b\b\b\b\b\b\b\b\b\b\b\b\b\b\b\b\b\b\b\b\b\b\b\b\b\b\b\b\b\r",
       "19/19 [==============================] - 0s 3ms/step - loss: 4017096.0000 - val_loss: 3414911.0000\n",
       "Epoch 52/100\n",
       "\r",
       " 1/19 [&gt;.............................] - ETA: 0s - loss: 4889816.0000\b\b\b\b\b\b\b\b\b\b\b\b\b\b\b\b\b\b\b\b\b\b\b\b\b\b\b\b\b\b\b\b\b\b\b\b\b\b\b\b\b\b\b\b\b\b\b\b\b\b\b\b\b\b\b\b\b\b\b\b\b\b\b\b\b\b\b\b\b\r",
       "19/19 [==============================] - 0s 3ms/step - loss: 3953608.0000 - val_loss: 3352345.0000\n",
       "Epoch 53/100\n",
       "\r",
       " 1/19 [&gt;.............................] - ETA: 0s - loss: 6201514.0000\b\b\b\b\b\b\b\b\b\b\b\b\b\b\b\b\b\b\b\b\b\b\b\b\b\b\b\b\b\b\b\b\b\b\b\b\b\b\b\b\b\b\b\b\b\b\b\b\b\b\b\b\b\b\b\b\b\b\b\b\b\b\b\b\b\b\b\b\b\r",
       "19/19 [==============================] - 0s 3ms/step - loss: 3889595.5000 - val_loss: 3275635.0000\n",
       "Epoch 54/100\n",
       "\r",
       " 1/19 [&gt;.............................] - ETA: 0s - loss: 3016024.0000\b\b\b\b\b\b\b\b\b\b\b\b\b\b\b\b\b\b\b\b\b\b\b\b\b\b\b\b\b\b\b\b\b\b\b\b\b\b\b\b\b\b\b\b\b\b\b\b\b\b\b\b\b\b\b\b\b\b\b\b\b\b\b\b\b\b\b\b\b\r",
       "19/19 [==============================] - 0s 3ms/step - loss: 3816910.5000 - val_loss: 3231773.7500\n",
       "Epoch 55/100\n",
       "\r",
       " 1/19 [&gt;.............................] - ETA: 0s - loss: 4606901.5000\b\b\b\b\b\b\b\b\b\b\b\b\b\b\b\b\b\b\b\b\b\b\b\b\b\b\b\b\b\b\b\b\b\b\b\b\b\b\b\b\b\b\b\b\b\b\b\b\b\b\b\b\b\b\b\b\b\b\b\b\b\b\b\b\b\b\b\b\b\r",
       "19/19 [==============================] - 0s 3ms/step - loss: 3751894.2500 - val_loss: 3182885.7500\n",
       "Epoch 56/100\n",
       "\r",
       " 1/19 [&gt;.............................] - ETA: 0s - loss: 5164779.0000\b\b\b\b\b\b\b\b\b\b\b\b\b\b\b\b\b\b\b\b\b\b\b\b\b\b\b\b\b\b\b\b\b\b\b\b\b\b\b\b\b\b\b\b\b\b\b\b\b\b\b\b\b\b\b\b\b\b\b\b\b\b\b\b\b\b\b\b\b\r",
       "19/19 [==============================] - 0s 2ms/step - loss: 3683538.5000 - val_loss: 3104943.5000\n",
       "Epoch 57/100\n",
       "\r",
       " 1/19 [&gt;.............................] - ETA: 0s - loss: 3417091.2500\b\b\b\b\b\b\b\b\b\b\b\b\b\b\b\b\b\b\b\b\b\b\b\b\b\b\b\b\b\b\b\b\b\b\b\b\b\b\b\b\b\b\b\b\b\b\b\b\b\b\b\b\b\b\b\b\b\b\b\b\b\b\b\b\b\b\b\b\b\r",
       "19/19 [==============================] - 0s 2ms/step - loss: 3614283.7500 - val_loss: 3045289.2500\n",
       "Epoch 58/100\n",
       "\r",
       " 1/19 [&gt;.............................] - ETA: 0s - loss: 3664639.5000\b\b\b\b\b\b\b\b\b\b\b\b\b\b\b\b\b\b\b\b\b\b\b\b\b\b\b\b\b\b\b\b\b\b\b\b\b\b\b\b\b\b\b\b\b\b\b\b\b\b\b\b\b\b\b\b\b\b\b\b\b\b\b\b\b\b\b\b\b\r",
       "19/19 [==============================] - 0s 3ms/step - loss: 3540712.7500 - val_loss: 3005448.5000\n",
       "Epoch 59/100\n",
       "\r",
       " 1/19 [&gt;.............................] - ETA: 0s - loss: 2674994.0000\b\b\b\b\b\b\b\b\b\b\b\b\b\b\b\b\b\b\b\b\b\b\b\b\b\b\b\b\b\b\b\b\b\b\b\b\b\b\b\b\b\b\b\b\b\b\b\b\b\b\b\b\b\b\b\b\b\b\b\b\b\b\b\b\b\b\b\b\b\r",
       "19/19 [==============================] - 0s 3ms/step - loss: 3470752.5000 - val_loss: 2950500.0000\n",
       "Epoch 60/100\n",
       "\r",
       " 1/19 [&gt;.............................] - ETA: 0s - loss: 5113616.5000\b\b\b\b\b\b\b\b\b\b\b\b\b\b\b\b\b\b\b\b\b\b\b\b\b\b\b\b\b\b\b\b\b\b\b\b\b\b\b\b\b\b\b\b\b\b\b\b\b\b\b\b\b\b\b\b\b\b\b\b\b\b\b\b\b\b\b\b\b\r",
       "19/19 [==============================] - 0s 3ms/step - loss: 3405390.2500 - val_loss: 2873381.2500\n",
       "Epoch 61/100\n",
       "\r",
       " 1/19 [&gt;.............................] - ETA: 0s - loss: 2733661.0000\b\b\b\b\b\b\b\b\b\b\b\b\b\b\b\b\b\b\b\b\b\b\b\b\b\b\b\b\b\b\b\b\b\b\b\b\b\b\b\b\b\b\b\b\b\b\b\b\b\b\b\b\b\b\b\b\b\b\b\b\b\b\b\b\b\b\b\b\b\r",
       "19/19 [==============================] - 0s 3ms/step - loss: 3327710.5000 - val_loss: 2809955.2500\n",
       "Epoch 62/100\n",
       "\r",
       " 1/19 [&gt;.............................] - ETA: 0s - loss: 4037394.0000\b\b\b\b\b\b\b\b\b\b\b\b\b\b\b\b\b\b\b\b\b\b\b\b\b\b\b\b\b\b\b\b\b\b\b\b\b\b\b\b\b\b\b\b\b\b\b\b\b\b\b\b\b\b\b\b\b\b\b\b\b\b\b\b\b\b\b\b\b\r",
       "19/19 [==============================] - 0s 2ms/step - loss: 3254516.0000 - val_loss: 2772752.5000\n",
       "Epoch 63/100\n",
       "\r",
       " 1/19 [&gt;.............................] - ETA: 0s - loss: 4247751.0000\b\b\b\b\b\b\b\b\b\b\b\b\b\b\b\b\b\b\b\b\b\b\b\b\b\b\b\b\b\b\b\b\b\b\b\b\b\b\b\b\b\b\b\b\b\b\b\b\b\b\b\b\b\b\b\b\b\b\b\b\b\b\b\b\b\b\b\b\b\r",
       "19/19 [==============================] - 0s 3ms/step - loss: 3183535.0000 - val_loss: 2682738.7500\n",
       "Epoch 64/100\n",
       "\r",
       " 1/19 [&gt;.............................] - ETA: 0s - loss: 3554381.5000\b\b\b\b\b\b\b\b\b\b\b\b\b\b\b\b\b\b\b\b\b\b\b\b\b\b\b\b\b\b\b\b\b\b\b\b\b\b\b\b\b\b\b\b\b\b\b\b\b\b\b\b\b\b\b\b\b\b\b\b\b\b\b\b\b\b\b\b\b\r",
       "19/19 [==============================] - 0s 3ms/step - loss: 3110843.5000 - val_loss: 2631398.2500\n",
       "Epoch 65/100\n",
       "\r",
       " 1/19 [&gt;.............................] - ETA: 0s - loss: 2790081.5000\b\b\b\b\b\b\b\b\b\b\b\b\b\b\b\b\b\b\b\b\b\b\b\b\b\b\b\b\b\b\b\b\b\b\b\b\b\b\b\b\b\b\b\b\b\b\b\b\b\b\b\b\b\b\b\b\b\b\b\b\b\b\b\b\b\b\b\b\b\r",
       "19/19 [==============================] - 0s 3ms/step - loss: 3038171.5000 - val_loss: 2580778.0000\n",
       "Epoch 66/100\n",
       "\r",
       " 1/19 [&gt;.............................] - ETA: 0s - loss: 3657846.5000\b\b\b\b\b\b\b\b\b\b\b\b\b\b\b\b\b\b\b\b\b\b\b\b\b\b\b\b\b\b\b\b\b\b\b\b\b\b\b\b\b\b\b\b\b\b\b\b\b\b\b\b\b\b\b\b\b\b\b\b\b\b\b\b\b\b\b\b\b\r",
       "19/19 [==============================] - 0s 2ms/step - loss: 2967990.2500 - val_loss: 2497521.2500\n",
       "Epoch 67/100\n",
       "\r",
       " 1/19 [&gt;.............................] - ETA: 0s - loss: 3227655.5000\b\b\b\b\b\b\b\b\b\b\b\b\b\b\b\b\b\b\b\b\b\b\b\b\b\b\b\b\b\b\b\b\b\b\b\b\b\b\b\b\b\b\b\b\b\b\b\b\b\b\b\b\b\b\b\b\b\b\b\b\b\b\b\b\b\b\b\b\b\r",
       "19/19 [==============================] - 0s 3ms/step - loss: 2895781.5000 - val_loss: 2433620.0000\n",
       "Epoch 68/100\n",
       "\r",
       " 1/19 [&gt;.............................] - ETA: 0s - loss: 2949338.2500\b\b\b\b\b\b\b\b\b\b\b\b\b\b\b\b\b\b\b\b\b\b\b\b\b\b\b\b\b\b\b\b\b\b\b\b\b\b\b\b\b\b\b\b\b\b\b\b\b\b\b\b\b\b\b\b\b\b\b\b\b\b\b\b\b\b\b\b\b\r",
       "19/19 [==============================] - 0s 3ms/step - loss: 2821797.2500 - val_loss: 2381728.0000\n",
       "Epoch 69/100\n",
       "\r",
       " 1/19 [&gt;.............................] - ETA: 0s - loss: 3659546.5000\b\b\b\b\b\b\b\b\b\b\b\b\b\b\b\b\b\b\b\b\b\b\b\b\b\b\b\b\b\b\b\b\b\b\b\b\b\b\b\b\b\b\b\b\b\b\b\b\b\b\b\b\b\b\b\b\b\b\b\b\b\b\b\b\b\b\b\b\b\r",
       "19/19 [==============================] - 0s 3ms/step - loss: 2748991.5000 - val_loss: 2303510.7500\n",
       "Epoch 70/100\n",
       "\r",
       " 1/19 [&gt;.............................] - ETA: 0s - loss: 2580721.7500\b\b\b\b\b\b\b\b\b\b\b\b\b\b\b\b\b\b\b\b\b\b\b\b\b\b\b\b\b\b\b\b\b\b\b\b\b\b\b\b\b\b\b\b\b\b\b\b\b\b\b\b\b\b\b\b\b\b\b\b\b\b\b\b\b\b\b\b\b\r",
       "19/19 [==============================] - 0s 3ms/step - loss: 2675192.0000 - val_loss: 2235947.0000\n",
       "Epoch 71/100\n",
       "\r",
       " 1/19 [&gt;.............................] - ETA: 0s - loss: 3070692.5000\b\b\b\b\b\b\b\b\b\b\b\b\b\b\b\b\b\b\b\b\b\b\b\b\b\b\b\b\b\b\b\b\b\b\b\b\b\b\b\b\b\b\b\b\b\b\b\b\b\b\b\b\b\b\b\b\b\b\b\b\b\b\b\b\b\b\b\b\b\r",
       "19/19 [==============================] - 0s 3ms/step - loss: 2602078.2500 - val_loss: 2190916.2500\n",
       "Epoch 72/100\n",
       "\r",
       " 1/19 [&gt;.............................] - ETA: 0s - loss: 1770283.2500\b\b\b\b\b\b\b\b\b\b\b\b\b\b\b\b\b\b\b\b\b\b\b\b\b\b\b\b\b\b\b\b\b\b\b\b\b\b\b\b\b\b\b\b\b\b\b\b\b\b\b\b\b\b\b\b\b\b\b\b\b\b\b\b\b\b\b\b\b\r",
       "19/19 [==============================] - 0s 3ms/step - loss: 2531893.0000 - val_loss: 2142730.5000\n",
       "Epoch 73/100\n",
       "\r",
       " 1/19 [&gt;.............................] - ETA: 0s - loss: 2056028.3750\b\b\b\b\b\b\b\b\b\b\b\b\b\b\b\b\b\b\b\b\b\b\b\b\b\b\b\b\b\b\b\b\b\b\b\b\b\b\b\b\b\b\b\b\b\b\b\b\b\b\b\b\b\b\b\b\b\b\b\b\b\b\b\b\b\b\b\b\b\r",
       "19/19 [==============================] - 0s 3ms/step - loss: 2459402.0000 - val_loss: 2067604.5000\n",
       "Epoch 74/100\n",
       "\r",
       " 1/19 [&gt;.............................] - ETA: 0s - loss: 1830342.2500\b\b\b\b\b\b\b\b\b\b\b\b\b\b\b\b\b\b\b\b\b\b\b\b\b\b\b\b\b\b\b\b\b\b\b\b\b\b\b\b\b\b\b\b\b\b\b\b\b\b\b\b\b\b\b\b\b\b\b\b\b\b\b\b\b\b\b\b\b\r",
       "19/19 [==============================] - 0s 3ms/step - loss: 2388845.2500 - val_loss: 2005417.1250\n",
       "Epoch 75/100\n",
       "\r",
       " 1/19 [&gt;.............................] - ETA: 0s - loss: 2666285.0000\b\b\b\b\b\b\b\b\b\b\b\b\b\b\b\b\b\b\b\b\b\b\b\b\b\b\b\b\b\b\b\b\b\b\b\b\b\b\b\b\b\b\b\b\b\b\b\b\b\b\b\b\b\b\b\b\b\b\b\b\b\b\b\b\b\b\b\b\b\r",
       "19/19 [==============================] - 0s 3ms/step - loss: 2310857.7500 - val_loss: 1930139.1250\n",
       "Epoch 76/100\n",
       "\r",
       " 1/19 [&gt;.............................] - ETA: 0s - loss: 2531154.2500\b\b\b\b\b\b\b\b\b\b\b\b\b\b\b\b\b\b\b\b\b\b\b\b\b\b\b\b\b\b\b\b\b\b\b\b\b\b\b\b\b\b\b\b\b\b\b\b\b\b\b\b\b\b\b\b\b\b\b\b\b\b\b\b\b\b\b\b\b\r",
       "19/19 [==============================] - 0s 3ms/step - loss: 2241225.7500 - val_loss: 1875692.3750\n",
       "Epoch 77/100\n",
       "\r",
       " 1/19 [&gt;.............................] - ETA: 0s - loss: 1424537.5000\b\b\b\b\b\b\b\b\b\b\b\b\b\b\b\b\b\b\b\b\b\b\b\b\b\b\b\b\b\b\b\b\b\b\b\b\b\b\b\b\b\b\b\b\b\b\b\b\b\b\b\b\b\b\b\b\b\b\b\b\b\b\b\b\b\b\b\b\b\r",
       "19/19 [==============================] - 0s 2ms/step - loss: 2170541.2500 - val_loss: 1814677.1250\n",
       "Epoch 78/100\n",
       "\r",
       " 1/19 [&gt;.............................] - ETA: 0s - loss: 1744420.7500\b\b\b\b\b\b\b\b\b\b\b\b\b\b\b\b\b\b\b\b\b\b\b\b\b\b\b\b\b\b\b\b\b\b\b\b\b\b\b\b\b\b\b\b\b\b\b\b\b\b\b\b\b\b\b\b\b\b\b\b\b\b\b\b\b\b\b\b\b\r",
       "19/19 [==============================] - 0s 3ms/step - loss: 2100744.0000 - val_loss: 1733119.7500\n",
       "Epoch 79/100\n",
       "\r",
       " 1/19 [&gt;.............................] - ETA: 0s - loss: 1554671.2500\b\b\b\b\b\b\b\b\b\b\b\b\b\b\b\b\b\b\b\b\b\b\b\b\b\b\b\b\b\b\b\b\b\b\b\b\b\b\b\b\b\b\b\b\b\b\b\b\b\b\b\b\b\b\b\b\b\b\b\b\b\b\b\b\b\b\b\b\b\r",
       "19/19 [==============================] - 0s 2ms/step - loss: 2033423.3750 - val_loss: 1712222.6250\n",
       "Epoch 80/100\n",
       "\r",
       " 1/19 [&gt;.............................] - ETA: 0s - loss: 1490785.3750\b\b\b\b\b\b\b\b\b\b\b\b\b\b\b\b\b\b\b\b\b\b\b\b\b\b\b\b\b\b\b\b\b\b\b\b\b\b\b\b\b\b\b\b\b\b\b\b\b\b\b\b\b\b\b\b\b\b\b\b\b\b\b\b\b\b\b\b\b\r",
       "19/19 [==============================] - 0s 3ms/step - loss: 1963888.2500 - val_loss: 1615827.5000\n",
       "Epoch 81/100\n",
       "\r",
       " 1/19 [&gt;.............................] - ETA: 0s - loss: 1551316.3750\b\b\b\b\b\b\b\b\b\b\b\b\b\b\b\b\b\b\b\b\b\b\b\b\b\b\b\b\b\b\b\b\b\b\b\b\b\b\b\b\b\b\b\b\b\b\b\b\b\b\b\b\b\b\b\b\b\b\b\b\b\b\b\b\b\b\b\b\b\r",
       "19/19 [==============================] - 0s 3ms/step - loss: 1903344.2500 - val_loss: 1581672.2500\n",
       "Epoch 82/100\n",
       "\r",
       " 1/19 [&gt;.............................] - ETA: 0s - loss: 2032108.5000\b\b\b\b\b\b\b\b\b\b\b\b\b\b\b\b\b\b\b\b\b\b\b\b\b\b\b\b\b\b\b\b\b\b\b\b\b\b\b\b\b\b\b\b\b\b\b\b\b\b\b\b\b\b\b\b\b\b\b\b\b\b\b\b\b\b\b\b\b\r",
       "19/19 [==============================] - 0s 3ms/step - loss: 1838092.1250 - val_loss: 1529164.0000\n",
       "Epoch 83/100\n",
       "\r",
       " 1/19 [&gt;.............................] - ETA: 0s - loss: 1963742.3750\b\b\b\b\b\b\b\b\b\b\b\b\b\b\b\b\b\b\b\b\b\b\b\b\b\b\b\b\b\b\b\b\b\b\b\b\b\b\b\b\b\b\b\b\b\b\b\b\b\b\b\b\b\b\b\b\b\b\b\b\b\b\b\b\b\b\b\b\b\r",
       "19/19 [==============================] - 0s 2ms/step - loss: 1768433.7500 - val_loss: 1430407.2500\n",
       "Epoch 84/100\n",
       "\r",
       " 1/19 [&gt;.............................] - ETA: 0s - loss: 1765870.0000\b\b\b\b\b\b\b\b\b\b\b\b\b\b\b\b\b\b\b\b\b\b\b\b\b\b\b\b\b\b\b\b\b\b\b\b\b\b\b\b\b\b\b\b\b\b\b\b\b\b\b\b\b\b\b\b\b\b\b\b\b\b\b\b\b\b\b\b\b\r",
       "19/19 [==============================] - 0s 2ms/step - loss: 1705747.8750 - val_loss: 1396690.0000\n",
       "Epoch 85/100\n",
       "\r",
       " 1/19 [&gt;.............................] - ETA: 0s - loss: 1421509.2500\b\b\b\b\b\b\b\b\b\b\b\b\b\b\b\b\b\b\b\b\b\b\b\b\b\b\b\b\b\b\b\b\b\b\b\b\b\b\b\b\b\b\b\b\b\b\b\b\b\b\b\b\b\b\b\b\b\b\b\b\b\b\b\b\b\b\b\b\b\r",
       "19/19 [==============================] - 0s 3ms/step - loss: 1643002.6250 - val_loss: 1341362.3750\n",
       "Epoch 86/100\n",
       "\r",
       " 1/19 [&gt;.............................] - ETA: 0s - loss: 1179904.5000\b\b\b\b\b\b\b\b\b\b\b\b\b\b\b\b\b\b\b\b\b\b\b\b\b\b\b\b\b\b\b\b\b\b\b\b\b\b\b\b\b\b\b\b\b\b\b\b\b\b\b\b\b\b\b\b\b\b\b\b\b\b\b\b\b\b\b\b\b\r",
       "19/19 [==============================] - 0s 2ms/step - loss: 1583353.1250 - val_loss: 1275946.7500\n",
       "Epoch 87/100\n",
       "\r",
       " 1/19 [&gt;.............................] - ETA: 0s - loss: 1258626.0000\b\b\b\b\b\b\b\b\b\b\b\b\b\b\b\b\b\b\b\b\b\b\b\b\b\b\b\b\b\b\b\b\b\b\b\b\b\b\b\b\b\b\b\b\b\b\b\b\b\b\b\b\b\b\b\b\b\b\b\b\b\b\b\b\b\b\b\b\b\r",
       "19/19 [==============================] - 0s 3ms/step - loss: 1520701.8750 - val_loss: 1246378.1250\n",
       "Epoch 88/100\n",
       "\r",
       " 1/19 [&gt;.............................] - ETA: 0s - loss: 2043954.2500\b\b\b\b\b\b\b\b\b\b\b\b\b\b\b\b\b\b\b\b\b\b\b\b\b\b\b\b\b\b\b\b\b\b\b\b\b\b\b\b\b\b\b\b\b\b\b\b\b\b\b\b\b\b\b\b\b\b\b\b\b\b\b\b\b\b\b\b\b\r",
       "19/19 [==============================] - 0s 2ms/step - loss: 1466988.0000 - val_loss: 1195561.2500\n",
       "Epoch 89/100\n",
       "\r",
       " 1/19 [&gt;.............................] - ETA: 0s - loss: 1722548.8750\b\b\b\b\b\b\b\b\b\b\b\b\b\b\b\b\b\b\b\b\b\b\b\b\b\b\b\b\b\b\b\b\b\b\b\b\b\b\b\b\b\b\b\b\b\b\b\b\b\b\b\b\b\b\b\b\b\b\b\b\b\b\b\b\b\b\b\b\b\r",
       "19/19 [==============================] - 0s 3ms/step - loss: 1409507.8750 - val_loss: 1137199.0000\n",
       "Epoch 90/100\n",
       "\r",
       " 1/19 [&gt;.............................] - ETA: 0s - loss: 1576976.7500\b\b\b\b\b\b\b\b\b\b\b\b\b\b\b\b\b\b\b\b\b\b\b\b\b\b\b\b\b\b\b\b\b\b\b\b\b\b\b\b\b\b\b\b\b\b\b\b\b\b\b\b\b\b\b\b\b\b\b\b\b\b\b\b\b\b\b\b\b\r",
       "19/19 [==============================] - 0s 3ms/step - loss: 1351995.7500 - val_loss: 1092277.8750\n",
       "Epoch 91/100\n",
       "\r",
       " 1/19 [&gt;.............................] - ETA: 0s - loss: 529346.8125\b\b\b\b\b\b\b\b\b\b\b\b\b\b\b\b\b\b\b\b\b\b\b\b\b\b\b\b\b\b\b\b\b\b\b\b\b\b\b\b\b\b\b\b\b\b\b\b\b\b\b\b\b\b\b\b\b\b\b\b\b\b\b\b\b\b\b\b\r",
       "19/19 [==============================] - 0s 3ms/step - loss: 1299494.2500 - val_loss: 1063681.5000\n",
       "Epoch 92/100\n",
       "\r",
       " 1/19 [&gt;.............................] - ETA: 0s - loss: 981897.8750\b\b\b\b\b\b\b\b\b\b\b\b\b\b\b\b\b\b\b\b\b\b\b\b\b\b\b\b\b\b\b\b\b\b\b\b\b\b\b\b\b\b\b\b\b\b\b\b\b\b\b\b\b\b\b\b\b\b\b\b\b\b\b\b\b\b\b\b\r",
       "19/19 [==============================] - 0s 2ms/step - loss: 1249872.3750 - val_loss: 987207.1250\n",
       "Epoch 93/100\n",
       "\r",
       " 1/19 [&gt;.............................] - ETA: 0s - loss: 1407402.1250\b\b\b\b\b\b\b\b\b\b\b\b\b\b\b\b\b\b\b\b\b\b\b\b\b\b\b\b\b\b\b\b\b\b\b\b\b\b\b\b\b\b\b\b\b\b\b\b\b\b\b\b\b\b\b\b\b\b\b\b\b\b\b\b\b\b\b\b\b\r",
       "19/19 [==============================] - 0s 3ms/step - loss: 1202063.2500 - val_loss: 962764.7500\n",
       "Epoch 94/100\n",
       "\r",
       " 1/19 [&gt;.............................] - ETA: 0s - loss: 1181613.2500\b\b\b\b\b\b\b\b\b\b\b\b\b\b\b\b\b\b\b\b\b\b\b\b\b\b\b\b\b\b\b\b\b\b\b\b\b\b\b\b\b\b\b\b\b\b\b\b\b\b\b\b\b\b\b\b\b\b\b\b\b\b\b\b\b\b\b\b\b\r",
       "19/19 [==============================] - 0s 3ms/step - loss: 1150881.0000 - val_loss: 907882.6250\n",
       "Epoch 95/100\n",
       "\r",
       " 1/19 [&gt;.............................] - ETA: 0s - loss: 1137451.7500\b\b\b\b\b\b\b\b\b\b\b\b\b\b\b\b\b\b\b\b\b\b\b\b\b\b\b\b\b\b\b\b\b\b\b\b\b\b\b\b\b\b\b\b\b\b\b\b\b\b\b\b\b\b\b\b\b\b\b\b\b\b\b\b\b\b\b\b\b\r",
       "19/19 [==============================] - 0s 2ms/step - loss: 1109007.2500 - val_loss: 895905.8125\n",
       "Epoch 96/100\n",
       "\r",
       " 1/19 [&gt;.............................] - ETA: 0s - loss: 864893.6250\b\b\b\b\b\b\b\b\b\b\b\b\b\b\b\b\b\b\b\b\b\b\b\b\b\b\b\b\b\b\b\b\b\b\b\b\b\b\b\b\b\b\b\b\b\b\b\b\b\b\b\b\b\b\b\b\b\b\b\b\b\b\b\b\b\b\b\b\r",
       "19/19 [==============================] - 0s 3ms/step - loss: 1064338.2500 - val_loss: 833021.9375\n",
       "Epoch 97/100\n",
       "\r",
       " 1/19 [&gt;.............................] - ETA: 0s - loss: 794345.8750\b\b\b\b\b\b\b\b\b\b\b\b\b\b\b\b\b\b\b\b\b\b\b\b\b\b\b\b\b\b\b\b\b\b\b\b\b\b\b\b\b\b\b\b\b\b\b\b\b\b\b\b\b\b\b\b\b\b\b\b\b\b\b\b\b\b\b\b\r",
       "19/19 [==============================] - 0s 3ms/step - loss: 1019720.7500 - val_loss: 800542.0000\n",
       "Epoch 98/100\n",
       "\r",
       " 1/19 [&gt;.............................] - ETA: 0s - loss: 820476.1250\b\b\b\b\b\b\b\b\b\b\b\b\b\b\b\b\b\b\b\b\b\b\b\b\b\b\b\b\b\b\b\b\b\b\b\b\b\b\b\b\b\b\b\b\b\b\b\b\b\b\b\b\b\b\b\b\b\b\b\b\b\b\b\b\b\b\b\b\r",
       "19/19 [==============================] - 0s 2ms/step - loss: 982536.5625 - val_loss: 762670.0625\n",
       "Epoch 99/100\n",
       "\r",
       " 1/19 [&gt;.............................] - ETA: 0s - loss: 844174.6250\b\b\b\b\b\b\b\b\b\b\b\b\b\b\b\b\b\b\b\b\b\b\b\b\b\b\b\b\b\b\b\b\b\b\b\b\b\b\b\b\b\b\b\b\b\b\b\b\b\b\b\b\b\b\b\b\b\b\b\b\b\b\b\b\b\b\b\b\r",
       "19/19 [==============================] - 0s 3ms/step - loss: 942281.4375 - val_loss: 730361.3125\n",
       "Epoch 100/100\n",
       "\r",
       " 1/19 [&gt;.............................] - ETA: 0s - loss: 1225616.0000\b\b\b\b\b\b\b\b\b\b\b\b\b\b\b\b\b\b\b\b\b\b\b\b\b\b\b\b\b\b\b\b\b\b\b\b\b\b\b\b\b\b\b\b\b\b\b\b\b\b\b\b\b\b\b\b\b\b\b\b\b\b\b\b\b\b\b\b\b\r",
       "19/19 [==============================] - 0s 3ms/step - loss: 908592.6875 - val_loss: 698625.8750\n",
       "INFO:tensorflow:Assets written to: /tmp/tmpc96qnmv_/model/data/model/assets\n",
       "</div>"
      ]
     },
     "metadata": {
      "application/vnd.databricks.v1+output": {
       "addedWidgets": {},
       "arguments": {},
       "data": "<div class=\"ansiout\">Epoch 1/100\n\r 1/19 [&gt;.............................] - ETA: 5s - loss: 10055520.0000WARNING:tensorflow:Callback method `on_train_batch_end` is slow compared to the batch time (batch time: 0.0013s vs `on_train_batch_end` time: 0.0060s). Check your callbacks.\n\b\b\b\b\b\b\b\b\b\b\b\b\b\b\b\b\b\b\b\b\b\b\b\b\b\b\b\b\b\b\b\b\b\b\b\b\b\b\b\b\b\b\b\b\b\b\b\b\b\b\b\b\b\b\b\b\b\b\b\b\b\b\b\b\b\b\b\b\b\b\r11/19 [================&gt;.............] - ETA: 0s - loss: 10001708.0000\b\b\b\b\b\b\b\b\b\b\b\b\b\b\b\b\b\b\b\b\b\b\b\b\b\b\b\b\b\b\b\b\b\b\b\b\b\b\b\b\b\b\b\b\b\b\b\b\b\b\b\b\b\b\b\b\b\b\b\b\b\b\b\b\b\b\b\b\b\b\r19/19 [==============================] - 0s 11ms/step - loss: 10179006.0000 - val_loss: 7871335.0000\nEpoch 2/100\n\r 1/19 [&gt;.............................] - ETA: 0s - loss: 13771319.0000\b\b\b\b\b\b\b\b\b\b\b\b\b\b\b\b\b\b\b\b\b\b\b\b\b\b\b\b\b\b\b\b\b\b\b\b\b\b\b\b\b\b\b\b\b\b\b\b\b\b\b\b\b\b\b\b\b\b\b\b\b\b\b\b\b\b\b\b\b\b\r19/19 [==============================] - 0s 3ms/step - loss: 9685251.0000 - val_loss: 7391559.5000\nEpoch 3/100\n\r 1/19 [&gt;.............................] - ETA: 0s - loss: 9472041.0000\b\b\b\b\b\b\b\b\b\b\b\b\b\b\b\b\b\b\b\b\b\b\b\b\b\b\b\b\b\b\b\b\b\b\b\b\b\b\b\b\b\b\b\b\b\b\b\b\b\b\b\b\b\b\b\b\b\b\b\b\b\b\b\b\b\b\b\b\b\r19/19 [==============================] - 0s 3ms/step - loss: 9129348.0000 - val_loss: 6861825.5000\nEpoch 4/100\n\r 1/19 [&gt;.............................] - ETA: 0s - loss: 9446583.0000\b\b\b\b\b\b\b\b\b\b\b\b\b\b\b\b\b\b\b\b\b\b\b\b\b\b\b\b\b\b\b\b\b\b\b\b\b\b\b\b\b\b\b\b\b\b\b\b\b\b\b\b\b\b\b\b\b\b\b\b\b\b\b\b\b\b\b\b\b\r19/19 [==============================] - 0s 3ms/step - loss: 8519292.0000 - val_loss: 6290226.0000\nEpoch 5/100\n\r 1/19 [&gt;.............................] - ETA: 0s - loss: 8110341.0000\b\b\b\b\b\b\b\b\b\b\b\b\b\b\b\b\b\b\b\b\b\b\b\b\b\b\b\b\b\b\b\b\b\b\b\b\b\b\b\b\b\b\b\b\b\b\b\b\b\b\b\b\b\b\b\b\b\b\b\b\b\b\b\b\b\b\b\b\b\r19/19 [==============================] - 0s 3ms/step - loss: 7843187.5000 - val_loss: 5679195.5000\nEpoch 6/100\n\r 1/19 [&gt;.............................] - ETA: 0s - loss: 7226663.5000\b\b\b\b\b\b\b\b\b\b\b\b\b\b\b\b\b\b\b\b\b\b\b\b\b\b\b\b\b\b\b\b\b\b\b\b\b\b\b\b\b\b\b\b\b\b\b\b\b\b\b\b\b\b\b\b\b\b\b\b\b\b\b\b\b\b\b\b\b\r19/19 [==============================] - 0s 3ms/step - loss: 7128002.0000 - val_loss: 5136612.0000\nEpoch 7/100\n\r 1/19 [&gt;.............................] - ETA: 0s - loss: 8864010.0000\b\b\b\b\b\b\b\b\b\b\b\b\b\b\b\b\b\b\b\b\b\b\b\b\b\b\b\b\b\b\b\b\b\b\b\b\b\b\b\b\b\b\b\b\b\b\b\b\b\b\b\b\b\b\b\b\b\b\b\b\b\b\b\b\b\b\b\b\b\r19/19 [==============================] - 0s 3ms/step - loss: 6486761.5000 - val_loss: 4741664.5000\nEpoch 8/100\n\r 1/19 [&gt;.............................] - ETA: 0s - loss: 4677448.5000\b\b\b\b\b\b\b\b\b\b\b\b\b\b\b\b\b\b\b\b\b\b\b\b\b\b\b\b\b\b\b\b\b\b\b\b\b\b\b\b\b\b\b\b\b\b\b\b\b\b\b\b\b\b\b\b\b\b\b\b\b\b\b\b\b\b\b\b\b\r19/19 [==============================] - 0s 3ms/step - loss: 6000418.0000 - val_loss: 4532952.0000\nEpoch 9/100\n\r 1/19 [&gt;.............................] - ETA: 0s - loss: 3767233.0000\b\b\b\b\b\b\b\b\b\b\b\b\b\b\b\b\b\b\b\b\b\b\b\b\b\b\b\b\b\b\b\b\b\b\b\b\b\b\b\b\b\b\b\b\b\b\b\b\b\b\b\b\b\b\b\b\b\b\b\b\b\b\b\b\b\b\b\b\b\r19/19 [==============================] - 0s 3ms/step - loss: 5695422.5000 - val_loss: 4489989.0000\nEpoch 10/100\n\r 1/19 [&gt;.............................] - ETA: 0s - loss: 4501318.0000\b\b\b\b\b\b\b\b\b\b\b\b\b\b\b\b\b\b\b\b\b\b\b\b\b\b\b\b\b\b\b\b\b\b\b\b\b\b\b\b\b\b\b\b\b\b\b\b\b\b\b\b\b\b\b\b\b\b\b\b\b\b\b\b\b\b\b\b\b\r19/19 [==============================] - 0s 3ms/step - loss: 5552936.5000 - val_loss: 4525131.0000\nEpoch 11/100\n\r 1/19 [&gt;.............................] - ETA: 0s - loss: 5758632.0000\b\b\b\b\b\b\b\b\b\b\b\b\b\b\b\b\b\b\b\b\b\b\b\b\b\b\b\b\b\b\b\b\b\b\b\b\b\b\b\b\b\b\b\b\b\b\b\b\b\b\b\b\b\b\b\b\b\b\b\b\b\b\b\b\b\b\b\b\b\r19/19 [==============================] - 0s 3ms/step - loss: 5492945.0000 - val_loss: 4563854.5000\nEpoch 12/100\n\r 1/19 [&gt;.............................] - ETA: 0s - loss: 3997965.2500\b\b\b\b\b\b\b\b\b\b\b\b\b\b\b\b\b\b\b\b\b\b\b\b\b\b\b\b\b\b\b\b\b\b\b\b\b\b\b\b\b\b\b\b\b\b\b\b\b\b\b\b\b\b\b\b\b\b\b\b\b\b\b\b\b\b\b\b\b\r19/19 [==============================] - 0s 3ms/step - loss: 5468897.5000 - val_loss: 4578334.5000\nEpoch 13/100\n\r 1/19 [&gt;.............................] - ETA: 0s - loss: 5608205.0000\b\b\b\b\b\b\b\b\b\b\b\b\b\b\b\b\b\b\b\b\b\b\b\b\b\b\b\b\b\b\b\b\b\b\b\b\b\b\b\b\b\b\b\b\b\b\b\b\b\b\b\b\b\b\b\b\b\b\b\b\b\b\b\b\b\b\b\b\b\r19/19 [==============================] - 0s 3ms/step - loss: 5452141.0000 - val_loss: 4568090.0000\nEpoch 14/100\n\r 1/19 [&gt;.............................] - ETA: 0s - loss: 3346776.0000\b\b\b\b\b\b\b\b\b\b\b\b\b\b\b\b\b\b\b\b\b\b\b\b\b\b\b\b\b\b\b\b\b\b\b\b\b\b\b\b\b\b\b\b\b\b\b\b\b\b\b\b\b\b\b\b\b\b\b\b\b\b\b\b\b\b\b\b\b\r19/19 [==============================] - 0s 3ms/step - loss: 5435019.0000 - val_loss: 4575899.0000\nEpoch 15/100\n\r 1/19 [&gt;.............................] - ETA: 0s - loss: 4020123.0000\b\b\b\b\b\b\b\b\b\b\b\b\b\b\b\b\b\b\b\b\b\b\b\b\b\b\b\b\b\b\b\b\b\b\b\b\b\b\b\b\b\b\b\b\b\b\b\b\b\b\b\b\b\b\b\b\b\b\b\b\b\b\b\b\b\b\b\b\b\r19/19 [==============================] - 0s 3ms/step - loss: 5418808.5000 - val_loss: 4565071.5000\nEpoch 16/100\n\r 1/19 [&gt;.............................] - ETA: 0s - loss: 5625396.0000\b\b\b\b\b\b\b\b\b\b\b\b\b\b\b\b\b\b\b\b\b\b\b\b\b\b\b\b\b\b\b\b\b\b\b\b\b\b\b\b\b\b\b\b\b\b\b\b\b\b\b\b\b\b\b\b\b\b\b\b\b\b\b\b\b\b\b\b\b\r19/19 [==============================] - 0s 3ms/step - loss: 5402893.5000 - val_loss: 4546077.5000\nEpoch 17/100\n\r 1/19 [&gt;.............................] - ETA: 0s - loss: 5764910.0000\b\b\b\b\b\b\b\b\b\b\b\b\b\b\b\b\b\b\b\b\b\b\b\b\b\b\b\b\b\b\b\b\b\b\b\b\b\b\b\b\b\b\b\b\b\b\b\b\b\b\b\b\b\b\b\b\b\b\b\b\b\b\b\b\b\b\b\b\b\r19/19 [==============================] - 0s 3ms/step - loss: 5386976.5000 - val_loss: 4519284.0000\nEpoch 18/100\n\r 1/19 [&gt;.............................] - ETA: 0s - loss: 3492582.0000\b\b\b\b\b\b\b\b\b\b\b\b\b\b\b\b\b\b\b\b\b\b\b\b\b\b\b\b\b\b\b\b\b\b\b\b\b\b\b\b\b\b\b\b\b\b\b\b\b\b\b\b\b\b\b\b\b\b\b\b\b\b\b\b\b\b\b\b\b\r19/19 [==============================] - 0s 3ms/step - loss: 5367650.5000 - val_loss: 4514499.5000\nEpoch 19/100\n\r 1/19 [&gt;.............................] - ETA: 0s - loss: 5411690.5000\b\b\b\b\b\b\b\b\b\b\b\b\b\b\b\b\b\b\b\b\b\b\b\b\b\b\b\b\b\b\b\b\b\b\b\b\b\b\b\b\b\b\b\b\b\b\b\b\b\b\b\b\b\b\b\b\b\b\b\b\b\b\b\b\b\b\b\b\b\r19/19 [==============================] - 0s 3ms/step - loss: 5350174.0000 - val_loss: 4512688.5000\nEpoch 20/100\n\r 1/19 [&gt;.............................] - ETA: 0s - loss: 6461219.0000\b\b\b\b\b\b\b\b\b\b\b\b\b\b\b\b\b\b\b\b\b\b\b\b\b\b\b\b\b\b\b\b\b\b\b\b\b\b\b\b\b\b\b\b\b\b\b\b\b\b\b\b\b\b\b\b\b\b\b\b\b\b\b\b\b\b\b\b\b\r19/19 [==============================] - 0s 3ms/step - loss: 5329633.5000 - val_loss: 4482387.0000\nEpoch 21/100\n\r 1/19 [&gt;.............................] - ETA: 0s - loss: 4211097.0000\b\b\b\b\b\b\b\b\b\b\b\b\b\b\b\b\b\b\b\b\b\b\b\b\b\b\b\b\b\b\b\b\b\b\b\b\b\b\b\b\b\b\b\b\b\b\b\b\b\b\b\b\b\b\b\b\b\b\b\b\b\b\b\b\b\b\b\b\b\r19/19 [==============================] - 0s 3ms/step - loss: 5310167.0000 - val_loss: 4461464.5000\nEpoch 22/100\n\r 1/19 [&gt;.............................] - ETA: 0s - loss: 6139073.5000\b\b\b\b\b\b\b\b\b\b\b\b\b\b\b\b\b\b\b\b\b\b\b\b\b\b\b\b\b\b\b\b\b\b\b\b\b\b\b\b\b\b\b\b\b\b\b\b\b\b\b\b\b\b\b\b\b\b\b\b\b\b\b\b\b\b\b\b\b\r19/19 [==============================] - 0s 3ms/step - loss: 5289555.0000 - val_loss: 4452640.5000\nEpoch 23/100\n\r 1/19 [&gt;.............................] - ETA: 0s - loss: 6104666.0000\b\b\b\b\b\b\b\b\b\b\b\b\b\b\b\b\b\b\b\b\b\b\b\b\b\b\b\b\b\b\b\b\b\b\b\b\b\b\b\b\b\b\b\b\b\b\b\b\b\b\b\b\b\b\b\b\b\b\b\b\b\b\b\b\b\b\b\b\b\r19/19 [==============================] - 0s 3ms/step - loss: 5268679.5000 - val_loss: 4442338.5000\nEpoch 24/100\n\r 1/19 [&gt;.............................] - ETA: 0s - loss: 3685017.2500\b\b\b\b\b\b\b\b\b\b\b\b\b\b\b\b\b\b\b\b\b\b\b\b\b\b\b\b\b\b\b\b\b\b\b\b\b\b\b\b\b\b\b\b\b\b\b\b\b\b\b\b\b\b\b\b\b\b\b\b\b\b\b\b\b\b\b\b\b\r19/19 [==============================] - 0s 3ms/step - loss: 5245925.5000 - val_loss: 4428758.0000\nEpoch 25/100\n\r 1/19 [&gt;.............................] - ETA: 0s - loss: 6239633.5000\b\b\b\b\b\b\b\b\b\b\b\b\b\b\b\b\b\b\b\b\b\b\b\b\b\b\b\b\b\b\b\b\b\b\b\b\b\b\b\b\b\b\b\b\b\b\b\b\b\b\b\b\b\b\b\b\b\b\b\b\b\b\b\b\b\b\b\b\b\r19/19 [==============================] - 0s 2ms/step - loss: 5221256.0000 - val_loss: 4409988.0000\nEpoch 26/100\n\r 1/19 [&gt;.............................] - ETA: 0s - loss: 4542474.0000\b\b\b\b\b\b\b\b\b\b\b\b\b\b\b\b\b\b\b\b\b\b\b\b\b\b\b\b\b\b\b\b\b\b\b\b\b\b\b\b\b\b\b\b\b\b\b\b\b\b\b\b\b\b\b\b\b\b\b\b\b\b\b\b\b\b\b\b\b\r19/19 [==============================] - 0s 3ms/step - loss: 5196056.0000 - val_loss: 4383560.5000\nEpoch 27/100\n\r 1/19 [&gt;.............................] - ETA: 0s - loss: 3738085.7500\b\b\b\b\b\b\b\b\b\b\b\b\b\b\b\b\b\b\b\b\b\b\b\b\b\b\b\b\b\b\b\b\b\b\b\b\b\b\b\b\b\b\b\b\b\b\b\b\b\b\b\b\b\b\b\b\b\b\b\b\b\b\b\b\b\b\b\b\b\r19/19 [==============================] - 0s 3ms/step - loss: 5170822.0000 - val_loss: 4347935.0000\nEpoch 28/100\n\r 1/19 [&gt;.............................] - ETA: 0s - loss: 6087713.0000\b\b\b\b\b\b\b\b\b\b\b\b\b\b\b\b\b\b\b\b\b\b\b\b\b\b\b\b\b\b\b\b\b\b\b\b\b\b\b\b\b\b\b\b\b\b\b\b\b\b\b\b\b\b\b\b\b\b\b\b\b\b\b\b\b\b\b\b\b\r19/19 [==============================] - 0s 3ms/step - loss: 5140987.0000 - val_loss: 4341304.0000\nEpoch 29/100\n\r 1/19 [&gt;.............................] - ETA: 0s - loss: 5977152.0000\b\b\b\b\b\b\b\b\b\b\b\b\b\b\b\b\b\b\b\b\b\b\b\b\b\b\b\b\b\b\b\b\b\b\b\b\b\b\b\b\b\b\b\b\b\b\b\b\b\b\b\b\b\b\b\b\b\b\b\b\b\b\b\b\b\b\b\b\b\r19/19 [==============================] - 0s 3ms/step - loss: 5110937.5000 - val_loss: 4308670.0000\nEpoch 30/100\n\r 1/19 [&gt;.............................] - ETA: 0s - loss: 6845535.0000\b\b\b\b\b\b\b\b\b\b\b\b\b\b\b\b\b\b\b\b\b\b\b\b\b\b\b\b\b\b\b\b\b\b\b\b\b\b\b\b\b\b\b\b\b\b\b\b\b\b\b\b\b\b\b\b\b\b\b\b\b\b\b\b\b\b\b\b\b\r19/19 [==============================] - 0s 3ms/step - loss: 5079493.5000 - val_loss: 4278577.5000\nEpoch 31/100\n\r 1/19 [&gt;.............................] - ETA: 0s - loss: 4303778.5000\b\b\b\b\b\b\b\b\b\b\b\b\b\b\b\b\b\b\b\b\b\b\b\b\b\b\b\b\b\b\b\b\b\b\b\b\b\b\b\b\b\b\b\b\b\b\b\b\b\b\b\b\b\b\b\b\b\b\b\b\b\b\b\b\b\b\b\b\b\r19/19 [==============================] - 0s 2ms/step - loss: 5044169.5000 - val_loss: 4257977.0000\nEpoch 32/100\n\r 1/19 [&gt;.............................] - ETA: 0s - loss: 5202675.0000\b\b\b\b\b\b\b\b\b\b\b\b\b\b\b\b\b\b\b\b\b\b\b\b\b\b\b\b\b\b\b\b\b\b\b\b\b\b\b\b\b\b\b\b\b\b\b\b\b\b\b\b\b\b\b\b\b\b\b\b\b\b\b\b\b\b\b\b\b\r19/19 [==============================] - 0s 3ms/step - loss: 5008893.5000 - val_loss: 4222254.0000\nEpoch 33/100\n\r 1/19 [&gt;.............................] - ETA: 0s - loss: 4845185.0000\b\b\b\b\b\b\b\b\b\b\b\b\b\b\b\b\b\b\b\b\b\b\b\b\b\b\b\b\b\b\b\b\b\b\b\b\b\b\b\b\b\b\b\b\b\b\b\b\b\b\b\b\b\b\b\b\b\b\b\b\b\b\b\b\b\b\b\b\b\r19/19 [==============================] - 0s 3ms/step - loss: 4970641.5000 - val_loss: 4196937.5000\nEpoch 34/100\n\r 1/19 [&gt;.............................] - ETA: 0s - loss: 4716707.0000\b\b\b\b\b\b\b\b\b\b\b\b\b\b\b\b\b\b\b\b\b\b\b\b\b\b\b\b\b\b\b\b\b\b\b\b\b\b\b\b\b\b\b\b\b\b\b\b\b\b\b\b\b\b\b\b\b\b\b\b\b\b\b\b\b\b\b\b\b\r19/19 [==============================] - 0s 3ms/step - loss: 4930045.0000 - val_loss: 4162061.0000\nEpoch 35/100\n\r 1/19 [&gt;.............................] - ETA: 0s - loss: 7889441.5000\b\b\b\b\b\b\b\b\b\b\b\b\b\b\b\b\b\b\b\b\b\b\b\b\b\b\b\b\b\b\b\b\b\b\b\b\b\b\b\b\b\b\b\b\b\b\b\b\b\b\b\b\b\b\b\b\b\b\b\b\b\b\b\b\b\b\b\b\b\r19/19 [==============================] - 0s 3ms/step - loss: 4894151.0000 - val_loss: 4117200.5000\nEpoch 36/100\n\r 1/19 [&gt;.............................] - ETA: 0s - loss: 4519568.0000\b\b\b\b\b\b\b\b\b\b\b\b\b\b\b\b\b\b\b\b\b\b\b\b\b\b\b\b\b\b\b\b\b\b\b\b\b\b\b\b\b\b\b\b\b\b\b\b\b\b\b\b\b\b\b\b\b\b\b\b\b\b\b\b\b\b\b\b\b\r19/19 [==============================] - 0s 3ms/step - loss: 4846938.5000 - val_loss: 4102181.2500\nEpoch 37/100\n\r 1/19 [&gt;.............................] - ETA: 0s - loss: 6137050.5000\b\b\b\b\b\b\b\b\b\b\b\b\b\b\b\b\b\b\b\b\b\b\b\b\b\b\b\b\b\b\b\b\b\b\b\b\b\b\b\b\b\b\b\b\b\b\b\b\b\b\b\b\b\b\b\b\b\b\b\b\b\b\b\b\b\b\b\b\b\r19/19 [==============================] - 0s 3ms/step - loss: 4800378.5000 - val_loss: 4053961.7500\nEpoch 38/100\n\r 1/19 [&gt;.............................] - ETA: 0s - loss: 2367509.0000\b\b\b\b\b\b\b\b\b\b\b\b\b\b\b\b\b\b\b\b\b\b\b\b\b\b\b\b\b\b\b\b\b\b\b\b\b\b\b\b\b\b\b\b\b\b\b\b\b\b\b\b\b\b\b\b\b\b\b\b\b\b\b\b\b\b\b\b\b\r19/19 [==============================] - 0s 3ms/step - loss: 4752293.0000 - val_loss: 4014775.0000\nEpoch 39/100\n\r 1/19 [&gt;.............................] - ETA: 0s - loss: 3096636.5000\b\b\b\b\b\b\b\b\b\b\b\b\b\b\b\b\b\b\b\b\b\b\b\b\b\b\b\b\b\b\b\b\b\b\b\b\b\b\b\b\b\b\b\b\b\b\b\b\b\b\b\b\b\b\b\b\b\b\b\b\b\b\b\b\b\b\b\b\b\r19/19 [==============================] - 0s 3ms/step - loss: 4704026.5000 - val_loss: 3987020.0000\nEpoch 40/100\n\r 1/19 [&gt;.............................] - ETA: 0s - loss: 4455425.0000\b\b\b\b\b\b\b\b\b\b\b\b\b\b\b\b\b\b\b\b\b\b\b\b\b\b\b\b\b\b\b\b\b\b\b\b\b\b\b\b\b\b\b\b\b\b\b\b\b\b\b\b\b\b\b\b\b\b\b\b\b\b\b\b\b\b\b\b\b\r19/19 [==============================] - 0s 2ms/step - loss: 4655464.5000 - val_loss: 3947275.0000\nEpoch 41/100\n\r 1/19 [&gt;.............................] - ETA: 0s - loss: 4843090.0000\b\b\b\b\b\b\b\b\b\b\b\b\b\b\b\b\b\b\b\b\b\b\b\b\b\b\b\b\b\b\b\b\b\b\b\b\b\b\b\b\b\b\b\b\b\b\b\b\b\b\b\b\b\b\b\b\b\b\b\b\b\b\b\b\b\b\b\b\b\r19/19 [==============================] - 0s 2ms/step - loss: 4601399.0000 - val_loss: 3877737.2500\nEpoch 42/100\n\r 1/19 [&gt;.............................] - ETA: 0s - loss: 5764209.0000\b\b\b\b\b\b\b\b\b\b\b\b\b\b\b\b\b\b\b\b\b\b\b\b\b\b\b\b\b\b\b\b\b\b\b\b\b\b\b\b\b\b\b\b\b\b\b\b\b\b\b\b\b\b\b\b\b\b\b\b\b\b\b\b\b\b\b\b\b\r19/19 [==============================] - 0s 3ms/step - loss: 4550633.0000 - val_loss: 3837027.2500\nEpoch 43/100\n\r 1/19 [&gt;.............................] - ETA: 0s - loss: 5128644.0000\b\b\b\b\b\b\b\b\b\b\b\b\b\b\b\b\b\b\b\b\b\b\b\b\b\b\b\b\b\b\b\b\b\b\b\b\b\b\b\b\b\b\b\b\b\b\b\b\b\b\b\b\b\b\b\b\b\b\b\b\b\b\b\b\b\b\b\b\b\r19/19 [==============================] - 0s 3ms/step - loss: 4496631.0000 - val_loss: 3810192.2500\nEpoch 44/100\n\r 1/19 [&gt;.............................] - ETA: 0s - loss: 2400408.0000\b\b\b\b\b\b\b\b\b\b\b\b\b\b\b\b\b\b\b\b\b\b\b\b\b\b\b\b\b\b\b\b\b\b\b\b\b\b\b\b\b\b\b\b\b\b\b\b\b\b\b\b\b\b\b\b\b\b\b\b\b\b\b\b\b\b\b\b\b\r19/19 [==============================] - 0s 2ms/step - loss: 4441776.0000 - val_loss: 3738479.0000\nEpoch 45/100\n\r 1/19 [&gt;.............................] - ETA: 0s - loss: 4711591.0000\b\b\b\b\b\b\b\b\b\b\b\b\b\b\b\b\b\b\b\b\b\b\b\b\b\b\b\b\b\b\b\b\b\b\b\b\b\b\b\b\b\b\b\b\b\b\b\b\b\b\b\b\b\b\b\b\b\b\b\b\b\b\b\b\b\b\b\b\b\r19/19 [==============================] - 0s 3ms/step - loss: 4381323.5000 - val_loss: 3716814.7500\nEpoch 46/100\n\r 1/19 [&gt;.............................] - ETA: 0s - loss: 3062557.0000\b\b\b\b\b\b\b\b\b\b\b\b\b\b\b\b\b\b\b\b\b\b\b\b\b\b\b\b\b\b\b\b\b\b\b\b\b\b\b\b\b\b\b\b\b\b\b\b\b\b\b\b\b\b\b\b\b\b\b\b\b\b\b\b\b\b\b\b\b\r19/19 [==============================] - 0s 3ms/step - loss: 4322021.5000 - val_loss: 3646040.7500\nEpoch 47/100\n\r 1/19 [&gt;.............................] - ETA: 0s - loss: 3862235.5000\b\b\b\b\b\b\b\b\b\b\b\b\b\b\b\b\b\b\b\b\b\b\b\b\b\b\b\b\b\b\b\b\b\b\b\b\b\b\b\b\b\b\b\b\b\b\b\b\b\b\b\b\b\b\b\b\b\b\b\b\b\b\b\b\b\b\b\b\b\r19/19 [==============================] - 0s 3ms/step - loss: 4274024.5000 - val_loss: 3592636.0000\nEpoch 48/100\n\r 1/19 [&gt;.............................] - ETA: 0s - loss: 3240533.0000\b\b\b\b\b\b\b\b\b\b\b\b\b\b\b\b\b\b\b\b\b\b\b\b\b\b\b\b\b\b\b\b\b\b\b\b\b\b\b\b\b\b\b\b\b\b\b\b\b\b\b\b\b\b\b\b\b\b\b\b\b\b\b\b\b\b\b\b\b\r19/19 [==============================] - 0s 3ms/step - loss: 4202361.0000 - val_loss: 3579334.7500\nEpoch 49/100\n\r 1/19 [&gt;.............................] - ETA: 0s - loss: 4627968.5000\b\b\b\b\b\b\b\b\b\b\b\b\b\b\b\b\b\b\b\b\b\b\b\b\b\b\b\b\b\b\b\b\b\b\b\b\b\b\b\b\b\b\b\b\b\b\b\b\b\b\b\b\b\b\b\b\b\b\b\b\b\b\b\b\b\b\b\b\b\r19/19 [==============================] - 0s 3ms/step - loss: 4146890.5000 - val_loss: 3467437.7500\nEpoch 50/100\n\r 1/19 [&gt;.............................] - ETA: 0s - loss: 2167468.5000\b\b\b\b\b\b\b\b\b\b\b\b\b\b\b\b\b\b\b\b\b\b\b\b\b\b\b\b\b\b\b\b\b\b\b\b\b\b\b\b\b\b\b\b\b\b\b\b\b\b\b\b\b\b\b\b\b\b\b\b\b\b\b\b\b\b\b\b\b\r19/19 [==============================] - 0s 3ms/step - loss: 4080920.0000 - val_loss: 3462668.2500\nEpoch 51/100\n\r 1/19 [&gt;.............................] - ETA: 0s - loss: 4006904.5000\b\b\b\b\b\b\b\b\b\b\b\b\b\b\b\b\b\b\b\b\b\b\b\b\b\b\b\b\b\b\b\b\b\b\b\b\b\b\b\b\b\b\b\b\b\b\b\b\b\b\b\b\b\b\b\b\b\b\b\b\b\b\b\b\b\b\b\b\b\r19/19 [==============================] - 0s 3ms/step - loss: 4017096.0000 - val_loss: 3414911.0000\nEpoch 52/100\n\r 1/19 [&gt;.............................] - ETA: 0s - loss: 4889816.0000\b\b\b\b\b\b\b\b\b\b\b\b\b\b\b\b\b\b\b\b\b\b\b\b\b\b\b\b\b\b\b\b\b\b\b\b\b\b\b\b\b\b\b\b\b\b\b\b\b\b\b\b\b\b\b\b\b\b\b\b\b\b\b\b\b\b\b\b\b\r19/19 [==============================] - 0s 3ms/step - loss: 3953608.0000 - val_loss: 3352345.0000\nEpoch 53/100\n\r 1/19 [&gt;.............................] - ETA: 0s - loss: 6201514.0000\b\b\b\b\b\b\b\b\b\b\b\b\b\b\b\b\b\b\b\b\b\b\b\b\b\b\b\b\b\b\b\b\b\b\b\b\b\b\b\b\b\b\b\b\b\b\b\b\b\b\b\b\b\b\b\b\b\b\b\b\b\b\b\b\b\b\b\b\b\r19/19 [==============================] - 0s 3ms/step - loss: 3889595.5000 - val_loss: 3275635.0000\nEpoch 54/100\n\r 1/19 [&gt;.............................] - ETA: 0s - loss: 3016024.0000\b\b\b\b\b\b\b\b\b\b\b\b\b\b\b\b\b\b\b\b\b\b\b\b\b\b\b\b\b\b\b\b\b\b\b\b\b\b\b\b\b\b\b\b\b\b\b\b\b\b\b\b\b\b\b\b\b\b\b\b\b\b\b\b\b\b\b\b\b\r19/19 [==============================] - 0s 3ms/step - loss: 3816910.5000 - val_loss: 3231773.7500\nEpoch 55/100\n\r 1/19 [&gt;.............................] - ETA: 0s - loss: 4606901.5000\b\b\b\b\b\b\b\b\b\b\b\b\b\b\b\b\b\b\b\b\b\b\b\b\b\b\b\b\b\b\b\b\b\b\b\b\b\b\b\b\b\b\b\b\b\b\b\b\b\b\b\b\b\b\b\b\b\b\b\b\b\b\b\b\b\b\b\b\b\r19/19 [==============================] - 0s 3ms/step - loss: 3751894.2500 - val_loss: 3182885.7500\nEpoch 56/100\n\r 1/19 [&gt;.............................] - ETA: 0s - loss: 5164779.0000\b\b\b\b\b\b\b\b\b\b\b\b\b\b\b\b\b\b\b\b\b\b\b\b\b\b\b\b\b\b\b\b\b\b\b\b\b\b\b\b\b\b\b\b\b\b\b\b\b\b\b\b\b\b\b\b\b\b\b\b\b\b\b\b\b\b\b\b\b\r19/19 [==============================] - 0s 2ms/step - loss: 3683538.5000 - val_loss: 3104943.5000\nEpoch 57/100\n\r 1/19 [&gt;.............................] - ETA: 0s - loss: 3417091.2500\b\b\b\b\b\b\b\b\b\b\b\b\b\b\b\b\b\b\b\b\b\b\b\b\b\b\b\b\b\b\b\b\b\b\b\b\b\b\b\b\b\b\b\b\b\b\b\b\b\b\b\b\b\b\b\b\b\b\b\b\b\b\b\b\b\b\b\b\b\r19/19 [==============================] - 0s 2ms/step - loss: 3614283.7500 - val_loss: 3045289.2500\nEpoch 58/100\n\r 1/19 [&gt;.............................] - ETA: 0s - loss: 3664639.5000\b\b\b\b\b\b\b\b\b\b\b\b\b\b\b\b\b\b\b\b\b\b\b\b\b\b\b\b\b\b\b\b\b\b\b\b\b\b\b\b\b\b\b\b\b\b\b\b\b\b\b\b\b\b\b\b\b\b\b\b\b\b\b\b\b\b\b\b\b\r19/19 [==============================] - 0s 3ms/step - loss: 3540712.7500 - val_loss: 3005448.5000\nEpoch 59/100\n\r 1/19 [&gt;.............................] - ETA: 0s - loss: 2674994.0000\b\b\b\b\b\b\b\b\b\b\b\b\b\b\b\b\b\b\b\b\b\b\b\b\b\b\b\b\b\b\b\b\b\b\b\b\b\b\b\b\b\b\b\b\b\b\b\b\b\b\b\b\b\b\b\b\b\b\b\b\b\b\b\b\b\b\b\b\b\r19/19 [==============================] - 0s 3ms/step - loss: 3470752.5000 - val_loss: 2950500.0000\nEpoch 60/100\n\r 1/19 [&gt;.............................] - ETA: 0s - loss: 5113616.5000\b\b\b\b\b\b\b\b\b\b\b\b\b\b\b\b\b\b\b\b\b\b\b\b\b\b\b\b\b\b\b\b\b\b\b\b\b\b\b\b\b\b\b\b\b\b\b\b\b\b\b\b\b\b\b\b\b\b\b\b\b\b\b\b\b\b\b\b\b\r19/19 [==============================] - 0s 3ms/step - loss: 3405390.2500 - val_loss: 2873381.2500\nEpoch 61/100\n\r 1/19 [&gt;.............................] - ETA: 0s - loss: 2733661.0000\b\b\b\b\b\b\b\b\b\b\b\b\b\b\b\b\b\b\b\b\b\b\b\b\b\b\b\b\b\b\b\b\b\b\b\b\b\b\b\b\b\b\b\b\b\b\b\b\b\b\b\b\b\b\b\b\b\b\b\b\b\b\b\b\b\b\b\b\b\r19/19 [==============================] - 0s 3ms/step - loss: 3327710.5000 - val_loss: 2809955.2500\nEpoch 62/100\n\r 1/19 [&gt;.............................] - ETA: 0s - loss: 4037394.0000\b\b\b\b\b\b\b\b\b\b\b\b\b\b\b\b\b\b\b\b\b\b\b\b\b\b\b\b\b\b\b\b\b\b\b\b\b\b\b\b\b\b\b\b\b\b\b\b\b\b\b\b\b\b\b\b\b\b\b\b\b\b\b\b\b\b\b\b\b\r19/19 [==============================] - 0s 2ms/step - loss: 3254516.0000 - val_loss: 2772752.5000\nEpoch 63/100\n\r 1/19 [&gt;.............................] - ETA: 0s - loss: 4247751.0000\b\b\b\b\b\b\b\b\b\b\b\b\b\b\b\b\b\b\b\b\b\b\b\b\b\b\b\b\b\b\b\b\b\b\b\b\b\b\b\b\b\b\b\b\b\b\b\b\b\b\b\b\b\b\b\b\b\b\b\b\b\b\b\b\b\b\b\b\b\r19/19 [==============================] - 0s 3ms/step - loss: 3183535.0000 - val_loss: 2682738.7500\nEpoch 64/100\n\r 1/19 [&gt;.............................] - ETA: 0s - loss: 3554381.5000\b\b\b\b\b\b\b\b\b\b\b\b\b\b\b\b\b\b\b\b\b\b\b\b\b\b\b\b\b\b\b\b\b\b\b\b\b\b\b\b\b\b\b\b\b\b\b\b\b\b\b\b\b\b\b\b\b\b\b\b\b\b\b\b\b\b\b\b\b\r19/19 [==============================] - 0s 3ms/step - loss: 3110843.5000 - val_loss: 2631398.2500\nEpoch 65/100\n\r 1/19 [&gt;.............................] - ETA: 0s - loss: 2790081.5000\b\b\b\b\b\b\b\b\b\b\b\b\b\b\b\b\b\b\b\b\b\b\b\b\b\b\b\b\b\b\b\b\b\b\b\b\b\b\b\b\b\b\b\b\b\b\b\b\b\b\b\b\b\b\b\b\b\b\b\b\b\b\b\b\b\b\b\b\b\r19/19 [==============================] - 0s 3ms/step - loss: 3038171.5000 - val_loss: 2580778.0000\nEpoch 66/100\n\r 1/19 [&gt;.............................] - ETA: 0s - loss: 3657846.5000\b\b\b\b\b\b\b\b\b\b\b\b\b\b\b\b\b\b\b\b\b\b\b\b\b\b\b\b\b\b\b\b\b\b\b\b\b\b\b\b\b\b\b\b\b\b\b\b\b\b\b\b\b\b\b\b\b\b\b\b\b\b\b\b\b\b\b\b\b\r19/19 [==============================] - 0s 2ms/step - loss: 2967990.2500 - val_loss: 2497521.2500\nEpoch 67/100\n\r 1/19 [&gt;.............................] - ETA: 0s - loss: 3227655.5000\b\b\b\b\b\b\b\b\b\b\b\b\b\b\b\b\b\b\b\b\b\b\b\b\b\b\b\b\b\b\b\b\b\b\b\b\b\b\b\b\b\b\b\b\b\b\b\b\b\b\b\b\b\b\b\b\b\b\b\b\b\b\b\b\b\b\b\b\b\r19/19 [==============================] - 0s 3ms/step - loss: 2895781.5000 - val_loss: 2433620.0000\nEpoch 68/100\n\r 1/19 [&gt;.............................] - ETA: 0s - loss: 2949338.2500\b\b\b\b\b\b\b\b\b\b\b\b\b\b\b\b\b\b\b\b\b\b\b\b\b\b\b\b\b\b\b\b\b\b\b\b\b\b\b\b\b\b\b\b\b\b\b\b\b\b\b\b\b\b\b\b\b\b\b\b\b\b\b\b\b\b\b\b\b\r19/19 [==============================] - 0s 3ms/step - loss: 2821797.2500 - val_loss: 2381728.0000\nEpoch 69/100\n\r 1/19 [&gt;.............................] - ETA: 0s - loss: 3659546.5000\b\b\b\b\b\b\b\b\b\b\b\b\b\b\b\b\b\b\b\b\b\b\b\b\b\b\b\b\b\b\b\b\b\b\b\b\b\b\b\b\b\b\b\b\b\b\b\b\b\b\b\b\b\b\b\b\b\b\b\b\b\b\b\b\b\b\b\b\b\r19/19 [==============================] - 0s 3ms/step - loss: 2748991.5000 - val_loss: 2303510.7500\nEpoch 70/100\n\r 1/19 [&gt;.............................] - ETA: 0s - loss: 2580721.7500\b\b\b\b\b\b\b\b\b\b\b\b\b\b\b\b\b\b\b\b\b\b\b\b\b\b\b\b\b\b\b\b\b\b\b\b\b\b\b\b\b\b\b\b\b\b\b\b\b\b\b\b\b\b\b\b\b\b\b\b\b\b\b\b\b\b\b\b\b\r19/19 [==============================] - 0s 3ms/step - loss: 2675192.0000 - val_loss: 2235947.0000\nEpoch 71/100\n\r 1/19 [&gt;.............................] - ETA: 0s - loss: 3070692.5000\b\b\b\b\b\b\b\b\b\b\b\b\b\b\b\b\b\b\b\b\b\b\b\b\b\b\b\b\b\b\b\b\b\b\b\b\b\b\b\b\b\b\b\b\b\b\b\b\b\b\b\b\b\b\b\b\b\b\b\b\b\b\b\b\b\b\b\b\b\r19/19 [==============================] - 0s 3ms/step - loss: 2602078.2500 - val_loss: 2190916.2500\nEpoch 72/100\n\r 1/19 [&gt;.............................] - ETA: 0s - loss: 1770283.2500\b\b\b\b\b\b\b\b\b\b\b\b\b\b\b\b\b\b\b\b\b\b\b\b\b\b\b\b\b\b\b\b\b\b\b\b\b\b\b\b\b\b\b\b\b\b\b\b\b\b\b\b\b\b\b\b\b\b\b\b\b\b\b\b\b\b\b\b\b\r19/19 [==============================] - 0s 3ms/step - loss: 2531893.0000 - val_loss: 2142730.5000\nEpoch 73/100\n\r 1/19 [&gt;.............................] - ETA: 0s - loss: 2056028.3750\b\b\b\b\b\b\b\b\b\b\b\b\b\b\b\b\b\b\b\b\b\b\b\b\b\b\b\b\b\b\b\b\b\b\b\b\b\b\b\b\b\b\b\b\b\b\b\b\b\b\b\b\b\b\b\b\b\b\b\b\b\b\b\b\b\b\b\b\b\r19/19 [==============================] - 0s 3ms/step - loss: 2459402.0000 - val_loss: 2067604.5000\nEpoch 74/100\n\r 1/19 [&gt;.............................] - ETA: 0s - loss: 1830342.2500\b\b\b\b\b\b\b\b\b\b\b\b\b\b\b\b\b\b\b\b\b\b\b\b\b\b\b\b\b\b\b\b\b\b\b\b\b\b\b\b\b\b\b\b\b\b\b\b\b\b\b\b\b\b\b\b\b\b\b\b\b\b\b\b\b\b\b\b\b\r19/19 [==============================] - 0s 3ms/step - loss: 2388845.2500 - val_loss: 2005417.1250\nEpoch 75/100\n\r 1/19 [&gt;.............................] - ETA: 0s - loss: 2666285.0000\b\b\b\b\b\b\b\b\b\b\b\b\b\b\b\b\b\b\b\b\b\b\b\b\b\b\b\b\b\b\b\b\b\b\b\b\b\b\b\b\b\b\b\b\b\b\b\b\b\b\b\b\b\b\b\b\b\b\b\b\b\b\b\b\b\b\b\b\b\r19/19 [==============================] - 0s 3ms/step - loss: 2310857.7500 - val_loss: 1930139.1250\nEpoch 76/100\n\r 1/19 [&gt;.............................] - ETA: 0s - loss: 2531154.2500\b\b\b\b\b\b\b\b\b\b\b\b\b\b\b\b\b\b\b\b\b\b\b\b\b\b\b\b\b\b\b\b\b\b\b\b\b\b\b\b\b\b\b\b\b\b\b\b\b\b\b\b\b\b\b\b\b\b\b\b\b\b\b\b\b\b\b\b\b\r19/19 [==============================] - 0s 3ms/step - loss: 2241225.7500 - val_loss: 1875692.3750\nEpoch 77/100\n\r 1/19 [&gt;.............................] - ETA: 0s - loss: 1424537.5000\b\b\b\b\b\b\b\b\b\b\b\b\b\b\b\b\b\b\b\b\b\b\b\b\b\b\b\b\b\b\b\b\b\b\b\b\b\b\b\b\b\b\b\b\b\b\b\b\b\b\b\b\b\b\b\b\b\b\b\b\b\b\b\b\b\b\b\b\b\r19/19 [==============================] - 0s 2ms/step - loss: 2170541.2500 - val_loss: 1814677.1250\nEpoch 78/100\n\r 1/19 [&gt;.............................] - ETA: 0s - loss: 1744420.7500\b\b\b\b\b\b\b\b\b\b\b\b\b\b\b\b\b\b\b\b\b\b\b\b\b\b\b\b\b\b\b\b\b\b\b\b\b\b\b\b\b\b\b\b\b\b\b\b\b\b\b\b\b\b\b\b\b\b\b\b\b\b\b\b\b\b\b\b\b\r19/19 [==============================] - 0s 3ms/step - loss: 2100744.0000 - val_loss: 1733119.7500\nEpoch 79/100\n\r 1/19 [&gt;.............................] - ETA: 0s - loss: 1554671.2500\b\b\b\b\b\b\b\b\b\b\b\b\b\b\b\b\b\b\b\b\b\b\b\b\b\b\b\b\b\b\b\b\b\b\b\b\b\b\b\b\b\b\b\b\b\b\b\b\b\b\b\b\b\b\b\b\b\b\b\b\b\b\b\b\b\b\b\b\b\r19/19 [==============================] - 0s 2ms/step - loss: 2033423.3750 - val_loss: 1712222.6250\nEpoch 80/100\n\r 1/19 [&gt;.............................] - ETA: 0s - loss: 1490785.3750\b\b\b\b\b\b\b\b\b\b\b\b\b\b\b\b\b\b\b\b\b\b\b\b\b\b\b\b\b\b\b\b\b\b\b\b\b\b\b\b\b\b\b\b\b\b\b\b\b\b\b\b\b\b\b\b\b\b\b\b\b\b\b\b\b\b\b\b\b\r19/19 [==============================] - 0s 3ms/step - loss: 1963888.2500 - val_loss: 1615827.5000\nEpoch 81/100\n\r 1/19 [&gt;.............................] - ETA: 0s - loss: 1551316.3750\b\b\b\b\b\b\b\b\b\b\b\b\b\b\b\b\b\b\b\b\b\b\b\b\b\b\b\b\b\b\b\b\b\b\b\b\b\b\b\b\b\b\b\b\b\b\b\b\b\b\b\b\b\b\b\b\b\b\b\b\b\b\b\b\b\b\b\b\b\r19/19 [==============================] - 0s 3ms/step - loss: 1903344.2500 - val_loss: 1581672.2500\nEpoch 82/100\n\r 1/19 [&gt;.............................] - ETA: 0s - loss: 2032108.5000\b\b\b\b\b\b\b\b\b\b\b\b\b\b\b\b\b\b\b\b\b\b\b\b\b\b\b\b\b\b\b\b\b\b\b\b\b\b\b\b\b\b\b\b\b\b\b\b\b\b\b\b\b\b\b\b\b\b\b\b\b\b\b\b\b\b\b\b\b\r19/19 [==============================] - 0s 3ms/step - loss: 1838092.1250 - val_loss: 1529164.0000\nEpoch 83/100\n\r 1/19 [&gt;.............................] - ETA: 0s - loss: 1963742.3750\b\b\b\b\b\b\b\b\b\b\b\b\b\b\b\b\b\b\b\b\b\b\b\b\b\b\b\b\b\b\b\b\b\b\b\b\b\b\b\b\b\b\b\b\b\b\b\b\b\b\b\b\b\b\b\b\b\b\b\b\b\b\b\b\b\b\b\b\b\r19/19 [==============================] - 0s 2ms/step - loss: 1768433.7500 - val_loss: 1430407.2500\nEpoch 84/100\n\r 1/19 [&gt;.............................] - ETA: 0s - loss: 1765870.0000\b\b\b\b\b\b\b\b\b\b\b\b\b\b\b\b\b\b\b\b\b\b\b\b\b\b\b\b\b\b\b\b\b\b\b\b\b\b\b\b\b\b\b\b\b\b\b\b\b\b\b\b\b\b\b\b\b\b\b\b\b\b\b\b\b\b\b\b\b\r19/19 [==============================] - 0s 2ms/step - loss: 1705747.8750 - val_loss: 1396690.0000\nEpoch 85/100\n\r 1/19 [&gt;.............................] - ETA: 0s - loss: 1421509.2500\b\b\b\b\b\b\b\b\b\b\b\b\b\b\b\b\b\b\b\b\b\b\b\b\b\b\b\b\b\b\b\b\b\b\b\b\b\b\b\b\b\b\b\b\b\b\b\b\b\b\b\b\b\b\b\b\b\b\b\b\b\b\b\b\b\b\b\b\b\r19/19 [==============================] - 0s 3ms/step - loss: 1643002.6250 - val_loss: 1341362.3750\nEpoch 86/100\n\r 1/19 [&gt;.............................] - ETA: 0s - loss: 1179904.5000\b\b\b\b\b\b\b\b\b\b\b\b\b\b\b\b\b\b\b\b\b\b\b\b\b\b\b\b\b\b\b\b\b\b\b\b\b\b\b\b\b\b\b\b\b\b\b\b\b\b\b\b\b\b\b\b\b\b\b\b\b\b\b\b\b\b\b\b\b\r19/19 [==============================] - 0s 2ms/step - loss: 1583353.1250 - val_loss: 1275946.7500\nEpoch 87/100\n\r 1/19 [&gt;.............................] - ETA: 0s - loss: 1258626.0000\b\b\b\b\b\b\b\b\b\b\b\b\b\b\b\b\b\b\b\b\b\b\b\b\b\b\b\b\b\b\b\b\b\b\b\b\b\b\b\b\b\b\b\b\b\b\b\b\b\b\b\b\b\b\b\b\b\b\b\b\b\b\b\b\b\b\b\b\b\r19/19 [==============================] - 0s 3ms/step - loss: 1520701.8750 - val_loss: 1246378.1250\nEpoch 88/100\n\r 1/19 [&gt;.............................] - ETA: 0s - loss: 2043954.2500\b\b\b\b\b\b\b\b\b\b\b\b\b\b\b\b\b\b\b\b\b\b\b\b\b\b\b\b\b\b\b\b\b\b\b\b\b\b\b\b\b\b\b\b\b\b\b\b\b\b\b\b\b\b\b\b\b\b\b\b\b\b\b\b\b\b\b\b\b\r19/19 [==============================] - 0s 2ms/step - loss: 1466988.0000 - val_loss: 1195561.2500\nEpoch 89/100\n\r 1/19 [&gt;.............................] - ETA: 0s - loss: 1722548.8750\b\b\b\b\b\b\b\b\b\b\b\b\b\b\b\b\b\b\b\b\b\b\b\b\b\b\b\b\b\b\b\b\b\b\b\b\b\b\b\b\b\b\b\b\b\b\b\b\b\b\b\b\b\b\b\b\b\b\b\b\b\b\b\b\b\b\b\b\b\r19/19 [==============================] - 0s 3ms/step - loss: 1409507.8750 - val_loss: 1137199.0000\nEpoch 90/100\n\r 1/19 [&gt;.............................] - ETA: 0s - loss: 1576976.7500\b\b\b\b\b\b\b\b\b\b\b\b\b\b\b\b\b\b\b\b\b\b\b\b\b\b\b\b\b\b\b\b\b\b\b\b\b\b\b\b\b\b\b\b\b\b\b\b\b\b\b\b\b\b\b\b\b\b\b\b\b\b\b\b\b\b\b\b\b\r19/19 [==============================] - 0s 3ms/step - loss: 1351995.7500 - val_loss: 1092277.8750\nEpoch 91/100\n\r 1/19 [&gt;.............................] - ETA: 0s - loss: 529346.8125\b\b\b\b\b\b\b\b\b\b\b\b\b\b\b\b\b\b\b\b\b\b\b\b\b\b\b\b\b\b\b\b\b\b\b\b\b\b\b\b\b\b\b\b\b\b\b\b\b\b\b\b\b\b\b\b\b\b\b\b\b\b\b\b\b\b\b\b\r19/19 [==============================] - 0s 3ms/step - loss: 1299494.2500 - val_loss: 1063681.5000\nEpoch 92/100\n\r 1/19 [&gt;.............................] - ETA: 0s - loss: 981897.8750\b\b\b\b\b\b\b\b\b\b\b\b\b\b\b\b\b\b\b\b\b\b\b\b\b\b\b\b\b\b\b\b\b\b\b\b\b\b\b\b\b\b\b\b\b\b\b\b\b\b\b\b\b\b\b\b\b\b\b\b\b\b\b\b\b\b\b\b\r19/19 [==============================] - 0s 2ms/step - loss: 1249872.3750 - val_loss: 987207.1250\nEpoch 93/100\n\r 1/19 [&gt;.............................] - ETA: 0s - loss: 1407402.1250\b\b\b\b\b\b\b\b\b\b\b\b\b\b\b\b\b\b\b\b\b\b\b\b\b\b\b\b\b\b\b\b\b\b\b\b\b\b\b\b\b\b\b\b\b\b\b\b\b\b\b\b\b\b\b\b\b\b\b\b\b\b\b\b\b\b\b\b\b\r19/19 [==============================] - 0s 3ms/step - loss: 1202063.2500 - val_loss: 962764.7500\nEpoch 94/100\n\r 1/19 [&gt;.............................] - ETA: 0s - loss: 1181613.2500\b\b\b\b\b\b\b\b\b\b\b\b\b\b\b\b\b\b\b\b\b\b\b\b\b\b\b\b\b\b\b\b\b\b\b\b\b\b\b\b\b\b\b\b\b\b\b\b\b\b\b\b\b\b\b\b\b\b\b\b\b\b\b\b\b\b\b\b\b\r19/19 [==============================] - 0s 3ms/step - loss: 1150881.0000 - val_loss: 907882.6250\nEpoch 95/100\n\r 1/19 [&gt;.............................] - ETA: 0s - loss: 1137451.7500\b\b\b\b\b\b\b\b\b\b\b\b\b\b\b\b\b\b\b\b\b\b\b\b\b\b\b\b\b\b\b\b\b\b\b\b\b\b\b\b\b\b\b\b\b\b\b\b\b\b\b\b\b\b\b\b\b\b\b\b\b\b\b\b\b\b\b\b\b\r19/19 [==============================] - 0s 2ms/step - loss: 1109007.2500 - val_loss: 895905.8125\nEpoch 96/100\n\r 1/19 [&gt;.............................] - ETA: 0s - loss: 864893.6250\b\b\b\b\b\b\b\b\b\b\b\b\b\b\b\b\b\b\b\b\b\b\b\b\b\b\b\b\b\b\b\b\b\b\b\b\b\b\b\b\b\b\b\b\b\b\b\b\b\b\b\b\b\b\b\b\b\b\b\b\b\b\b\b\b\b\b\b\r19/19 [==============================] - 0s 3ms/step - loss: 1064338.2500 - val_loss: 833021.9375\nEpoch 97/100\n\r 1/19 [&gt;.............................] - ETA: 0s - loss: 794345.8750\b\b\b\b\b\b\b\b\b\b\b\b\b\b\b\b\b\b\b\b\b\b\b\b\b\b\b\b\b\b\b\b\b\b\b\b\b\b\b\b\b\b\b\b\b\b\b\b\b\b\b\b\b\b\b\b\b\b\b\b\b\b\b\b\b\b\b\b\r19/19 [==============================] - 0s 3ms/step - loss: 1019720.7500 - val_loss: 800542.0000\nEpoch 98/100\n\r 1/19 [&gt;.............................] - ETA: 0s - loss: 820476.1250\b\b\b\b\b\b\b\b\b\b\b\b\b\b\b\b\b\b\b\b\b\b\b\b\b\b\b\b\b\b\b\b\b\b\b\b\b\b\b\b\b\b\b\b\b\b\b\b\b\b\b\b\b\b\b\b\b\b\b\b\b\b\b\b\b\b\b\b\r19/19 [==============================] - 0s 2ms/step - loss: 982536.5625 - val_loss: 762670.0625\nEpoch 99/100\n\r 1/19 [&gt;.............................] - ETA: 0s - loss: 844174.6250\b\b\b\b\b\b\b\b\b\b\b\b\b\b\b\b\b\b\b\b\b\b\b\b\b\b\b\b\b\b\b\b\b\b\b\b\b\b\b\b\b\b\b\b\b\b\b\b\b\b\b\b\b\b\b\b\b\b\b\b\b\b\b\b\b\b\b\b\r19/19 [==============================] - 0s 3ms/step - loss: 942281.4375 - val_loss: 730361.3125\nEpoch 100/100\n\r 1/19 [&gt;.............................] - ETA: 0s - loss: 1225616.0000\b\b\b\b\b\b\b\b\b\b\b\b\b\b\b\b\b\b\b\b\b\b\b\b\b\b\b\b\b\b\b\b\b\b\b\b\b\b\b\b\b\b\b\b\b\b\b\b\b\b\b\b\b\b\b\b\b\b\b\b\b\b\b\b\b\b\b\b\b\r19/19 [==============================] - 0s 3ms/step - loss: 908592.6875 - val_loss: 698625.8750\nINFO:tensorflow:Assets written to: /tmp/tmpc96qnmv_/model/data/model/assets\n</div>",
       "datasetInfos": [],
       "metadata": {},
       "removedWidgets": [],
       "type": "html"
      }
     },
     "output_type": "display_data"
    }
   ],
   "source": [
    "import mlflow\n",
    "import mlflow.keras\n",
    "import mlflow.tensorflow\n",
    "\n",
    "X_train, y_train = get_training_data()\n",
    "\n",
    "with mlflow.start_run():\n",
    "  # Automatically capture the model's parameters, metrics, artifacts,\n",
    "  # and source code with the `autolog()` function\n",
    "  mlflow.tensorflow.autolog()\n",
    "  \n",
    "  train_keras_model(X_train, y_train)\n",
    "  run_id = mlflow.active_run().info.run_id"
   ]
  },
  {
   "cell_type": "markdown",
   "metadata": {
    "application/vnd.databricks.v1+cell": {
     "inputWidgets": {},
     "nuid": "e9f35c41-755d-4255-9c2a-bd39ee8bb60c",
     "showTitle": false,
     "title": ""
    }
   },
   "source": [
    "# Register the model with the MLflow Model Registry API\n",
    "\n",
    "Now that a forecasting model has been trained and tracked with MLflow, the next step is to register it with the MLflow Model Registry. You can register and manage models using the MLflow UI or the MLflow API .\n",
    "\n",
    "The following cells use the API to register your forecasting model, add rich model descriptions, and perform stage transitions. See the documentation for the UI workflow."
   ]
  },
  {
   "cell_type": "code",
   "execution_count": 0,
   "metadata": {
    "application/vnd.databricks.v1+cell": {
     "inputWidgets": {},
     "nuid": "eeffaf97-d59b-4891-836d-a59025376434",
     "showTitle": false,
     "title": ""
    }
   },
   "outputs": [
    {
     "data": {
      "text/html": [
       "<style scoped>\n",
       "  .ansiout {\n",
       "    display: block;\n",
       "    unicode-bidi: embed;\n",
       "    white-space: pre-wrap;\n",
       "    word-wrap: break-word;\n",
       "    word-break: break-all;\n",
       "    font-family: \"Source Code Pro\", \"Menlo\", monospace;;\n",
       "    font-size: 13px;\n",
       "    color: #555;\n",
       "    margin-left: 4px;\n",
       "    line-height: 19px;\n",
       "  }\n",
       "</style>\n",
       "<div class=\"ansiout\"></div>"
      ]
     },
     "metadata": {
      "application/vnd.databricks.v1+output": {
       "addedWidgets": {},
       "arguments": {},
       "data": "<div class=\"ansiout\"></div>",
       "datasetInfos": [],
       "metadata": {},
       "removedWidgets": [],
       "type": "html"
      }
     },
     "output_type": "display_data"
    }
   ],
   "source": [
    "model_name = \"power-forecasting-model\" # Replace this with the name of your registered model, if necessary."
   ]
  },
  {
   "cell_type": "markdown",
   "metadata": {
    "application/vnd.databricks.v1+cell": {
     "inputWidgets": {},
     "nuid": "8c9b3136-e8a3-401e-98f1-a3882cee04ab",
     "showTitle": false,
     "title": ""
    }
   },
   "source": [
    "### Create a new registered model using the API\n",
    "\n",
    "The following cells use the `mlflow.register_model()` function to create a new registered model whose name begins with the string `power-forecasting-model`. This also creates a new model version (for example, `Version 1` of `power-forecasting-model`)."
   ]
  },
  {
   "cell_type": "code",
   "execution_count": 0,
   "metadata": {
    "application/vnd.databricks.v1+cell": {
     "inputWidgets": {},
     "nuid": "b0fd8773-a3f2-45e6-b08b-9ca7fb8ece4d",
     "showTitle": false,
     "title": ""
    }
   },
   "outputs": [
    {
     "data": {
      "text/html": [
       "<style scoped>\n",
       "  .ansiout {\n",
       "    display: block;\n",
       "    unicode-bidi: embed;\n",
       "    white-space: pre-wrap;\n",
       "    word-wrap: break-word;\n",
       "    word-break: break-all;\n",
       "    font-family: \"Source Code Pro\", \"Menlo\", monospace;;\n",
       "    font-size: 13px;\n",
       "    color: #555;\n",
       "    margin-left: 4px;\n",
       "    line-height: 19px;\n",
       "  }\n",
       "</style>\n",
       "<div class=\"ansiout\">Successfully registered model &#39;power-forecasting-model&#39;.\n",
       "2021/10/12 05:46:05 INFO mlflow.tracking._model_registry.client: Waiting up to 300 seconds for model version to finish creation.                     Model name: power-forecasting-model, version 1\n",
       "Created version &#39;1&#39; of model &#39;power-forecasting-model&#39;.\n",
       "</div>"
      ]
     },
     "metadata": {
      "application/vnd.databricks.v1+output": {
       "addedWidgets": {},
       "arguments": {},
       "data": "<div class=\"ansiout\">Successfully registered model &#39;power-forecasting-model&#39;.\n2021/10/12 05:46:05 INFO mlflow.tracking._model_registry.client: Waiting up to 300 seconds for model version to finish creation.                     Model name: power-forecasting-model, version 1\nCreated version &#39;1&#39; of model &#39;power-forecasting-model&#39;.\n</div>",
       "datasetInfos": [],
       "metadata": {},
       "removedWidgets": [],
       "type": "html"
      }
     },
     "output_type": "display_data"
    }
   ],
   "source": [
    "import mlflow\n",
    "\n",
    "# The default path where the MLflow autologging function stores the model\n",
    "artifact_path = \"model\"\n",
    "model_uri = \"runs:/{run_id}/{artifact_path}\".format(run_id=run_id, artifact_path=artifact_path)\n",
    "\n",
    "model_details = mlflow.register_model(model_uri=model_uri, name=model_name)"
   ]
  },
  {
   "cell_type": "markdown",
   "metadata": {
    "application/vnd.databricks.v1+cell": {
     "inputWidgets": {},
     "nuid": "bc4827b3-9d7e-4194-a9e6-f9b79a16a2e6",
     "showTitle": false,
     "title": ""
    }
   },
   "source": [
    "After creating a model version, it may take a short period of time to become ready. Certain operations, such as model stage transitions, require the model to be in the `READY` state. Other operations, such as adding a description or fetching model details, can be performed before the model version is ready (for example, while it is in the `PENDING_REGISTRATION` state).\n",
    "\n",
    "The following cell uses the `MlflowClient.get_model_version()` function to wait until the model is ready."
   ]
  },
  {
   "cell_type": "code",
   "execution_count": 0,
   "metadata": {
    "application/vnd.databricks.v1+cell": {
     "inputWidgets": {},
     "nuid": "034703ce-d022-44f4-b7f9-7af87c1773fb",
     "showTitle": false,
     "title": ""
    }
   },
   "outputs": [
    {
     "data": {
      "text/html": [
       "<style scoped>\n",
       "  .ansiout {\n",
       "    display: block;\n",
       "    unicode-bidi: embed;\n",
       "    white-space: pre-wrap;\n",
       "    word-wrap: break-word;\n",
       "    word-break: break-all;\n",
       "    font-family: \"Source Code Pro\", \"Menlo\", monospace;;\n",
       "    font-size: 13px;\n",
       "    color: #555;\n",
       "    margin-left: 4px;\n",
       "    line-height: 19px;\n",
       "  }\n",
       "</style>\n",
       "<div class=\"ansiout\">Model status: READY\n",
       "</div>"
      ]
     },
     "metadata": {
      "application/vnd.databricks.v1+output": {
       "addedWidgets": {},
       "arguments": {},
       "data": "<div class=\"ansiout\">Model status: READY\n</div>",
       "datasetInfos": [],
       "metadata": {},
       "removedWidgets": [],
       "type": "html"
      }
     },
     "output_type": "display_data"
    }
   ],
   "source": [
    "import time\n",
    "from mlflow.tracking.client import MlflowClient\n",
    "from mlflow.entities.model_registry.model_version_status import ModelVersionStatus\n",
    "\n",
    "def wait_until_ready(model_name, model_version):\n",
    "  client = MlflowClient()\n",
    "  for _ in range(10):\n",
    "    model_version_details = client.get_model_version(\n",
    "      name=model_name,\n",
    "      version=model_version,\n",
    "    )\n",
    "    status = ModelVersionStatus.from_string(model_version_details.status)\n",
    "    print(\"Model status: %s\" % ModelVersionStatus.to_string(status))\n",
    "    if status == ModelVersionStatus.READY:\n",
    "      break\n",
    "    time.sleep(1)\n",
    "  \n",
    "wait_until_ready(model_details.name, model_details.version)"
   ]
  },
  {
   "cell_type": "markdown",
   "metadata": {
    "application/vnd.databricks.v1+cell": {
     "inputWidgets": {},
     "nuid": "e8b74f6e-7dc0-4fed-aadd-7e414c943b69",
     "showTitle": false,
     "title": ""
    }
   },
   "source": [
    "### Add model descriptions\n",
    "\n",
    "You can add descriptions to registered models as well as model versions: \n",
    "* Model version descriptions are useful for detailing the unique attributes of a particular model version (such as the methodology and algorithm used to develop the model). \n",
    "* Registered model descriptions are useful for recording information that applies to multiple model versions (such as a general overview of the modeling problem and dataset)."
   ]
  },
  {
   "cell_type": "markdown",
   "metadata": {
    "application/vnd.databricks.v1+cell": {
     "inputWidgets": {},
     "nuid": "94a3ce13-cc0e-4f51-8815-1a63f8c02e50",
     "showTitle": false,
     "title": ""
    }
   },
   "source": [
    "Add a high-level description to the registered model, including the machine learning problem and dataset."
   ]
  },
  {
   "cell_type": "code",
   "execution_count": 0,
   "metadata": {
    "application/vnd.databricks.v1+cell": {
     "inputWidgets": {},
     "nuid": "adeff738-667b-411b-812c-2ed83c58e28d",
     "showTitle": false,
     "title": ""
    }
   },
   "outputs": [
    {
     "data": {
      "text/html": [
       "<style scoped>\n",
       "  .ansiout {\n",
       "    display: block;\n",
       "    unicode-bidi: embed;\n",
       "    white-space: pre-wrap;\n",
       "    word-wrap: break-word;\n",
       "    word-break: break-all;\n",
       "    font-family: \"Source Code Pro\", \"Menlo\", monospace;;\n",
       "    font-size: 13px;\n",
       "    color: #555;\n",
       "    margin-left: 4px;\n",
       "    line-height: 19px;\n",
       "  }\n",
       "</style>\n",
       "<div class=\"ansiout\">Out[9]: &lt;RegisteredModel: creation_timestamp=1634017564749, description=(&#39;This model forecasts the power output of a wind farm based on weather data. &#39;\n",
       " &#39;The weather data consists of three features: wind speed, wind direction, and &#39;\n",
       " &#39;air temperature.&#39;), last_updated_timestamp=1634017593586, latest_versions=[], name=&#39;power-forecasting-model&#39;, tags={}&gt;</div>"
      ]
     },
     "metadata": {
      "application/vnd.databricks.v1+output": {
       "addedWidgets": {},
       "arguments": {},
       "data": "<div class=\"ansiout\">Out[9]: &lt;RegisteredModel: creation_timestamp=1634017564749, description=(&#39;This model forecasts the power output of a wind farm based on weather data. &#39;\n &#39;The weather data consists of three features: wind speed, wind direction, and &#39;\n &#39;air temperature.&#39;), last_updated_timestamp=1634017593586, latest_versions=[], name=&#39;power-forecasting-model&#39;, tags={}&gt;</div>",
       "datasetInfos": [],
       "metadata": {},
       "removedWidgets": [],
       "type": "html"
      }
     },
     "output_type": "display_data"
    }
   ],
   "source": [
    "from mlflow.tracking.client import MlflowClient\n",
    "\n",
    "client = MlflowClient()\n",
    "client.update_registered_model(\n",
    "  name=model_details.name,\n",
    "  description=\"This model forecasts the power output of a wind farm based on weather data. The weather data consists of three features: wind speed, wind direction, and air temperature.\"\n",
    ")"
   ]
  },
  {
   "cell_type": "markdown",
   "metadata": {
    "application/vnd.databricks.v1+cell": {
     "inputWidgets": {},
     "nuid": "55dad80d-9a2f-4136-8874-d023c12f24af",
     "showTitle": false,
     "title": ""
    }
   },
   "source": [
    "Add a model version description with information about the model architecture and machine learning framework."
   ]
  },
  {
   "cell_type": "code",
   "execution_count": 0,
   "metadata": {
    "application/vnd.databricks.v1+cell": {
     "inputWidgets": {},
     "nuid": "1d575e17-3f79-4528-82a2-aafe91396c3e",
     "showTitle": false,
     "title": ""
    }
   },
   "outputs": [
    {
     "data": {
      "text/html": [
       "<style scoped>\n",
       "  .ansiout {\n",
       "    display: block;\n",
       "    unicode-bidi: embed;\n",
       "    white-space: pre-wrap;\n",
       "    word-wrap: break-word;\n",
       "    word-break: break-all;\n",
       "    font-family: \"Source Code Pro\", \"Menlo\", monospace;;\n",
       "    font-size: 13px;\n",
       "    color: #555;\n",
       "    margin-left: 4px;\n",
       "    line-height: 19px;\n",
       "  }\n",
       "</style>\n",
       "<div class=\"ansiout\">Out[10]: &lt;ModelVersion: creation_timestamp=1634017565294, current_stage=&#39;None&#39;, description=(&#39;This model version was built using TensorFlow Keras. It is a feed-forward &#39;\n",
       " &#39;neural network with one hidden layer.&#39;), last_updated_timestamp=1634017601551, name=&#39;power-forecasting-model&#39;, run_id=&#39;1f1591bdd1dc4ee9b133bc0694e83e34&#39;, run_link=&#39;&#39;, source=&#39;dbfs:/databricks/mlflow-tracking/1835400958258580/1f1591bdd1dc4ee9b133bc0694e83e34/artifacts/model&#39;, status=&#39;READY&#39;, status_message=&#39;&#39;, tags={}, user_id=&#39;3699086396735236&#39;, version=&#39;1&#39;&gt;</div>"
      ]
     },
     "metadata": {
      "application/vnd.databricks.v1+output": {
       "addedWidgets": {},
       "arguments": {},
       "data": "<div class=\"ansiout\">Out[10]: &lt;ModelVersion: creation_timestamp=1634017565294, current_stage=&#39;None&#39;, description=(&#39;This model version was built using TensorFlow Keras. It is a feed-forward &#39;\n &#39;neural network with one hidden layer.&#39;), last_updated_timestamp=1634017601551, name=&#39;power-forecasting-model&#39;, run_id=&#39;1f1591bdd1dc4ee9b133bc0694e83e34&#39;, run_link=&#39;&#39;, source=&#39;dbfs:/databricks/mlflow-tracking/1835400958258580/1f1591bdd1dc4ee9b133bc0694e83e34/artifacts/model&#39;, status=&#39;READY&#39;, status_message=&#39;&#39;, tags={}, user_id=&#39;3699086396735236&#39;, version=&#39;1&#39;&gt;</div>",
       "datasetInfos": [],
       "metadata": {},
       "removedWidgets": [],
       "type": "html"
      }
     },
     "output_type": "display_data"
    }
   ],
   "source": [
    "client.update_model_version(\n",
    "  name=model_details.name,\n",
    "  version=model_details.version,\n",
    "  description=\"This model version was built using TensorFlow Keras. It is a feed-forward neural network with one hidden layer.\"\n",
    ")"
   ]
  },
  {
   "cell_type": "markdown",
   "metadata": {
    "application/vnd.databricks.v1+cell": {
     "inputWidgets": {},
     "nuid": "2d7127c1-ef57-4bc8-a322-d7be2953666f",
     "showTitle": false,
     "title": ""
    }
   },
   "source": [
    "### Perform a model stage transition\n",
    "\n",
    "The MLflow Model Registry defines several model stages: **None**, **Staging**, **Production**, and **Archived**. Each stage has a unique meaning. For example, **Staging** is meant for model testing, while **Production** is for models that have completed the testing or review processes and have been deployed to applications. \n",
    "\n",
    "Users with appropriate permissions can transition models between stages. In private preview, any user can transition a model to any stage. In the near future, administrators in your organization will be able to control these permissions on a per-user and per-model basis.\n",
    "\n",
    "If you have permission to transition a model to a particular stage, you can make the transition directly by using the `MlflowClient.update_model_version()` function. If you do not have permission, you can request a stage transition using the REST API; for example:\n",
    "\n",
    "```\n",
    "%sh curl -i -X POST -H \"X-Databricks-Org-Id: <YOUR_ORG_ID>\" -H \"Authorization: Bearer <YOUR_ACCESS_TOKEN>\" https://<YOUR_DATABRICKS_WORKSPACE_URL>/api/2.0/preview/mlflow/transition-requests/create -d '{\"comment\": \"Please move this model into production!\", \"model_version\": {\"version\": 1, \"registered_model\": {\"name\": \"power-forecasting-model\"}}, \"stage\": \"Production\"}'\n",
    "```"
   ]
  },
  {
   "cell_type": "markdown",
   "metadata": {
    "application/vnd.databricks.v1+cell": {
     "inputWidgets": {},
     "nuid": "9848933d-0fb1-4dbe-beb6-cd1dd692a253",
     "showTitle": false,
     "title": ""
    }
   },
   "source": [
    "Now that you've learned about stage transitions, transition the model to the `Production` stage."
   ]
  },
  {
   "cell_type": "code",
   "execution_count": 0,
   "metadata": {
    "application/vnd.databricks.v1+cell": {
     "inputWidgets": {},
     "nuid": "e01b850f-6360-48b8-a398-7f814e9ff153",
     "showTitle": false,
     "title": ""
    }
   },
   "outputs": [
    {
     "data": {
      "text/html": [
       "<style scoped>\n",
       "  .ansiout {\n",
       "    display: block;\n",
       "    unicode-bidi: embed;\n",
       "    white-space: pre-wrap;\n",
       "    word-wrap: break-word;\n",
       "    word-break: break-all;\n",
       "    font-family: \"Source Code Pro\", \"Menlo\", monospace;;\n",
       "    font-size: 13px;\n",
       "    color: #555;\n",
       "    margin-left: 4px;\n",
       "    line-height: 19px;\n",
       "  }\n",
       "</style>\n",
       "<div class=\"ansiout\">Out[11]: &lt;ModelVersion: creation_timestamp=1634017565294, current_stage=&#39;Production&#39;, description=(&#39;This model version was built using TensorFlow Keras. It is a feed-forward &#39;\n",
       " &#39;neural network with one hidden layer.&#39;), last_updated_timestamp=1634017652986, name=&#39;power-forecasting-model&#39;, run_id=&#39;1f1591bdd1dc4ee9b133bc0694e83e34&#39;, run_link=&#39;&#39;, source=&#39;dbfs:/databricks/mlflow-tracking/1835400958258580/1f1591bdd1dc4ee9b133bc0694e83e34/artifacts/model&#39;, status=&#39;READY&#39;, status_message=&#39;&#39;, tags={}, user_id=&#39;3699086396735236&#39;, version=&#39;1&#39;&gt;</div>"
      ]
     },
     "metadata": {
      "application/vnd.databricks.v1+output": {
       "addedWidgets": {},
       "arguments": {},
       "data": "<div class=\"ansiout\">Out[11]: &lt;ModelVersion: creation_timestamp=1634017565294, current_stage=&#39;Production&#39;, description=(&#39;This model version was built using TensorFlow Keras. It is a feed-forward &#39;\n &#39;neural network with one hidden layer.&#39;), last_updated_timestamp=1634017652986, name=&#39;power-forecasting-model&#39;, run_id=&#39;1f1591bdd1dc4ee9b133bc0694e83e34&#39;, run_link=&#39;&#39;, source=&#39;dbfs:/databricks/mlflow-tracking/1835400958258580/1f1591bdd1dc4ee9b133bc0694e83e34/artifacts/model&#39;, status=&#39;READY&#39;, status_message=&#39;&#39;, tags={}, user_id=&#39;3699086396735236&#39;, version=&#39;1&#39;&gt;</div>",
       "datasetInfos": [],
       "metadata": {},
       "removedWidgets": [],
       "type": "html"
      }
     },
     "output_type": "display_data"
    }
   ],
   "source": [
    "client.transition_model_version_stage(\n",
    "  name=model_details.name,\n",
    "  version=model_details.version,\n",
    "  stage='Production',\n",
    ")"
   ]
  },
  {
   "cell_type": "markdown",
   "metadata": {
    "application/vnd.databricks.v1+cell": {
     "inputWidgets": {},
     "nuid": "25553b19-b0c2-44c3-ad88-88ed96f63bd1",
     "showTitle": false,
     "title": ""
    }
   },
   "source": [
    "Use the `MlflowClient.get_model_version()` function to fetch the model's current stage."
   ]
  },
  {
   "cell_type": "code",
   "execution_count": 0,
   "metadata": {
    "application/vnd.databricks.v1+cell": {
     "inputWidgets": {},
     "nuid": "254559f6-a325-4631-b727-b6369dbb0898",
     "showTitle": false,
     "title": ""
    }
   },
   "outputs": [
    {
     "data": {
      "text/html": [
       "<style scoped>\n",
       "  .ansiout {\n",
       "    display: block;\n",
       "    unicode-bidi: embed;\n",
       "    white-space: pre-wrap;\n",
       "    word-wrap: break-word;\n",
       "    word-break: break-all;\n",
       "    font-family: \"Source Code Pro\", \"Menlo\", monospace;;\n",
       "    font-size: 13px;\n",
       "    color: #555;\n",
       "    margin-left: 4px;\n",
       "    line-height: 19px;\n",
       "  }\n",
       "</style>\n",
       "<div class=\"ansiout\">The current model stage is: &#39;Production&#39;\n",
       "</div>"
      ]
     },
     "metadata": {
      "application/vnd.databricks.v1+output": {
       "addedWidgets": {},
       "arguments": {},
       "data": "<div class=\"ansiout\">The current model stage is: &#39;Production&#39;\n</div>",
       "datasetInfos": [],
       "metadata": {},
       "removedWidgets": [],
       "type": "html"
      }
     },
     "output_type": "display_data"
    }
   ],
   "source": [
    "model_version_details = client.get_model_version(\n",
    "  name=model_details.name,\n",
    "  version=model_details.version,\n",
    ")\n",
    "print(\"The current model stage is: '{stage}'\".format(stage=model_version_details.current_stage))"
   ]
  },
  {
   "cell_type": "markdown",
   "metadata": {
    "application/vnd.databricks.v1+cell": {
     "inputWidgets": {},
     "nuid": "591c0c13-66be-4ed1-8d46-090c96ea3341",
     "showTitle": false,
     "title": ""
    }
   },
   "source": [
    "The MLflow Model Registry allows multiple model versions to share the same stage. When referencing a model by stage, the Model Registry will use the latest model version (the model version with the largest version ID). The `MlflowClient.get_latest_versions()` function fetches the latest model version for a given stage or set of stages. The following cell uses this function to print the latest version of the power forecasting model that is in the `Production` stage."
   ]
  },
  {
   "cell_type": "code",
   "execution_count": 0,
   "metadata": {
    "application/vnd.databricks.v1+cell": {
     "inputWidgets": {},
     "nuid": "363ac90c-dfa6-4daa-b4a2-2b5672b66142",
     "showTitle": false,
     "title": ""
    }
   },
   "outputs": [
    {
     "data": {
      "text/html": [
       "<style scoped>\n",
       "  .ansiout {\n",
       "    display: block;\n",
       "    unicode-bidi: embed;\n",
       "    white-space: pre-wrap;\n",
       "    word-wrap: break-word;\n",
       "    word-break: break-all;\n",
       "    font-family: \"Source Code Pro\", \"Menlo\", monospace;;\n",
       "    font-size: 13px;\n",
       "    color: #555;\n",
       "    margin-left: 4px;\n",
       "    line-height: 19px;\n",
       "  }\n",
       "</style>\n",
       "<div class=\"ansiout\">The latest production version of the model &#39;power-forecasting-model&#39; is &#39;1&#39;.\n",
       "</div>"
      ]
     },
     "metadata": {
      "application/vnd.databricks.v1+output": {
       "addedWidgets": {},
       "arguments": {},
       "data": "<div class=\"ansiout\">The latest production version of the model &#39;power-forecasting-model&#39; is &#39;1&#39;.\n</div>",
       "datasetInfos": [],
       "metadata": {},
       "removedWidgets": [],
       "type": "html"
      }
     },
     "output_type": "display_data"
    }
   ],
   "source": [
    "latest_version_info = client.get_latest_versions(model_name, stages=[\"Production\"])\n",
    "latest_production_version = latest_version_info[0].version\n",
    "print(\"The latest production version of the model '%s' is '%s'.\" % (model_name, latest_production_version))"
   ]
  },
  {
   "cell_type": "markdown",
   "metadata": {
    "application/vnd.databricks.v1+cell": {
     "inputWidgets": {},
     "nuid": "378b9310-bc0b-4081-8a80-61ad6a23ead1",
     "showTitle": false,
     "title": ""
    }
   },
   "source": [
    "# Integrate the model with the forecasting application\n",
    "\n",
    "Now that you have trained and registered a power forecasting model with the MLflow Model Registry, the next step is to integrate it with an application. This application fetches a weather forecast for the wind farm over the next five days and uses the model to produce power forecasts. For example purposes, the application consists of a simple `forecast_power()` function (defined below) that is executed within this notebook. In practice, you may want to execute this function as a recurring batch inference job using the Databricks Jobs service.\n",
    "\n",
    "The following section demonstrates how to load model versions from the MLflow Model Registry for use in applications. The **Forecast power output with the production model** section uses the **Production** model to forecast power output for the next five days."
   ]
  },
  {
   "cell_type": "markdown",
   "metadata": {
    "application/vnd.databricks.v1+cell": {
     "inputWidgets": {},
     "nuid": "b92db277-3d69-4512-82de-78ca9afb4e28",
     "showTitle": false,
     "title": ""
    }
   },
   "source": [
    "## Load versions of the registered model\n",
    "\n",
    "The MLflow Models component defines functions for loading models from several machine learning frameworks. For example, `mlflow.tensorflow.load_model()` is used to load Tensorflow Keras models that were saved in MLflow format, and `mlflow.sklearn.load_model()` is used to load scikit-learn models that were saved in MLflow format.\n",
    "\n",
    "These functions can load models from the MLflow Model Registry."
   ]
  },
  {
   "cell_type": "markdown",
   "metadata": {
    "application/vnd.databricks.v1+cell": {
     "inputWidgets": {},
     "nuid": "a2531205-e325-4054-b3dd-bdfdf2b9270d",
     "showTitle": false,
     "title": ""
    }
   },
   "source": [
    "You can load a model by specifying its name (for example, `power-forecast-model`) and version number (in this case, `1`). The following cell uses the `mlflow.pyfunc.load_model()` API to load `Version 1` of the registered power forecasting model as a generic Python function."
   ]
  },
  {
   "cell_type": "code",
   "execution_count": 0,
   "metadata": {
    "application/vnd.databricks.v1+cell": {
     "inputWidgets": {},
     "nuid": "fce992df-d48a-4b0b-9000-8c2e4f4d1021",
     "showTitle": false,
     "title": ""
    }
   },
   "outputs": [
    {
     "data": {
      "text/html": [
       "<style scoped>\n",
       "  .ansiout {\n",
       "    display: block;\n",
       "    unicode-bidi: embed;\n",
       "    white-space: pre-wrap;\n",
       "    word-wrap: break-word;\n",
       "    word-break: break-all;\n",
       "    font-family: \"Source Code Pro\", \"Menlo\", monospace;;\n",
       "    font-size: 13px;\n",
       "    color: #555;\n",
       "    margin-left: 4px;\n",
       "    line-height: 19px;\n",
       "  }\n",
       "</style>\n",
       "<div class=\"ansiout\">Loading registered model version from URI: &#39;models:/power-forecasting-model/1&#39;\n",
       "/databricks/python/lib/python3.8/site-packages/keras/backend.py:401: UserWarning: `tf.keras.backend.set_learning_phase` is deprecated and will be removed after 2020-10-11. To update it, simply pass a True/False value to the `training` argument of the `__call__` method of your layer or model.\n",
       "  warnings.warn(&#39;`tf.keras.backend.set_learning_phase` is deprecated and &#39;\n",
       "</div>"
      ]
     },
     "metadata": {
      "application/vnd.databricks.v1+output": {
       "addedWidgets": {},
       "arguments": {},
       "data": "<div class=\"ansiout\">Loading registered model version from URI: &#39;models:/power-forecasting-model/1&#39;\n/databricks/python/lib/python3.8/site-packages/keras/backend.py:401: UserWarning: `tf.keras.backend.set_learning_phase` is deprecated and will be removed after 2020-10-11. To update it, simply pass a True/False value to the `training` argument of the `__call__` method of your layer or model.\n  warnings.warn(&#39;`tf.keras.backend.set_learning_phase` is deprecated and &#39;\n</div>",
       "datasetInfos": [],
       "metadata": {},
       "removedWidgets": [],
       "type": "html"
      }
     },
     "output_type": "display_data"
    }
   ],
   "source": [
    "import mlflow.pyfunc\n",
    "\n",
    "model_version_uri = \"models:/{model_name}/1\".format(model_name=model_name)\n",
    "\n",
    "print(\"Loading registered model version from URI: '{model_uri}'\".format(model_uri=model_version_uri))\n",
    "model_version_1 = mlflow.pyfunc.load_model(model_version_uri)"
   ]
  },
  {
   "cell_type": "markdown",
   "metadata": {
    "application/vnd.databricks.v1+cell": {
     "inputWidgets": {},
     "nuid": "0c5e18e6-6165-453f-a930-7c365dd7a45e",
     "showTitle": false,
     "title": ""
    }
   },
   "source": [
    "You can also load a specific model stage. The following cell loads the `Production` stage of the power forecasting model."
   ]
  },
  {
   "cell_type": "code",
   "execution_count": 0,
   "metadata": {
    "application/vnd.databricks.v1+cell": {
     "inputWidgets": {},
     "nuid": "94328abd-4204-4579-9c63-7276fe60d12a",
     "showTitle": false,
     "title": ""
    }
   },
   "outputs": [
    {
     "data": {
      "text/html": [
       "<style scoped>\n",
       "  .ansiout {\n",
       "    display: block;\n",
       "    unicode-bidi: embed;\n",
       "    white-space: pre-wrap;\n",
       "    word-wrap: break-word;\n",
       "    word-break: break-all;\n",
       "    font-family: \"Source Code Pro\", \"Menlo\", monospace;;\n",
       "    font-size: 13px;\n",
       "    color: #555;\n",
       "    margin-left: 4px;\n",
       "    line-height: 19px;\n",
       "  }\n",
       "</style>\n",
       "<div class=\"ansiout\">Loading registered model version from URI: &#39;models:/power-forecasting-model/production&#39;\n",
       "</div>"
      ]
     },
     "metadata": {
      "application/vnd.databricks.v1+output": {
       "addedWidgets": {},
       "arguments": {},
       "data": "<div class=\"ansiout\">Loading registered model version from URI: &#39;models:/power-forecasting-model/production&#39;\n</div>",
       "datasetInfos": [],
       "metadata": {},
       "removedWidgets": [],
       "type": "html"
      }
     },
     "output_type": "display_data"
    }
   ],
   "source": [
    "model_production_uri = \"models:/{model_name}/production\".format(model_name=model_name)\n",
    "\n",
    "print(\"Loading registered model version from URI: '{model_uri}'\".format(model_uri=model_production_uri))\n",
    "model_production = mlflow.pyfunc.load_model(model_production_uri)"
   ]
  },
  {
   "cell_type": "markdown",
   "metadata": {
    "application/vnd.databricks.v1+cell": {
     "inputWidgets": {},
     "nuid": "327b5348-6049-4493-80e7-2e2cbed7cdf5",
     "showTitle": false,
     "title": ""
    }
   },
   "source": [
    "## Forecast power output with the production model\n",
    "\n",
    "In this section, the production model is used to evaluate weather forecast data for the wind farm. The `forecast_power()` application loads the latest version of the forecasting model from the specified stage and uses it to forecast power production over the next five days."
   ]
  },
  {
   "cell_type": "code",
   "execution_count": 0,
   "metadata": {
    "application/vnd.databricks.v1+cell": {
     "inputWidgets": {},
     "nuid": "8e45030f-0d7c-4ecb-85e6-007df7c319a5",
     "showTitle": false,
     "title": ""
    }
   },
   "outputs": [
    {
     "data": {
      "text/html": [
       "<style scoped>\n",
       "  .ansiout {\n",
       "    display: block;\n",
       "    unicode-bidi: embed;\n",
       "    white-space: pre-wrap;\n",
       "    word-wrap: break-word;\n",
       "    word-break: break-all;\n",
       "    font-family: \"Source Code Pro\", \"Menlo\", monospace;;\n",
       "    font-size: 13px;\n",
       "    color: #555;\n",
       "    margin-left: 4px;\n",
       "    line-height: 19px;\n",
       "  }\n",
       "</style>\n",
       "<div class=\"ansiout\"></div>"
      ]
     },
     "metadata": {
      "application/vnd.databricks.v1+output": {
       "addedWidgets": {},
       "arguments": {},
       "data": "<div class=\"ansiout\"></div>",
       "datasetInfos": [],
       "metadata": {},
       "removedWidgets": [],
       "type": "html"
      }
     },
     "output_type": "display_data"
    }
   ],
   "source": [
    "def plot(model_name, model_stage, model_version, power_predictions, past_power_output):\n",
    "  import pandas as pd\n",
    "  import matplotlib.dates as mdates\n",
    "  from matplotlib import pyplot as plt\n",
    "  index = power_predictions.index\n",
    "  fig = plt.figure(figsize=(11, 7))\n",
    "  ax = fig.add_subplot(111)\n",
    "  ax.set_xlabel(\"Date\", size=20, labelpad=20)\n",
    "  ax.set_ylabel(\"Power\\noutput\\n(MW)\", size=20, labelpad=60, rotation=0)\n",
    "  ax.tick_params(axis='both', which='major', labelsize=17)\n",
    "  ax.xaxis.set_major_formatter(mdates.DateFormatter('%m/%d'))\n",
    "  ax.plot(index[:len(past_power_output)], past_power_output, label=\"True\", color=\"red\", alpha=0.5, linewidth=4)\n",
    "  ax.plot(index, power_predictions.squeeze(), \"--\", label=\"Predicted by '%s'\\nin stage '%s' (Version %d)\" % (model_name, model_stage, model_version), color=\"blue\", linewidth=3)\n",
    "  ax.set_ylim(ymin=0, ymax=max(3500, int(max(power_predictions.values) * 1.3)))\n",
    "  ax.legend(fontsize=14)\n",
    "  plt.title(\"Wind farm power output and projections\", size=24, pad=20)\n",
    "  plt.tight_layout()\n",
    "  display(plt.show())\n",
    "  \n",
    "def forecast_power(model_name, model_stage):\n",
    "  from mlflow.tracking.client import MlflowClient\n",
    "  client = MlflowClient()\n",
    "  model_version = client.get_latest_versions(model_name, stages=[model_stage])[0].version\n",
    "  model_uri = \"models:/{model_name}/{model_stage}\".format(model_name=model_name, model_stage=model_stage)\n",
    "  model = mlflow.pyfunc.load_model(model_uri)\n",
    "  weather_data, past_power_output = get_weather_and_forecast()\n",
    "  power_predictions = pd.DataFrame(model.predict(weather_data))\n",
    "  power_predictions.index = pd.to_datetime(weather_data.index)\n",
    "  print(power_predictions)\n",
    "  plot(model_name, model_stage, int(model_version), power_predictions, past_power_output)"
   ]
  },
  {
   "cell_type": "code",
   "execution_count": 0,
   "metadata": {
    "application/vnd.databricks.v1+cell": {
     "inputWidgets": {},
     "nuid": "9b24911e-ebd0-4863-8a45-26013c8b8b26",
     "showTitle": false,
     "title": ""
    }
   },
   "outputs": [
    {
     "data": {
      "text/html": [
       "<style scoped>\n",
       "  .ansiout {\n",
       "    display: block;\n",
       "    unicode-bidi: embed;\n",
       "    white-space: pre-wrap;\n",
       "    word-wrap: break-word;\n",
       "    word-break: break-all;\n",
       "    font-family: \"Source Code Pro\", \"Menlo\", monospace;;\n",
       "    font-size: 13px;\n",
       "    color: #555;\n",
       "    margin-left: 4px;\n",
       "    line-height: 19px;\n",
       "  }\n",
       "</style>\n",
       "<div class=\"ansiout\">                      0\n",
       "2020-12-22  1882.399048\n",
       "2020-12-23  2356.140381\n",
       "2020-12-24  3478.461914\n",
       "2020-12-25  4541.728027\n",
       "2020-12-26  4276.208496\n",
       "2020-12-27  2688.626953\n",
       "2020-12-28  3815.813965\n",
       "2020-12-29  5309.614258\n",
       "2020-12-30  3126.899658\n",
       "2020-12-31  2152.014648\n",
       "</div>"
      ]
     },
     "metadata": {
      "application/vnd.databricks.v1+output": {
       "addedWidgets": {},
       "arguments": {},
       "data": "<div class=\"ansiout\">                      0\n2020-12-22  1882.399048\n2020-12-23  2356.140381\n2020-12-24  3478.461914\n2020-12-25  4541.728027\n2020-12-26  4276.208496\n2020-12-27  2688.626953\n2020-12-28  3815.813965\n2020-12-29  5309.614258\n2020-12-30  3126.899658\n2020-12-31  2152.014648\n</div>",
       "datasetInfos": [],
       "metadata": {},
       "removedWidgets": [],
       "type": "html"
      }
     },
     "output_type": "display_data"
    },
    {
     "data": {
      "image/png": "[encoded data removed]"
     },
     "metadata": {
      "application/vnd.databricks.v1+output": {
       "addedWidgets": {},
       "arguments": {},
       "data": "data:image/png;base64,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",
       "datasetInfos": [],
       "metadata": {
        "imageDimensions": {
         "height": 496,
         "width": 784
        }
       },
       "removedWidgets": [],
       "type": "image"
      },
      "image/png": {
       "height": 496,
       "width": 784
      }
     },
     "output_type": "display_data"
    }
   ],
   "source": [
    "forecast_power(model_name, \"Production\")"
   ]
  },
  {
   "cell_type": "markdown",
   "metadata": {
    "application/vnd.databricks.v1+cell": {
     "inputWidgets": {},
     "nuid": "35d829ab-9ac8-48b1-8e14-073e690d2a5b",
     "showTitle": false,
     "title": ""
    }
   },
   "source": [
    "# Create and deploy a new model version\n",
    "\n",
    "The MLflow Model Registry enables you to create multiple model versions corresponding to a single registered model. By performing stage transitions, you can seamlessly integrate new model versions into your staging or production environments. Model versions can be trained in different machine learning frameworks (such as `scikit-learn` and `tensorflow`); MLflow's `python_function` provides a consistent inference API across machine learning frameworks, ensuring that the same application code continues to work when a new model version is introduced.\n",
    "\n",
    "The following sections create a new version of the power forecasting model using scikit-learn, perform model testing in **Staging**, and update the production application by transitioning the new model version to **Production**."
   ]
  },
  {
   "cell_type": "markdown",
   "metadata": {
    "application/vnd.databricks.v1+cell": {
     "inputWidgets": {},
     "nuid": "c2ad1fd7-01a8-4c8f-9768-d5ca7238517e",
     "showTitle": false,
     "title": ""
    }
   },
   "source": [
    "## Create a new model version\n",
    "\n",
    "Classical machine learning techniques are also effective for power forecasting. The following cell trains a random forest model using scikit-learn and registers it with the MLflow Model Registry via the `mlflow.sklearn.log_model()` function."
   ]
  },
  {
   "cell_type": "code",
   "execution_count": 0,
   "metadata": {
    "application/vnd.databricks.v1+cell": {
     "inputWidgets": {},
     "nuid": "4396bc0e-0b60-439b-b657-6f1b0e9357f4",
     "showTitle": false,
     "title": ""
    }
   },
   "outputs": [
    {
     "data": {
      "text/html": [
       "<style scoped>\n",
       "  .ansiout {\n",
       "    display: block;\n",
       "    unicode-bidi: embed;\n",
       "    white-space: pre-wrap;\n",
       "    word-wrap: break-word;\n",
       "    word-break: break-all;\n",
       "    font-family: \"Source Code Pro\", \"Menlo\", monospace;;\n",
       "    font-size: 13px;\n",
       "    color: #555;\n",
       "    margin-left: 4px;\n",
       "    line-height: 19px;\n",
       "  }\n",
       "</style>\n",
       "<div class=\"ansiout\">Validation MSE: 44940\n",
       "Registered model &#39;power-forecasting-model&#39; already exists. Creating a new version of this model...\n",
       "2021/10/12 05:49:56 INFO mlflow.tracking._model_registry.client: Waiting up to 300 seconds for model version to finish creation.                     Model name: power-forecasting-model, version 2\n",
       "Created version &#39;2&#39; of model &#39;power-forecasting-model&#39;.\n",
       "</div>"
      ]
     },
     "metadata": {
      "application/vnd.databricks.v1+output": {
       "addedWidgets": {},
       "arguments": {},
       "data": "<div class=\"ansiout\">Validation MSE: 44940\nRegistered model &#39;power-forecasting-model&#39; already exists. Creating a new version of this model...\n2021/10/12 05:49:56 INFO mlflow.tracking._model_registry.client: Waiting up to 300 seconds for model version to finish creation.                     Model name: power-forecasting-model, version 2\nCreated version &#39;2&#39; of model &#39;power-forecasting-model&#39;.\n</div>",
       "datasetInfos": [],
       "metadata": {},
       "removedWidgets": [],
       "type": "html"
      }
     },
     "output_type": "display_data"
    }
   ],
   "source": [
    "import mlflow.sklearn\n",
    "from sklearn.ensemble import RandomForestRegressor\n",
    "from sklearn.metrics import mean_squared_error\n",
    "\n",
    "with mlflow.start_run():\n",
    "  n_estimators = 300\n",
    "  mlflow.log_param(\"n_estimators\", n_estimators)\n",
    "  \n",
    "  rand_forest = RandomForestRegressor(n_estimators=n_estimators)\n",
    "  rand_forest.fit(X_train, y_train)\n",
    "\n",
    "  val_x, val_y = get_validation_data()\n",
    "  mse = mean_squared_error(rand_forest.predict(val_x), val_y)\n",
    "  print(\"Validation MSE: %d\" % mse)\n",
    "  mlflow.log_metric(\"mse\", mse)\n",
    "  \n",
    "  # Specify the `registered_model_name` parameter of the `mlflow.sklearn.log_model()`\n",
    "  # function to register the model with the MLflow Model Registry. This automatically\n",
    "  # creates a new model version\n",
    "  mlflow.sklearn.log_model(\n",
    "    sk_model=rand_forest,\n",
    "    artifact_path=\"sklearn-model\",\n",
    "    registered_model_name=model_name,\n",
    "  )"
   ]
  },
  {
   "cell_type": "markdown",
   "metadata": {
    "application/vnd.databricks.v1+cell": {
     "inputWidgets": {},
     "nuid": "8b33c397-0b4e-41d4-8f20-79723f1659dc",
     "showTitle": false,
     "title": ""
    }
   },
   "source": [
    "### Fetch the new model version ID using MLflow Model Registry Search\n",
    "\n",
    "The `MlflowClient.search_model_versions()` function searches for model versions by model name, MLflow run ID, or artifact source location. All model versions satisfying a particular filter query are returned.\n",
    "\n",
    "The following cell uses this search function to fetch the version ID of the new model. It searches for the maximum value of the version ID (that is, the most recent version)."
   ]
  },
  {
   "cell_type": "code",
   "execution_count": 0,
   "metadata": {
    "application/vnd.databricks.v1+cell": {
     "inputWidgets": {},
     "nuid": "1dd3b13b-b3b7-488a-9315-366c010461a3",
     "showTitle": false,
     "title": ""
    }
   },
   "outputs": [
    {
     "data": {
      "text/html": [
       "<style scoped>\n",
       "  .ansiout {\n",
       "    display: block;\n",
       "    unicode-bidi: embed;\n",
       "    white-space: pre-wrap;\n",
       "    word-wrap: break-word;\n",
       "    word-break: break-all;\n",
       "    font-family: \"Source Code Pro\", \"Menlo\", monospace;;\n",
       "    font-size: 13px;\n",
       "    color: #555;\n",
       "    margin-left: 4px;\n",
       "    line-height: 19px;\n",
       "  }\n",
       "</style>\n",
       "<div class=\"ansiout\"></div>"
      ]
     },
     "metadata": {
      "application/vnd.databricks.v1+output": {
       "addedWidgets": {},
       "arguments": {},
       "data": "<div class=\"ansiout\"></div>",
       "datasetInfos": [],
       "metadata": {},
       "removedWidgets": [],
       "type": "html"
      }
     },
     "output_type": "display_data"
    }
   ],
   "source": [
    "from mlflow.tracking.client import MlflowClient\n",
    "client = MlflowClient()\n",
    "\n",
    "model_version_infos = client.search_model_versions(\"name = '%s'\" % model_name)\n",
    "new_model_version = max([model_version_info.version for model_version_info in model_version_infos])"
   ]
  },
  {
   "cell_type": "markdown",
   "metadata": {
    "application/vnd.databricks.v1+cell": {
     "inputWidgets": {},
     "nuid": "5be0ca90-7910-4708-8e27-495345e8a43c",
     "showTitle": false,
     "title": ""
    }
   },
   "source": [
    "Wait for the new model version to become ready."
   ]
  },
  {
   "cell_type": "code",
   "execution_count": 0,
   "metadata": {
    "application/vnd.databricks.v1+cell": {
     "inputWidgets": {},
     "nuid": "adceb429-c7b7-4e7c-b56c-98f82f697079",
     "showTitle": false,
     "title": ""
    }
   },
   "outputs": [
    {
     "data": {
      "text/html": [
       "<style scoped>\n",
       "  .ansiout {\n",
       "    display: block;\n",
       "    unicode-bidi: embed;\n",
       "    white-space: pre-wrap;\n",
       "    word-wrap: break-word;\n",
       "    word-break: break-all;\n",
       "    font-family: \"Source Code Pro\", \"Menlo\", monospace;;\n",
       "    font-size: 13px;\n",
       "    color: #555;\n",
       "    margin-left: 4px;\n",
       "    line-height: 19px;\n",
       "  }\n",
       "</style>\n",
       "<div class=\"ansiout\">Model status: READY\n",
       "</div>"
      ]
     },
     "metadata": {
      "application/vnd.databricks.v1+output": {
       "addedWidgets": {},
       "arguments": {},
       "data": "<div class=\"ansiout\">Model status: READY\n</div>",
       "datasetInfos": [],
       "metadata": {},
       "removedWidgets": [],
       "type": "html"
      }
     },
     "output_type": "display_data"
    }
   ],
   "source": [
    "wait_until_ready(model_name, new_model_version)"
   ]
  },
  {
   "cell_type": "markdown",
   "metadata": {
    "application/vnd.databricks.v1+cell": {
     "inputWidgets": {},
     "nuid": "4db4cb3c-7db2-4216-9a07-0d7d9fb47657",
     "showTitle": false,
     "title": ""
    }
   },
   "source": [
    "## Add a description to the new model version"
   ]
  },
  {
   "cell_type": "code",
   "execution_count": 0,
   "metadata": {
    "application/vnd.databricks.v1+cell": {
     "inputWidgets": {},
     "nuid": "a8d0e6ad-65b2-4112-8a72-dca631f23c2a",
     "showTitle": false,
     "title": ""
    }
   },
   "outputs": [
    {
     "data": {
      "text/html": [
       "<style scoped>\n",
       "  .ansiout {\n",
       "    display: block;\n",
       "    unicode-bidi: embed;\n",
       "    white-space: pre-wrap;\n",
       "    word-wrap: break-word;\n",
       "    word-break: break-all;\n",
       "    font-family: \"Source Code Pro\", \"Menlo\", monospace;;\n",
       "    font-size: 13px;\n",
       "    color: #555;\n",
       "    margin-left: 4px;\n",
       "    line-height: 19px;\n",
       "  }\n",
       "</style>\n",
       "<div class=\"ansiout\">Out[21]: &lt;ModelVersion: creation_timestamp=1634017796872, current_stage=&#39;None&#39;, description=(&#39;This model version is a random forest containing 100 decision trees that was &#39;\n",
       " &#39;trained in scikit-learn.&#39;), last_updated_timestamp=1634017820956, name=&#39;power-forecasting-model&#39;, run_id=&#39;3432f146bb0c4b7fb3d3a68c6c263a98&#39;, run_link=&#39;&#39;, source=&#39;dbfs:/databricks/mlflow-tracking/1835400958258580/3432f146bb0c4b7fb3d3a68c6c263a98/artifacts/sklearn-model&#39;, status=&#39;READY&#39;, status_message=&#39;&#39;, tags={}, user_id=&#39;3699086396735236&#39;, version=&#39;2&#39;&gt;</div>"
      ]
     },
     "metadata": {
      "application/vnd.databricks.v1+output": {
       "addedWidgets": {},
       "arguments": {},
       "data": "<div class=\"ansiout\">Out[21]: &lt;ModelVersion: creation_timestamp=1634017796872, current_stage=&#39;None&#39;, description=(&#39;This model version is a random forest containing 100 decision trees that was &#39;\n &#39;trained in scikit-learn.&#39;), last_updated_timestamp=1634017820956, name=&#39;power-forecasting-model&#39;, run_id=&#39;3432f146bb0c4b7fb3d3a68c6c263a98&#39;, run_link=&#39;&#39;, source=&#39;dbfs:/databricks/mlflow-tracking/1835400958258580/3432f146bb0c4b7fb3d3a68c6c263a98/artifacts/sklearn-model&#39;, status=&#39;READY&#39;, status_message=&#39;&#39;, tags={}, user_id=&#39;3699086396735236&#39;, version=&#39;2&#39;&gt;</div>",
       "datasetInfos": [],
       "metadata": {},
       "removedWidgets": [],
       "type": "html"
      }
     },
     "output_type": "display_data"
    }
   ],
   "source": [
    "client.update_model_version(\n",
    "  name=model_name,\n",
    "  version=new_model_version,\n",
    "  description=\"This model version is a random forest containing 100 decision trees that was trained in scikit-learn.\"\n",
    ")"
   ]
  },
  {
   "cell_type": "markdown",
   "metadata": {
    "application/vnd.databricks.v1+cell": {
     "inputWidgets": {},
     "nuid": "e68d1287-5b3d-4938-923e-489ae0041fbd",
     "showTitle": false,
     "title": ""
    }
   },
   "source": [
    "## Transition the new model version to Staging\n",
    "\n",
    "Before deploying a model to a production application, it is often best practice to test it in a staging environment. The following cells transition the new model version to **Staging** and evaluate its performance."
   ]
  },
  {
   "cell_type": "code",
   "execution_count": 0,
   "metadata": {
    "application/vnd.databricks.v1+cell": {
     "inputWidgets": {},
     "nuid": "3cf3e74f-3021-4783-8e92-f9e40bdcafd9",
     "showTitle": false,
     "title": ""
    }
   },
   "outputs": [
    {
     "data": {
      "text/html": [
       "<style scoped>\n",
       "  .ansiout {\n",
       "    display: block;\n",
       "    unicode-bidi: embed;\n",
       "    white-space: pre-wrap;\n",
       "    word-wrap: break-word;\n",
       "    word-break: break-all;\n",
       "    font-family: \"Source Code Pro\", \"Menlo\", monospace;;\n",
       "    font-size: 13px;\n",
       "    color: #555;\n",
       "    margin-left: 4px;\n",
       "    line-height: 19px;\n",
       "  }\n",
       "</style>\n",
       "<div class=\"ansiout\">Out[22]: &lt;ModelVersion: creation_timestamp=1634017796872, current_stage=&#39;Staging&#39;, description=(&#39;This model version is a random forest containing 100 decision trees that was &#39;\n",
       " &#39;trained in scikit-learn.&#39;), last_updated_timestamp=1634017844932, name=&#39;power-forecasting-model&#39;, run_id=&#39;3432f146bb0c4b7fb3d3a68c6c263a98&#39;, run_link=&#39;&#39;, source=&#39;dbfs:/databricks/mlflow-tracking/1835400958258580/3432f146bb0c4b7fb3d3a68c6c263a98/artifacts/sklearn-model&#39;, status=&#39;READY&#39;, status_message=&#39;&#39;, tags={}, user_id=&#39;3699086396735236&#39;, version=&#39;2&#39;&gt;</div>"
      ]
     },
     "metadata": {
      "application/vnd.databricks.v1+output": {
       "addedWidgets": {},
       "arguments": {},
       "data": "<div class=\"ansiout\">Out[22]: &lt;ModelVersion: creation_timestamp=1634017796872, current_stage=&#39;Staging&#39;, description=(&#39;This model version is a random forest containing 100 decision trees that was &#39;\n &#39;trained in scikit-learn.&#39;), last_updated_timestamp=1634017844932, name=&#39;power-forecasting-model&#39;, run_id=&#39;3432f146bb0c4b7fb3d3a68c6c263a98&#39;, run_link=&#39;&#39;, source=&#39;dbfs:/databricks/mlflow-tracking/1835400958258580/3432f146bb0c4b7fb3d3a68c6c263a98/artifacts/sklearn-model&#39;, status=&#39;READY&#39;, status_message=&#39;&#39;, tags={}, user_id=&#39;3699086396735236&#39;, version=&#39;2&#39;&gt;</div>",
       "datasetInfos": [],
       "metadata": {},
       "removedWidgets": [],
       "type": "html"
      }
     },
     "output_type": "display_data"
    }
   ],
   "source": [
    "client.transition_model_version_stage(\n",
    "  name=model_name,\n",
    "  version=new_model_version,\n",
    "  stage=\"Staging\",\n",
    ")"
   ]
  },
  {
   "cell_type": "markdown",
   "metadata": {
    "application/vnd.databricks.v1+cell": {
     "inputWidgets": {},
     "nuid": "721e330b-0239-4850-a798-8164367e513a",
     "showTitle": false,
     "title": ""
    }
   },
   "source": [
    "Evaluate the new model's forecasting performance in **Staging**"
   ]
  },
  {
   "cell_type": "code",
   "execution_count": 0,
   "metadata": {
    "application/vnd.databricks.v1+cell": {
     "inputWidgets": {},
     "nuid": "d64fb34f-e702-4aa8-a198-7b7474e7e33c",
     "showTitle": false,
     "title": ""
    }
   },
   "outputs": [
    {
     "data": {
      "text/html": [
       "<style scoped>\n",
       "  .ansiout {\n",
       "    display: block;\n",
       "    unicode-bidi: embed;\n",
       "    white-space: pre-wrap;\n",
       "    word-wrap: break-word;\n",
       "    word-break: break-all;\n",
       "    font-family: \"Source Code Pro\", \"Menlo\", monospace;;\n",
       "    font-size: 13px;\n",
       "    color: #555;\n",
       "    margin-left: 4px;\n",
       "    line-height: 19px;\n",
       "  }\n",
       "</style>\n",
       "<div class=\"ansiout\">                      0\n",
       "2020-12-22  1186.794329\n",
       "2020-12-23  2327.890308\n",
       "2020-12-24  5350.121460\n",
       "2020-12-25  7700.974625\n",
       "2020-12-26  6899.390378\n",
       "2020-12-27  2814.126377\n",
       "2020-12-28  5145.748929\n",
       "2020-12-29  8717.083274\n",
       "2020-12-30  3819.491040\n",
       "2020-12-31  1469.577559\n",
       "</div>"
      ]
     },
     "metadata": {
      "application/vnd.databricks.v1+output": {
       "addedWidgets": {},
       "arguments": {},
       "data": "<div class=\"ansiout\">                      0\n2020-12-22  1186.794329\n2020-12-23  2327.890308\n2020-12-24  5350.121460\n2020-12-25  7700.974625\n2020-12-26  6899.390378\n2020-12-27  2814.126377\n2020-12-28  5145.748929\n2020-12-29  8717.083274\n2020-12-30  3819.491040\n2020-12-31  1469.577559\n</div>",
       "datasetInfos": [],
       "metadata": {},
       "removedWidgets": [],
       "type": "html"
      }
     },
     "output_type": "display_data"
    },
    {
     "data": {
      "image/png": "[encoded data removed]"
     },
     "metadata": {
      "application/vnd.databricks.v1+output": {
       "addedWidgets": {},
       "arguments": {},
       "data": "data:image/png;base64,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",
       "datasetInfos": [],
       "metadata": {
        "imageDimensions": {
         "height": 496,
         "width": 784
        }
       },
       "removedWidgets": [],
       "type": "image"
      },
      "image/png": {
       "height": 496,
       "width": 784
      }
     },
     "output_type": "display_data"
    }
   ],
   "source": [
    "forecast_power(model_name, \"Staging\")"
   ]
  },
  {
   "cell_type": "markdown",
   "metadata": {
    "application/vnd.databricks.v1+cell": {
     "inputWidgets": {},
     "nuid": "ec2fda4e-0f35-42eb-8f23-6c2f07c3b399",
     "showTitle": false,
     "title": ""
    }
   },
   "source": [
    "## Transition the new model version to **Production**\n",
    "\n",
    "After verifying that the new model version performs well in staging, the following cells transition the model version to **Production** and use the exact same application code from the **Forecast power output with the production model** section to produce a power forecast.\n",
    "\n",
    "There are now two model versions of the forecasting model in the **Production** stage: the model version trained in Tensorflow Keras and the version trained in scikit-learn. \n",
    "\n",
    "*When referencing a model by stage, the MLflow Model Model Registry automatically uses the latest production version. This enables you to update your production models without changing any application code*. \n",
    "\n",
    "See the documentation for how to transition the model to **Production** using the UI."
   ]
  },
  {
   "cell_type": "markdown",
   "metadata": {
    "application/vnd.databricks.v1+cell": {
     "inputWidgets": {},
     "nuid": "7611819a-d9cd-45f5-9dff-6d912b80c4b7",
     "showTitle": false,
     "title": ""
    }
   },
   "source": [
    "### Transition the new model version to Production using the API"
   ]
  },
  {
   "cell_type": "code",
   "execution_count": 0,
   "metadata": {
    "application/vnd.databricks.v1+cell": {
     "inputWidgets": {},
     "nuid": "e6363e7d-f2e6-4091-ae98-a0488f0ff008",
     "showTitle": false,
     "title": ""
    }
   },
   "outputs": [
    {
     "data": {
      "text/html": [
       "<style scoped>\n",
       "  .ansiout {\n",
       "    display: block;\n",
       "    unicode-bidi: embed;\n",
       "    white-space: pre-wrap;\n",
       "    word-wrap: break-word;\n",
       "    word-break: break-all;\n",
       "    font-family: \"Source Code Pro\", \"Menlo\", monospace;;\n",
       "    font-size: 13px;\n",
       "    color: #555;\n",
       "    margin-left: 4px;\n",
       "    line-height: 19px;\n",
       "  }\n",
       "</style>\n",
       "<div class=\"ansiout\">Out[24]: &lt;ModelVersion: creation_timestamp=1634017796872, current_stage=&#39;Production&#39;, description=(&#39;This model version is a random forest containing 100 decision trees that was &#39;\n",
       " &#39;trained in scikit-learn.&#39;), last_updated_timestamp=1634017872749, name=&#39;power-forecasting-model&#39;, run_id=&#39;3432f146bb0c4b7fb3d3a68c6c263a98&#39;, run_link=&#39;&#39;, source=&#39;dbfs:/databricks/mlflow-tracking/1835400958258580/3432f146bb0c4b7fb3d3a68c6c263a98/artifacts/sklearn-model&#39;, status=&#39;READY&#39;, status_message=&#39;&#39;, tags={}, user_id=&#39;3699086396735236&#39;, version=&#39;2&#39;&gt;</div>"
      ]
     },
     "metadata": {
      "application/vnd.databricks.v1+output": {
       "addedWidgets": {},
       "arguments": {},
       "data": "<div class=\"ansiout\">Out[24]: &lt;ModelVersion: creation_timestamp=1634017796872, current_stage=&#39;Production&#39;, description=(&#39;This model version is a random forest containing 100 decision trees that was &#39;\n &#39;trained in scikit-learn.&#39;), last_updated_timestamp=1634017872749, name=&#39;power-forecasting-model&#39;, run_id=&#39;3432f146bb0c4b7fb3d3a68c6c263a98&#39;, run_link=&#39;&#39;, source=&#39;dbfs:/databricks/mlflow-tracking/1835400958258580/3432f146bb0c4b7fb3d3a68c6c263a98/artifacts/sklearn-model&#39;, status=&#39;READY&#39;, status_message=&#39;&#39;, tags={}, user_id=&#39;3699086396735236&#39;, version=&#39;2&#39;&gt;</div>",
       "datasetInfos": [],
       "metadata": {},
       "removedWidgets": [],
       "type": "html"
      }
     },
     "output_type": "display_data"
    }
   ],
   "source": [
    "client.transition_model_version_stage(\n",
    "  name=model_name,\n",
    "  version=new_model_version,\n",
    "  stage=\"Production\",\n",
    ")"
   ]
  },
  {
   "cell_type": "code",
   "execution_count": 0,
   "metadata": {
    "application/vnd.databricks.v1+cell": {
     "inputWidgets": {},
     "nuid": "eb5f954b-dc01-4398-891a-a25421e0e67a",
     "showTitle": false,
     "title": ""
    }
   },
   "outputs": [
    {
     "data": {
      "text/html": [
       "<style scoped>\n",
       "  .ansiout {\n",
       "    display: block;\n",
       "    unicode-bidi: embed;\n",
       "    white-space: pre-wrap;\n",
       "    word-wrap: break-word;\n",
       "    word-break: break-all;\n",
       "    font-family: \"Source Code Pro\", \"Menlo\", monospace;;\n",
       "    font-size: 13px;\n",
       "    color: #555;\n",
       "    margin-left: 4px;\n",
       "    line-height: 19px;\n",
       "  }\n",
       "</style>\n",
       "<div class=\"ansiout\">                      0\n",
       "2020-12-22  1186.794329\n",
       "2020-12-23  2327.890308\n",
       "2020-12-24  5350.121460\n",
       "2020-12-25  7700.974625\n",
       "2020-12-26  6899.390378\n",
       "2020-12-27  2814.126377\n",
       "2020-12-28  5145.748929\n",
       "2020-12-29  8717.083274\n",
       "2020-12-30  3819.491040\n",
       "2020-12-31  1469.577559\n",
       "</div>"
      ]
     },
     "metadata": {
      "application/vnd.databricks.v1+output": {
       "addedWidgets": {},
       "arguments": {},
       "data": "<div class=\"ansiout\">                      0\n2020-12-22  1186.794329\n2020-12-23  2327.890308\n2020-12-24  5350.121460\n2020-12-25  7700.974625\n2020-12-26  6899.390378\n2020-12-27  2814.126377\n2020-12-28  5145.748929\n2020-12-29  8717.083274\n2020-12-30  3819.491040\n2020-12-31  1469.577559\n</div>",
       "datasetInfos": [],
       "metadata": {},
       "removedWidgets": [],
       "type": "html"
      }
     },
     "output_type": "display_data"
    },
    {
     "data": {
      "image/png": "[encoded data removed]"
     },
     "metadata": {
      "application/vnd.databricks.v1+output": {
       "addedWidgets": {},
       "arguments": {},
       "data": "data:image/png;base64,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",
       "datasetInfos": [],
       "metadata": {
        "imageDimensions": {
         "height": 496,
         "width": 784
        }
       },
       "removedWidgets": [],
       "type": "image"
      },
      "image/png": {
       "height": 496,
       "width": 784
      }
     },
     "output_type": "display_data"
    }
   ],
   "source": [
    "forecast_power(model_name, \"Production\")"
   ]
  },
  {
   "cell_type": "markdown",
   "metadata": {
    "application/vnd.databricks.v1+cell": {
     "inputWidgets": {},
     "nuid": "dc6b5629-0dd5-4497-87b7-bde512acf4c4",
     "showTitle": false,
     "title": ""
    }
   },
   "source": [
    "# Archive and delete models\n",
    "\n",
    "When a model version is no longer being used, you can archive it or delete it. You can also delete an entire registered model; this removes all of its associated model versions."
   ]
  },
  {
   "cell_type": "markdown",
   "metadata": {
    "application/vnd.databricks.v1+cell": {
     "inputWidgets": {},
     "nuid": "e320b581-d18f-4520-b22a-918a68bb29c5",
     "showTitle": false,
     "title": ""
    }
   },
   "source": [
    "## Archive `Version 1` of the power forecasting model\n",
    "\n",
    "Archive `Version 1` of the power forecasting model because it is no longer being used. You can archive models in the MLflow Model Registry UI or via the MLflow API. See the documentation for the UI workflow."
   ]
  },
  {
   "cell_type": "markdown",
   "metadata": {
    "application/vnd.databricks.v1+cell": {
     "inputWidgets": {},
     "nuid": "4d48fd12-e78f-4059-98dd-e6ff2b493f9d",
     "showTitle": false,
     "title": ""
    }
   },
   "source": [
    "### Archive `Version 1` using the MLflow API\n",
    "\n",
    "The following cell uses the `MlflowClient.update_model_version()` function to archive `Version 1` of the power forecasting model."
   ]
  },
  {
   "cell_type": "code",
   "execution_count": 0,
   "metadata": {
    "application/vnd.databricks.v1+cell": {
     "inputWidgets": {},
     "nuid": "41c182cb-2780-4486-9cf9-3295240da8d4",
     "showTitle": false,
     "title": ""
    }
   },
   "outputs": [
    {
     "data": {
      "text/html": [
       "<style scoped>\n",
       "  .ansiout {\n",
       "    display: block;\n",
       "    unicode-bidi: embed;\n",
       "    white-space: pre-wrap;\n",
       "    word-wrap: break-word;\n",
       "    word-break: break-all;\n",
       "    font-family: \"Source Code Pro\", \"Menlo\", monospace;;\n",
       "    font-size: 13px;\n",
       "    color: #555;\n",
       "    margin-left: 4px;\n",
       "    line-height: 19px;\n",
       "  }\n",
       "</style>\n",
       "<div class=\"ansiout\">Out[26]: &lt;ModelVersion: creation_timestamp=1612469631744, current_stage=&#39;Archived&#39;, description=(&#39;This model version was built using TensorFlow Keras. It is a feed-forward &#39;\n",
       " &#39;neural network with one hidden layer.&#39;), last_updated_timestamp=1612469661931, name=&#39;&#39;, run_id=&#39;41c0dd1acaf74ad8b35b76169fdebe41&#39;, run_link=&#39;&#39;, source=&#39;dbfs:/databricks/mlflow-tracking/2314812274044967/41c0dd1acaf74ad8b35b76169fdebe41/artifacts/model&#39;, status=&#39;READY&#39;, status_message=&#39;&#39;, tags={}, user_id=&#39;1486628617178110&#39;, version=&#39;1&#39;&gt;</div>"
      ]
     },
     "metadata": {
      "application/vnd.databricks.v1+output": {
       "addedWidgets": {},
       "arguments": {},
       "data": "<div class=\"ansiout\">Out[26]: &lt;ModelVersion: creation_timestamp=1612469631744, current_stage=&#39;Archived&#39;, description=(&#39;This model version was built using TensorFlow Keras. It is a feed-forward &#39;\n &#39;neural network with one hidden layer.&#39;), last_updated_timestamp=1612469661931, name=&#39;&#39;, run_id=&#39;41c0dd1acaf74ad8b35b76169fdebe41&#39;, run_link=&#39;&#39;, source=&#39;dbfs:/databricks/mlflow-tracking/2314812274044967/41c0dd1acaf74ad8b35b76169fdebe41/artifacts/model&#39;, status=&#39;READY&#39;, status_message=&#39;&#39;, tags={}, user_id=&#39;1486628617178110&#39;, version=&#39;1&#39;&gt;</div>",
       "datasetInfos": [],
       "metadata": {},
       "removedWidgets": [],
       "type": "html"
      }
     },
     "output_type": "display_data"
    }
   ],
   "source": [
    "from mlflow.tracking.client import MlflowClient\n",
    "\n",
    "client = MlflowClient()\n",
    "client.transition_model_version_stage(\n",
    "  name=model_name,\n",
    "  version=1,\n",
    "  stage=\"Archived\",\n",
    ")"
   ]
  },
  {
   "cell_type": "markdown",
   "metadata": {
    "application/vnd.databricks.v1+cell": {
     "inputWidgets": {},
     "nuid": "0eeed647-885f-45de-8ad3-c9f12ef90fe8",
     "showTitle": false,
     "title": ""
    }
   },
   "source": [
    "## Delete `Version 1` of the power forecasting model\n",
    "\n",
    "You can also use the MLflow UI or MLflow API to delete model versions. **Model version deletion is permanent and cannot be undone.**\n",
    "\n",
    "The following cells provide a reference for deleting `Version 1` of the power forecasting model using the MLflow API. See the documentation for how to delete a model version using the UI."
   ]
  },
  {
   "cell_type": "markdown",
   "metadata": {
    "application/vnd.databricks.v1+cell": {
     "inputWidgets": {},
     "nuid": "28a4e5a7-1684-45e2-a9d6-5d863013f2c2",
     "showTitle": false,
     "title": ""
    }
   },
   "source": [
    "### Delete `Version 1` using the MLflow API\n",
    "\n",
    "The following cell permanently deletes `Version 1` of the power forecasting model."
   ]
  },
  {
   "cell_type": "code",
   "execution_count": 0,
   "metadata": {
    "application/vnd.databricks.v1+cell": {
     "inputWidgets": {},
     "nuid": "872df218-283e-460a-8d46-537bb95da42f",
     "showTitle": false,
     "title": ""
    }
   },
   "outputs": [
    {
     "data": {
      "text/html": [
       "<style scoped>\n",
       "  .ansiout {\n",
       "    display: block;\n",
       "    unicode-bidi: embed;\n",
       "    white-space: pre-wrap;\n",
       "    word-wrap: break-word;\n",
       "    word-break: break-all;\n",
       "    font-family: \"Source Code Pro\", \"Menlo\", monospace;;\n",
       "    font-size: 13px;\n",
       "    color: #555;\n",
       "    margin-left: 4px;\n",
       "    line-height: 19px;\n",
       "  }\n",
       "</style>\n",
       "<div class=\"ansiout\"></div>"
      ]
     },
     "metadata": {
      "application/vnd.databricks.v1+output": {
       "addedWidgets": {},
       "arguments": {},
       "data": "<div class=\"ansiout\"></div>",
       "datasetInfos": [],
       "metadata": {},
       "removedWidgets": [],
       "type": "html"
      }
     },
     "output_type": "display_data"
    }
   ],
   "source": [
    "client.delete_model_version(\n",
    " name=model_name,\n",
    " version=1,\n",
    ")"
   ]
  },
  {
   "cell_type": "markdown",
   "metadata": {
    "application/vnd.databricks.v1+cell": {
     "inputWidgets": {},
     "nuid": "86827df0-8d12-4608-aeae-077c1358a050",
     "showTitle": false,
     "title": ""
    }
   },
   "source": [
    "## Delete the power forecasting model\n",
    "\n",
    "If you want to delete an entire registered model, including all of its model versions, you can use the `MlflowClient.delete_registered_model()` to do so. This action cannot be undone. You must first transition all model version stages to **None** or **Archived**.\n",
    "\n",
    "**Warning: The following cell permanently deletes the power forecasting model, including all of its versions.**"
   ]
  },
  {
   "cell_type": "code",
   "execution_count": 0,
   "metadata": {
    "application/vnd.databricks.v1+cell": {
     "inputWidgets": {},
     "nuid": "de7c7e77-13de-450a-8e7d-7b2b22a6744b",
     "showTitle": false,
     "title": ""
    }
   },
   "outputs": [
    {
     "data": {
      "text/html": [
       "<style scoped>\n",
       "  .ansiout {\n",
       "    display: block;\n",
       "    unicode-bidi: embed;\n",
       "    white-space: pre-wrap;\n",
       "    word-wrap: break-word;\n",
       "    word-break: break-all;\n",
       "    font-family: \"Source Code Pro\", \"Menlo\", monospace;;\n",
       "    font-size: 13px;\n",
       "    color: #555;\n",
       "    margin-left: 4px;\n",
       "    line-height: 19px;\n",
       "  }\n",
       "</style>\n",
       "<div class=\"ansiout\"></div>"
      ]
     },
     "metadata": {
      "application/vnd.databricks.v1+output": {
       "addedWidgets": {},
       "arguments": {},
       "data": "<div class=\"ansiout\"></div>",
       "datasetInfos": [],
       "metadata": {},
       "removedWidgets": [],
       "type": "html"
      }
     },
     "output_type": "display_data"
    }
   ],
   "source": [
    "client.transition_model_version_stage(\n",
    "  name=model_name,\n",
    "  version=2,\n",
    "  stage=\"Archived\"\n",
    ")\n",
    "\n",
    "client.delete_registered_model(name=model_name)"
   ]
  }
 ],
 "metadata": {
  "application/vnd.databricks.v1+notebook": {
   "dashboards": [],
   "language": "python",
   "notebookMetadata": {
    "pythonIndentUnit": 2
   },
   "notebookName": "MLflow Model Registry example",
   "notebookOrigID": 1835400958258580,
   "widgets": {}
  },
  "kernelspec": {
   "display_name": "Python 3 (ipykernel)",
   "language": "python",
   "name": "python3"
  },
  "language_info": {
   "codemirror_mode": {
    "name": "ipython",
    "version": 3
   },
   "file_extension": ".py",
   "mimetype": "text/x-python",
   "name": "python",
   "nbconvert_exporter": "python",
   "pygments_lexer": "ipython3",
   "version": "3.8.11"
  }
 },
 "nbformat": 4,
 "nbformat_minor": 1
}
